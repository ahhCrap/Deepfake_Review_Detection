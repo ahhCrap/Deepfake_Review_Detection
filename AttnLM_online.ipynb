{
  "nbformat": 4,
  "nbformat_minor": 0,
  "metadata": {
    "colab": {
      "name": "AttnLM_online.ipynb",
      "provenance": [],
      "collapsed_sections": [
        "URi3wv6idr03"
      ],
      "toc_visible": true,
      "authorship_tag": "ABX9TyNA3qrMYRuAxb3XLrIB1dDz",
      "include_colab_link": true
    },
    "kernelspec": {
      "name": "python3",
      "display_name": "Python 3"
    },
    "accelerator": "GPU"
  },
  "cells": [
    {
      "cell_type": "markdown",
      "metadata": {
        "id": "view-in-github",
        "colab_type": "text"
      },
      "source": [
        "<a href=\"https://colab.research.google.com/github/ahhCrap/Deepfake_Review_Detection/blob/master/AttnLM_online.ipynb\" target=\"_parent\"><img src=\"https://colab.research.google.com/assets/colab-badge.svg\" alt=\"Open In Colab\"/></a>"
      ]
    },
    {
      "cell_type": "markdown",
      "metadata": {
        "id": "ogZO832XuFav",
        "colab_type": "text"
      },
      "source": [
        "# Attentive Language Model"
      ]
    },
    {
      "cell_type": "markdown",
      "metadata": {
        "id": "vBpsztNquTBM",
        "colab_type": "text"
      },
      "source": [
        "function ClickConnect(){\n",
        "console.log(\"Working\"); \n",
        "document.querySelector(\"colab-toolbar-button#connect\").click() \n",
        "}\n",
        "setInterval(ClickConnect,60000)"
      ]
    },
    {
      "cell_type": "markdown",
      "metadata": {
        "id": "b5gP6Rg2uDK2",
        "colab_type": "text"
      },
      "source": [
        "## Imports"
      ]
    },
    {
      "cell_type": "code",
      "metadata": {
        "id": "RjzkQyFIr9u6",
        "colab_type": "code",
        "colab": {}
      },
      "source": [
        "import torch as t\n",
        "import torch.nn as nn\n",
        "import torch.optim as opt\n",
        "import torch.nn.functional as F\n",
        "\n",
        "from torch.nn.modules.loss import NLLLoss\n",
        "from torch.nn.utils.rnn import pad_sequence"
      ],
      "execution_count": 0,
      "outputs": []
    },
    {
      "cell_type": "code",
      "metadata": {
        "id": "hBWWE3ict4mD",
        "colab_type": "code",
        "colab": {}
      },
      "source": [
        "import numpy as np\n",
        "import pandas as pd\n",
        "import scipy.special as sps\n",
        "import matplotlib.pyplot as plt"
      ],
      "execution_count": 0,
      "outputs": []
    },
    {
      "cell_type": "code",
      "metadata": {
        "id": "7bEx6Eg9t83H",
        "colab_type": "code",
        "colab": {}
      },
      "source": [
        "import json\n",
        "import pickle\n",
        "\n",
        "from tqdm import tqdm\n",
        "from random import random\n",
        "from collections import defaultdict"
      ],
      "execution_count": 0,
      "outputs": []
    },
    {
      "cell_type": "code",
      "metadata": {
        "id": "O4SCXtxYtVsq",
        "colab_type": "code",
        "outputId": "54af1d86-d834-4d22-f1c8-a1a539966631",
        "colab": {
          "base_uri": "https://localhost:8080/",
          "height": 68
        }
      },
      "source": [
        "import nltk\n",
        "import nltk.translate.bleu_score as bleu\n",
        "from nltk.tokenize import word_tokenize\n",
        "nltk.download('punkt')"
      ],
      "execution_count": 0,
      "outputs": [
        {
          "output_type": "stream",
          "text": [
            "[nltk_data] Downloading package punkt to /root/nltk_data...\n",
            "[nltk_data]   Unzipping tokenizers/punkt.zip.\n"
          ],
          "name": "stdout"
        },
        {
          "output_type": "execute_result",
          "data": {
            "text/plain": [
              "True"
            ]
          },
          "metadata": {
            "tags": []
          },
          "execution_count": 4
        }
      ]
    },
    {
      "cell_type": "markdown",
      "metadata": {
        "id": "JG0DJ5GOC3Vq",
        "colab_type": "text"
      },
      "source": [
        "## Configuration"
      ]
    },
    {
      "cell_type": "code",
      "metadata": {
        "id": "zd2wUfiOC79i",
        "colab_type": "code",
        "outputId": "552f4046-06bf-432b-ecd9-5fb4d35d99c8",
        "colab": {
          "base_uri": "https://localhost:8080/",
          "height": 34
        }
      },
      "source": [
        "device = t.device(\"cuda:0\" if (t.cuda.is_available()) else \"cpu\")\n",
        "device"
      ],
      "execution_count": 0,
      "outputs": [
        {
          "output_type": "execute_result",
          "data": {
            "text/plain": [
              "device(type='cuda', index=0)"
            ]
          },
          "metadata": {
            "tags": []
          },
          "execution_count": 5
        }
      ]
    },
    {
      "cell_type": "code",
      "metadata": {
        "id": "rmFoBdFfm8m2",
        "colab_type": "code",
        "outputId": "5d45303a-f0c6-4dd9-a713-ac8d8acde20e",
        "colab": {
          "base_uri": "https://localhost:8080/",
          "height": 122
        }
      },
      "source": [
        "from google.colab import drive\n",
        "drive.mount('/content/drive')"
      ],
      "execution_count": 0,
      "outputs": [
        {
          "output_type": "stream",
          "text": [
            "Go to this URL in a browser: https://accounts.google.com/o/oauth2/auth?client_id=947318989803-6bn6qk8qdgf4n4g3pfee6491hc0brc4i.apps.googleusercontent.com&redirect_uri=urn%3aietf%3awg%3aoauth%3a2.0%3aoob&response_type=code&scope=email%20https%3a%2f%2fwww.googleapis.com%2fauth%2fdocs.test%20https%3a%2f%2fwww.googleapis.com%2fauth%2fdrive%20https%3a%2f%2fwww.googleapis.com%2fauth%2fdrive.photos.readonly%20https%3a%2f%2fwww.googleapis.com%2fauth%2fpeopleapi.readonly\n",
            "\n",
            "Enter your authorization code:\n",
            "··········\n",
            "Mounted at /content/drive\n"
          ],
          "name": "stdout"
        }
      ]
    },
    {
      "cell_type": "code",
      "metadata": {
        "id": "-EVwuYD-aLi3",
        "colab_type": "code",
        "colab": {}
      },
      "source": [
        "VOCAB_SIZE = 1024\n",
        "BATCH_SIZE = 64\n",
        "\n",
        "Q_DIM = K_DIM = V_DIM = 32\n",
        "HID_DIM = 1024\n",
        "EMB_DIM = 256\n",
        "\n",
        "MAX_LEN = 14\n",
        "MAX_SEQ = MAX_LEN + 1\n",
        "\n",
        "OPT = opt.Adam \n",
        "HEADS = 3\n",
        "N_LAY = 8\n",
        "LR = 1e-4"
      ],
      "execution_count": 0,
      "outputs": []
    },
    {
      "cell_type": "markdown",
      "metadata": {
        "id": "GcVFAEZpxHvt",
        "colab_type": "text"
      },
      "source": [
        "## Utils"
      ]
    },
    {
      "cell_type": "markdown",
      "metadata": {
        "id": "GmXMeJDx8LTN",
        "colab_type": "text"
      },
      "source": [
        "### Save"
      ]
    },
    {
      "cell_type": "code",
      "metadata": {
        "id": "8AyqXJB-8OXU",
        "colab_type": "code",
        "colab": {}
      },
      "source": [
        "def load(filename):\n",
        "    infile = open(filename, 'rb')\n",
        "    file = pickle.load(infile)\n",
        "    infile.close()\n",
        "    return file"
      ],
      "execution_count": 0,
      "outputs": []
    },
    {
      "cell_type": "code",
      "metadata": {
        "id": "cjh-FduN8Ob5",
        "colab_type": "code",
        "colab": {}
      },
      "source": [
        "def save(file, filename):\n",
        "    outfile = open(filename, 'wb')\n",
        "    pickle.dump(file,outfile)\n",
        "    outfile.close()"
      ],
      "execution_count": 0,
      "outputs": []
    },
    {
      "cell_type": "code",
      "metadata": {
        "id": "iJzdn2nVnUSW",
        "colab_type": "code",
        "colab": {}
      },
      "source": [
        "def record_checkpoint(e, model, losses, version):\n",
        "    t.save({\n",
        "        'epoch': e,\n",
        "        'model_state_dict': model.state_dict(),\n",
        "        'optimizer_state_dict': model.opt.state_dict(),\n",
        "        'losses': losses,\n",
        "        }, model_path + 'TRANS' + str(version) + '_checkpoint_' + str(e))"
      ],
      "execution_count": 0,
      "outputs": []
    },
    {
      "cell_type": "markdown",
      "metadata": {
        "id": "1Ex36dswGpu4",
        "colab_type": "text"
      },
      "source": [
        "### Text"
      ]
    },
    {
      "cell_type": "code",
      "metadata": {
        "id": "6VQ368iiksXG",
        "colab_type": "code",
        "colab": {}
      },
      "source": [
        "def tokenize_online(file_path):\n",
        "    tokenized_sentences = []\n",
        "    with open(file_path, 'r') as f:\n",
        "        for line in f:\n",
        "            tokenized_sentences += [word_tokenize(line.lower())]\n",
        "    return tokenized_sentences"
      ],
      "execution_count": 0,
      "outputs": []
    },
    {
      "cell_type": "code",
      "metadata": {
        "id": "AYaqEtpNIZfE",
        "colab_type": "code",
        "colab": {}
      },
      "source": [
        "def ids_from_sent(sent):\n",
        "    return [vocab.word2index[tok] for tok in sent]"
      ],
      "execution_count": 0,
      "outputs": []
    },
    {
      "cell_type": "code",
      "metadata": {
        "id": "BVHPChUyIZim",
        "colab_type": "code",
        "colab": {}
      },
      "source": [
        "def tens_from_text(text):\n",
        "    return ([t.tensor([SOS] + ids_from_sent(s), device=device) for s in text], \n",
        "            [t.tensor(ids_from_sent(s) + [EOS], device=device) for s in text])"
      ],
      "execution_count": 0,
      "outputs": []
    },
    {
      "cell_type": "code",
      "metadata": {
        "id": "5QU3PmWTapn2",
        "colab_type": "code",
        "colab": {}
      },
      "source": [
        "tok2read = {'PAD': ' ', 'UNK': 'unk', 'SOS': '>>', 'EOS': '<<'}"
      ],
      "execution_count": 0,
      "outputs": []
    },
    {
      "cell_type": "code",
      "metadata": {
        "id": "Z5q-5TV1Q2Le",
        "colab_type": "code",
        "colab": {}
      },
      "source": [
        "def raw2readable(sentence):\n",
        "    for i, w in enumerate(sentence):\n",
        "        if w in tok2read:\n",
        "            sentence[i] = tok2read[w]\n",
        "    return sentence"
      ],
      "execution_count": 0,
      "outputs": []
    },
    {
      "cell_type": "code",
      "metadata": {
        "id": "5ukOOiGKd_7A",
        "colab_type": "code",
        "colab": {}
      },
      "source": [
        "tok2adv = {'PAD': '', 'UNK': 'unk', 'SOS': '', 'EOS': ''}"
      ],
      "execution_count": 0,
      "outputs": []
    },
    {
      "cell_type": "code",
      "metadata": {
        "id": "Ofs4a0DAdgBq",
        "colab_type": "code",
        "colab": {}
      },
      "source": [
        "def raw2adversarial(sentence):\n",
        "    for i, w in enumerate(sentence):\n",
        "        if w in tok2adv:\n",
        "            sentence[i] = tok2adv[w]\n",
        "    return sentence"
      ],
      "execution_count": 0,
      "outputs": []
    },
    {
      "cell_type": "code",
      "metadata": {
        "colab_type": "code",
        "id": "kA5efbYEeg6S",
        "colab": {}
      },
      "source": [
        "def compute_size(dataset):\n",
        "    dataset_size = 0\n",
        "    with open(dataset, 'r') as f:\n",
        "        for line in f:\n",
        "            dataset_size += 1\n",
        "    return dataset_size"
      ],
      "execution_count": 0,
      "outputs": []
    },
    {
      "cell_type": "code",
      "metadata": {
        "id": "36RmL5YjC8lq",
        "colab_type": "code",
        "colab": {}
      },
      "source": [
        "def prep_sentences(sentences):\n",
        "    assert isinstance(sentences[0], list), \"'sentences' is not list of list\"\n",
        "    return [['SOS']+sent+['EOS']+['PAD']*(MAX_SEQ-len(sent)-2) for sent in sentences]"
      ],
      "execution_count": 0,
      "outputs": []
    },
    {
      "cell_type": "markdown",
      "metadata": {
        "id": "2YXd0-7J18lJ",
        "colab_type": "text"
      },
      "source": [
        "### Math"
      ]
    },
    {
      "cell_type": "code",
      "metadata": {
        "id": "z7qo7a2EW_vr",
        "colab_type": "code",
        "colab": {}
      },
      "source": [
        "def cal_angle(position, hid_idx, emb_dim):\n",
        "    return position / np.power(10000, 2 * (hid_idx // 2) / emb_dim)\n",
        "\n",
        "def get_posi_angle_vec(position, emb_dim):\n",
        "    return [cal_angle(position, hid_j, emb_dim) for hid_j in range(emb_dim)]\n",
        "\n",
        "def sinusoid_encoding_table(n_position, emb_dim=EMB_DIM):\n",
        "    sinusoid_table = np.array(\n",
        "        [get_posi_angle_vec(pos_i, emb_dim) for pos_i in range(n_position)])\n",
        "    sinusoid_table[:, 0::2] = np.sin(sinusoid_table[:, 0::2])  # dim 2i\n",
        "    sinusoid_table[:, 1::2] = np.cos(sinusoid_table[:, 1::2])  # dim 2i+1\n",
        "\n",
        "    return t.tensor(sinusoid_table, dtype=t.float, device=device)"
      ],
      "execution_count": 0,
      "outputs": []
    },
    {
      "cell_type": "code",
      "metadata": {
        "id": "SyzcadiAzr2E",
        "colab_type": "code",
        "colab": {}
      },
      "source": [
        "def pad_mask(seq_q, seq_k):\n",
        "    batch_size, len_q = seq_q.size()\n",
        "    batch_size, len_k = seq_k.size()\n",
        "    \n",
        "    # eq(zero) is PAD token\n",
        "    pad_attn_mask = seq_k.data.eq(0).unsqueeze(1)  # batch_size x 1 x len_k(=len_q), one is masking\n",
        "    return pad_attn_mask.expand(batch_size, len_q, len_k).to(device)  # batch_size x len_q x len_k"
      ],
      "execution_count": 0,
      "outputs": []
    },
    {
      "cell_type": "code",
      "metadata": {
        "id": "LMBJ2zFetMpj",
        "colab_type": "code",
        "colab": {}
      },
      "source": [
        "def seq_mask(batch_size, seq_len):\n",
        "    attn_shape = (batch_size, seq_len, seq_len)\n",
        "    subsequent_mask = t.triu(t.ones(attn_shape, dtype=t.bool, device=device), diagonal=1)\n",
        "    return subsequent_mask # subsequent_mask: [batch_size, seq, seq]"
      ],
      "execution_count": 0,
      "outputs": []
    },
    {
      "cell_type": "code",
      "metadata": {
        "id": "mG_HRamSfdP-",
        "colab_type": "code",
        "colab": {}
      },
      "source": [
        "def pad_like(tensor, t_like):\n",
        "    old_shape = tensor.shape\n",
        "    new_shape = t_like.shape\n",
        "    assert len(old_shape) == len(new_shape)\n",
        "    \n",
        "    diffs = []\n",
        "    for i in range(len(old_shape)):\n",
        "        diffs += [new_shape[i] - old_shape[i]]\n",
        "    pads = []\n",
        "    for d in diffs:\n",
        "        half = d//2\n",
        "        rest = d - half\n",
        "        pads.extend([half, rest])\n",
        "    \n",
        "    return F.pad(tensor, pads[::-1], mode='constant', value=PAD)"
      ],
      "execution_count": 0,
      "outputs": []
    },
    {
      "cell_type": "code",
      "metadata": {
        "id": "CNtJIfr2Rih-",
        "colab_type": "code",
        "colab": {}
      },
      "source": [
        "def count_params(model):\n",
        "    return sum(p.numel() for p in model.parameters() if p.requires_grad)"
      ],
      "execution_count": 0,
      "outputs": []
    },
    {
      "cell_type": "code",
      "metadata": {
        "id": "QXGpmqTP0zUL",
        "colab_type": "code",
        "colab": {}
      },
      "source": [
        "def truncated_permutation(n, max_n):\n",
        "    assert n < max_n\n",
        "\n",
        "    perm = set()\n",
        "    while len(perm) < n:\n",
        "        random_samples = np.random.randint(low=0, high=max_n-1, size=(n-len(perm)))\n",
        "        perm.update(random_samples.tolist())\n",
        "    return list(perm)"
      ],
      "execution_count": 0,
      "outputs": []
    },
    {
      "cell_type": "markdown",
      "metadata": {
        "id": "-im3A_gVIaNr",
        "colab_type": "text"
      },
      "source": [
        "## Dataset"
      ]
    },
    {
      "cell_type": "markdown",
      "metadata": {
        "id": "4tAxmuRlJUB-",
        "colab_type": "text"
      },
      "source": [
        "### Vocabulary"
      ]
    },
    {
      "cell_type": "code",
      "metadata": {
        "id": "SFfpoLbyIZc0",
        "colab_type": "code",
        "colab": {}
      },
      "source": [
        "PAD = 0\n",
        "UNK = 1\n",
        "SOS = 2\n",
        "EOS = 3\n",
        "\n",
        "class Vocab:\n",
        "    def __init__(self):\n",
        "        self.word2count = {}\n",
        "        self.word2index = {'PAD': PAD, 'UNK': UNK, \"SOS\": SOS, \"EOS\": EOS}\n",
        "        self.index2word = {PAD: 'PAD', UNK: 'UNK', SOS: \"SOS\", EOS: \"EOS\"}\n",
        "        self.n_words = 4 \n",
        "        \n",
        "    def add_text(self, text):\n",
        "        for sent in tqdm(text): # assuming the text is a list of sentences\n",
        "            for tok in sent:\n",
        "                self.add_word(tok)\n",
        "\n",
        "    def add_word(self, word):\n",
        "        try:\n",
        "            self.word2count[word] += 1\n",
        "        except KeyError:\n",
        "            self.word2index[word] = self.n_words\n",
        "            self.word2count[word] = 1\n",
        "            self.index2word[self.n_words] = word\n",
        "            self.n_words += 1\n",
        "\n",
        "    def trim(self, n_tokens):\n",
        "        n_tokens -= 4 # Since we have 4 special characters\n",
        "        \n",
        "        words = list(self.word2count.keys())\n",
        "        counts = list(self.word2count.values())\n",
        "        counts, words = zip(*sorted(zip(counts, words))) # order the words by their usage\n",
        "        \n",
        "        # ============= Re-create 'word2index' and 'word2count' ================\n",
        "        temp_word2index = {'PAD': PAD, 'UNK': UNK, \"SOS\": SOS, \"EOS\": EOS}\n",
        "        temp_word2count = {PAD: 'PAD', UNK: 'UNK', SOS: \"SOS\", EOS: \"EOS\"}\n",
        "        temp_n_words = 4         \n",
        "        \n",
        "        for w in list(words)[-n_tokens:]:\n",
        "            temp_word2index[w] = temp_n_words\n",
        "            temp_word2count[w] = self.word2count[w]\n",
        "            temp_n_words += 1\n",
        "            \n",
        "        self.word2index = defaultdict(lambda: UNK, temp_word2index)\n",
        "        self.word2count = defaultdict(lambda: 0, temp_word2count)\n",
        "        self.n_words = temp_n_words\n",
        "            \n",
        "        # ====================== Re-create 'index2word' ========================\n",
        "        self.index2word = {}    \n",
        "        for w, i in self.word2index.items():\n",
        "            self.index2word[i] = w"
      ],
      "execution_count": 0,
      "outputs": []
    },
    {
      "cell_type": "markdown",
      "metadata": {
        "id": "-e1Pr7skJXiz",
        "colab_type": "text"
      },
      "source": [
        "### Batcher"
      ]
    },
    {
      "cell_type": "code",
      "metadata": {
        "id": "2eH0a6SJAkBs",
        "colab_type": "code",
        "colab": {}
      },
      "source": [
        "# creates the batches and pads sequences\n",
        "class Batcher:\n",
        "    def __init__(self, pad=PAD):\n",
        "        self.pad = pad\n",
        "\n",
        "    def get_batches(self, tensors, batch_size):\n",
        "        n = len(tensors)\n",
        "        drop = n % batch_size\n",
        "\n",
        "        dropped = tensors[-drop:] if drop != 0 else []\n",
        "\n",
        "        batches = []\n",
        "        for i in range(n // batch_size - 1):\n",
        "           batches.append(tensors[i * batch_size:(i + 1) * batch_size]) \n",
        "        \n",
        "        return batches, dropped\n",
        "    \n",
        "    def pad_batches(self, batches, batch_first=True):\n",
        "        swap = (1, 0) if batch_first else (0, 1)\n",
        "        return [pad_sequence(batch, padding_value=self.pad).permute(swap).to(device) for batch in batches]\n",
        "\n",
        "    def insta_batch(self, sents):\n",
        "        assert isinstance(sents[0], list), \"'sents' is not list of list\"\n",
        "\n",
        "        temp_sents = sents + [['dummy'] * MAX_LEN]\n",
        "        (inp_tens, tar_tens) = tens_from_text(temp_sents)\n",
        "        return (pad_sequence(inp_tens, padding_value=self.pad)[:, :-1].permute(1, 0).to(device),\n",
        "                pad_sequence(tar_tens, padding_value=self.pad)[:, :-1].permute(1, 0).to(device))"
      ],
      "execution_count": 0,
      "outputs": []
    },
    {
      "cell_type": "markdown",
      "metadata": {
        "id": "esm2b4SJddMM",
        "colab_type": "text"
      },
      "source": [
        "## Architecture"
      ]
    },
    {
      "cell_type": "markdown",
      "metadata": {
        "id": "p9WO19NJuIAJ",
        "colab_type": "text"
      },
      "source": [
        "### Attention"
      ]
    },
    {
      "cell_type": "code",
      "metadata": {
        "id": "FAa7zs4t2M4X",
        "colab_type": "code",
        "colab": {}
      },
      "source": [
        "MASK = float('-inf')"
      ],
      "execution_count": 0,
      "outputs": []
    },
    {
      "cell_type": "code",
      "metadata": {
        "id": "O3rQsZE7tKBn",
        "colab_type": "code",
        "colab": {}
      },
      "source": [
        "class ScaledAttn(nn.Module):\n",
        "    def __init__(self):\n",
        "        super(ScaledAttn, self).__init__()\n",
        "\n",
        "    def forward(self, Q, K, V, attn_mask):\n",
        "        batch_size, n_heads, seq_len, dim = Q.shape\n",
        "\n",
        "        scores = t.matmul(Q, K.transpose(-1, -2)) / np.sqrt(dim) # scores: [batch_size x n_heads x len_q(=len_k) x len_k(=len_q)]\n",
        "        scores.masked_fill_(attn_mask, MASK) # Fills elements of self tensor with value where mask is one.\n",
        "        attn = nn.Softmax(dim=-1)(scores)\n",
        "        context = t.matmul(attn, V)\n",
        "        return context, attn"
      ],
      "execution_count": 0,
      "outputs": []
    },
    {
      "cell_type": "code",
      "metadata": {
        "id": "M7nCxUaom8s8",
        "colab_type": "code",
        "colab": {}
      },
      "source": [
        "# Modified for self-attention only\n",
        "class MHA(nn.Module):\n",
        "    def __init__(self, emb_dim=EMB_DIM, dim=Q_DIM, n_heads=HEADS):\n",
        "        super(MHA, self).__init__()\n",
        "        \n",
        "        self.dim = dim # dimension of querys, keys and values\n",
        "        self.emb_dim = emb_dim\n",
        "        self.n_heads = n_heads\n",
        "        \n",
        "        self.W_Q = nn.Linear(emb_dim, n_heads * dim) \n",
        "        self.W_K = nn.Linear(emb_dim, n_heads * dim) \n",
        "        self.W_V = nn.Linear(emb_dim, n_heads * dim) \n",
        "        \n",
        "        self.projection = nn.Linear(n_heads * dim, emb_dim)\n",
        "        self.lay_norm = nn.LayerNorm(emb_dim)\n",
        "\n",
        "    def forward(self, Q, K, V, attn_mask):\n",
        "        # q: [batch_size x seq_len x dim], k: [batch_size x seq_len x dim], v: [batch_size x seq_len x dim]\n",
        "        residual = Q\n",
        "        batch_size, seq_len, emb_dim = Q.shape\n",
        "\n",
        "        # (B, S, E) -proj-> (B, S, H x D) -split-> (B, S, H, D) -trans-> (B, H, S, D)\n",
        "        q_s = self.W_Q(Q).view(batch_size, seq_len, self.n_heads, self.dim).transpose(1, 2)  # q_s: [batch_size x n_heads x seq_len x dim]\n",
        "        k_s = self.W_K(K).view(batch_size, seq_len, self.n_heads, self.dim).transpose(1, 2)  # k_s: [batch_size x n_heads x seq_len x dim]\n",
        "        v_s = self.W_V(V).view(batch_size, seq_len, self.n_heads, self.dim).transpose(1, 2)  # v_s: [batch_size x n_heads x seq_len x dim]\n",
        "\n",
        "        attn_mask = attn_mask.unsqueeze(1).repeat(1, self.n_heads, 1, 1) # attn_mask : [batch_size x n_heads x seq_len x seq_len]\n",
        "\n",
        "        # context: [batch_size x n_heads x seq_len x dim], attn: [batch_size x n_heads x seq_len x seq_len]\n",
        "        context, attn = ScaledAttn()(q_s, k_s, v_s, attn_mask)\n",
        "        context = context.transpose(1, 2).contiguous().view(batch_size, seq_len, self.n_heads * self.dim) # context: [batch_size x seq_len x n_heads * dim]\n",
        "        output = self.projection(context)\n",
        "        return self.lay_norm(output + residual), attn # output: [batch_size x seq_len x emb_dim]"
      ],
      "execution_count": 0,
      "outputs": []
    },
    {
      "cell_type": "markdown",
      "metadata": {
        "id": "WafxZzuNd75q",
        "colab_type": "text"
      },
      "source": [
        "### Decoder"
      ]
    },
    {
      "cell_type": "code",
      "metadata": {
        "id": "bYtqzCJ1ucPz",
        "colab_type": "code",
        "colab": {}
      },
      "source": [
        "class PWFF(nn.Module):\n",
        "    def __init__(self, emb_dim=EMB_DIM, hid_dim=HID_DIM):\n",
        "        super(PWFF, self).__init__()\n",
        "        self.conv1 = nn.Conv1d(emb_dim, hid_dim, kernel_size=1)\n",
        "        self.conv2 = nn.Conv1d(hid_dim, emb_dim, kernel_size=1)\n",
        "        self.lay_norm = nn.LayerNorm(emb_dim)\n",
        "\n",
        "    def forward(self, inputs):\n",
        "        output = self.conv1(inputs.transpose(1, 2))\n",
        "        output = t.relu(output)\n",
        "        output = self.conv2(output).transpose(1, 2)\n",
        "        output = self.lay_norm(output + inputs)\n",
        "        return t.relu(output)"
      ],
      "execution_count": 0,
      "outputs": []
    },
    {
      "cell_type": "code",
      "metadata": {
        "id": "FOHEL06VHhHE",
        "colab_type": "code",
        "colab": {}
      },
      "source": [
        "class DecoderLayer(nn.Module):\n",
        "    def __init__(self, emb_dim=EMB_DIM, hid_dim=HID_DIM, dim=Q_DIM, n_heads=HEADS):\n",
        "        super(DecoderLayer, self).__init__()\n",
        "        self.mha = MHA(emb_dim, dim, n_heads)\n",
        "        self.pwff = PWFF(emb_dim, hid_dim)\n",
        "\n",
        "    def forward(self, inputs, mask):\n",
        "        outputs, self_attn = self.mha(inputs, inputs, inputs, mask)\n",
        "        outputs = self.pwff(outputs)\n",
        "        return outputs, self_attn"
      ],
      "execution_count": 0,
      "outputs": []
    },
    {
      "cell_type": "code",
      "metadata": {
        "id": "Rmq2iBwxHhKN",
        "colab_type": "code",
        "colab": {}
      },
      "source": [
        "class Decoder(nn.Module):\n",
        "    def __init__(self, emb_dim=EMB_DIM, hid_dim=HID_DIM, dim=Q_DIM, \n",
        "                 n_heads=HEADS, n_layers=N_LAY, vocab_size=VOCAB_SIZE):\n",
        "        super(Decoder, self).__init__()\n",
        "        self.tgt_emb = nn.Embedding(vocab_size, emb_dim)\n",
        "        self.pos_emb = nn.Embedding.from_pretrained(sinusoid_encoding_table(MAX_LEN+1+1, emb_dim), freeze=True)\n",
        "        self.layers = nn.ModuleList([DecoderLayer(emb_dim, hid_dim, dim, n_heads)] * n_layers)\n",
        "\n",
        "    def forward(self, inputs): # dec_inputs : [batch_size x target_len]\n",
        "        batch_size, seq_len = inputs.shape\n",
        "\n",
        "        target_emb = self.tgt_emb(inputs) \n",
        "        target_emb += self.pos_emb(t.tensor(\n",
        "            [[seq_len]+[*range(1, seq_len)]] * batch_size, dtype=t.long).to(device))\n",
        "\n",
        "        padding = pad_mask(inputs, inputs)\n",
        "        subseq = seq_mask(batch_size, seq_len)\n",
        "        attn_mask = t.gt((padding + subseq), 0)\n",
        "\n",
        "        attns = []\n",
        "        for layer in self.layers:\n",
        "            dec_outputs, attn = layer(target_emb, attn_mask)\n",
        "            attns += [attn]\n",
        "        \n",
        "        return dec_outputs, attns"
      ],
      "execution_count": 0,
      "outputs": []
    },
    {
      "cell_type": "code",
      "metadata": {
        "id": "Jv6Nn7m4H6Fj",
        "colab_type": "code",
        "colab": {}
      },
      "source": [
        "class HeadedDecoder(nn.Module):\n",
        "    def __init__(self, emb_dim=EMB_DIM, hid_dim=HID_DIM, dim=Q_DIM, \n",
        "                 n_heads=HEADS, n_layers=N_LAY, vocab_size=VOCAB_SIZE):\n",
        "        super(HeadedDecoder, self).__init__()\n",
        "        \n",
        "        self.decoder = Decoder(emb_dim, hid_dim, dim, n_heads, n_layers, vocab_size)\n",
        "        self.projection = nn.Linear(emb_dim, vocab_size, bias=False)\n",
        "\n",
        "        self.opt = OPT(self.parameters(), LR)\n",
        "\n",
        "    def forward(self, dec_inputs):\n",
        "        dec_outputs, attns = self.decoder(dec_inputs)\n",
        "        dec_logits = self.projection(dec_outputs) # dec_logits : [batch_size x src_vocab_size x tgt_vocab_size]\n",
        "        \n",
        "        probs = F.log_softmax(dec_logits, dim=-1)\n",
        "        return probs, attns"
      ],
      "execution_count": 0,
      "outputs": []
    },
    {
      "cell_type": "markdown",
      "metadata": {
        "id": "pft7NieSyN72",
        "colab_type": "text"
      },
      "source": [
        "## Optimization"
      ]
    },
    {
      "cell_type": "markdown",
      "metadata": {
        "id": "UhrIG4zWyTNX",
        "colab_type": "text"
      },
      "source": [
        "### Iteration"
      ]
    },
    {
      "cell_type": "code",
      "metadata": {
        "id": "awM6f_ZBzggw",
        "colab_type": "code",
        "colab": {}
      },
      "source": [
        "def train_iter(model, input, target):\n",
        "    model.train()\n",
        "    model.opt.zero_grad()\n",
        "    \n",
        "    batch_size, seq_len = input.shape\n",
        "\n",
        "    probs, _ = model(input)\n",
        "\n",
        "    loss = NLLLoss(reduction='mean')(\n",
        "        probs.reshape(batch_size * seq_len, VOCAB_SIZE), \n",
        "        target.reshape(batch_size * seq_len))\n",
        "        \n",
        "    loss.backward()\n",
        "    model.opt.step()\n",
        "    return loss.item()"
      ],
      "execution_count": 0,
      "outputs": []
    },
    {
      "cell_type": "markdown",
      "metadata": {
        "id": "kTT8uiaSyWJX",
        "colab_type": "text"
      },
      "source": [
        "### Epoch"
      ]
    },
    {
      "cell_type": "code",
      "metadata": {
        "id": "_QTqxScf_d49",
        "colab_type": "code",
        "colab": {}
      },
      "source": [
        "N_DOTS = 10"
      ],
      "execution_count": 0,
      "outputs": []
    },
    {
      "cell_type": "code",
      "metadata": {
        "id": "JjyFiSdr3Jtb",
        "colab_type": "code",
        "colab": {}
      },
      "source": [
        "def epoch(file_path, model, batch_size=BATCH_SIZE):\n",
        "    d_size = compute_size(file_path)\n",
        "    with open(file_path, 'r') as f:\n",
        "        i = 1\n",
        "        batch = []\n",
        "        batch_losses = []\n",
        "        for line in f:\n",
        "            batch += [word_tokenize(json.loads(line)['review'].lower())]\n",
        "\n",
        "            if len(batch) == batch_size:\n",
        "                inp_batch, tar_batch = batcher.insta_batch(batch)\n",
        "                batch_losses += [train_iter(model, inp_batch, tar_batch)]\n",
        "                batch = []\n",
        "            # ----------------------- UPDATING PROGRESS ------------------------\n",
        "            if len(batch_losses) > i * ((d_size / batch_size) // N_DOTS):\n",
        "                print('.', sep='', end='') \n",
        "                i += 1\n",
        "            # ------------------------------------------------------------------ \n",
        "    print(' |', sep=' ', end=' ')\n",
        "    return sum(batch_losses) / len(batch_losses)"
      ],
      "execution_count": 0,
      "outputs": []
    },
    {
      "cell_type": "markdown",
      "metadata": {
        "id": "FNGLOd_PyWS1",
        "colab_type": "text"
      },
      "source": [
        "### Training"
      ]
    },
    {
      "cell_type": "code",
      "metadata": {
        "id": "LAi8nhFi_pAq",
        "colab_type": "code",
        "colab": {}
      },
      "source": [
        "def train(file_path, model, epochs, batch_size=BATCH_SIZE):\n",
        "    d_size = compute_size(file_path)\n",
        "    losses = []\n",
        "    for i in range(e, epochs+e):\n",
        "        print('Epoch:', '{:3d}'.format(i), '|', sep=' ', end=' ')\n",
        "        losses += [epoch(file_path, model, batch_size)]\n",
        "            \n",
        "        print('Loss:', '{:7.6f}'.format(losses[-1]), '|')\n",
        "    return losses, epochs+e"
      ],
      "execution_count": 0,
      "outputs": []
    },
    {
      "cell_type": "markdown",
      "metadata": {
        "id": "uPUw531mirkD",
        "colab_type": "text"
      },
      "source": [
        "## Evaluation"
      ]
    },
    {
      "cell_type": "code",
      "metadata": {
        "id": "rrLw0TvCXonM",
        "colab_type": "code",
        "colab": {}
      },
      "source": [
        "def tensors2sentences(tensors, vocab, batched=True, at=2):\n",
        "    if not batched: tensors = tensors.unsqueeze(0)\n",
        "    sentences = []\n",
        "    for i in range(tensors.size(0)):\n",
        "        sentences += [[vocab.index2word[n.item()] for n in tensors[i, :]]]\n",
        "        if i > at: break\n",
        "    return sentences"
      ],
      "execution_count": 0,
      "outputs": []
    },
    {
      "cell_type": "code",
      "metadata": {
        "id": "vqAu5xNYH6JJ",
        "colab_type": "code",
        "colab": {}
      },
      "source": [
        "def greedy_decoder(model, start_symbol=SOS):\n",
        "    model.eval()\n",
        "\n",
        "    dec_input = t.zeros(1, MAX_LEN + 1, dtype=t.long).to(device) # PAD = 0\n",
        "    next_symbol = start_symbol\n",
        "\n",
        "    for i in range(MAX_SEQ):\n",
        "        dec_input[0][i] = next_symbol\n",
        "\n",
        "        dec_outputs, attn = model.decoder(dec_input)\n",
        "        dec_outputs = model.projection(dec_outputs)\n",
        "\n",
        "        probs, ids = dec_outputs.squeeze().max(dim=-1, keepdim=False)\n",
        "        next_symbol = ids.data[i].item()\n",
        "    \n",
        "    return ids, attn"
      ],
      "execution_count": 0,
      "outputs": []
    },
    {
      "cell_type": "code",
      "metadata": {
        "id": "hLmw3_Spfl62",
        "colab_type": "code",
        "colab": {}
      },
      "source": [
        "def topk_decoder(model, k=10, start_symbol=SOS):\n",
        "    model.eval()\n",
        "\n",
        "    dec_input = t.zeros(1, MAX_LEN + 1, dtype=t.long).to(device) # PAD = 0\n",
        "    next_symbol = start_symbol\n",
        "    dec_input[0][0] = next_symbol\n",
        "\n",
        "    for i in range(MAX_SEQ):\n",
        "        new_pool = int(k * (1 - i/MAX_SEQ) + 1)\n",
        "\n",
        "        probs, attn = model(dec_input)\n",
        "        top_vals, top_ids = t.topk(probs.squeeze(), k=new_pool, dim=-1)\n",
        "        top_ids = top_ids[i, :]\n",
        "\n",
        "        pick = int(random() * new_pool)\n",
        "        next_symbol = top_ids.data[pick].item()\n",
        "        dec_input[0][i] = next_symbol\n",
        "\n",
        "    return dec_input.squeeze(), attn"
      ],
      "execution_count": 0,
      "outputs": []
    },
    {
      "cell_type": "code",
      "metadata": {
        "id": "lzf1wossmyHH",
        "colab_type": "code",
        "colab": {}
      },
      "source": [
        "def temperature_decoder(model, temp=5, start_symbol=SOS):\n",
        "    model.eval()\n",
        "\n",
        "    dec_input = t.zeros(1, MAX_LEN + 1, dtype=t.long).to(device) # PAD = 0\n",
        "    next_symbol = start_symbol\n",
        "    dec_input[0][0] = next_symbol\n",
        "\n",
        "    new_temp = temp\n",
        "    for i in range(MAX_SEQ):\n",
        "        probs, attn = model(dec_input)\n",
        "        temperature_probs = F.softmax(probs / new_temp, dim=-1)[0, i, :].cpu().data.numpy()\n",
        "        next_symbol = np.random.choice(len(temperature_probs), size=(1), p=temperature_probs)\n",
        "        dec_input[0][i] = t.tensor(next_symbol, dtype=t.long)\n",
        "        \n",
        "        # Exponental decay\n",
        "        #new_temp /= 2\n",
        "        # Linear decay\n",
        "        new_temp = temp * (1 - (i+2)/MAX_SEQ) + 1e-6\n",
        "\n",
        "    return dec_input.squeeze(), attn"
      ],
      "execution_count": 0,
      "outputs": []
    },
    {
      "cell_type": "markdown",
      "metadata": {
        "id": "LVB61e5_PO42",
        "colab_type": "text"
      },
      "source": [
        "# Main"
      ]
    },
    {
      "cell_type": "markdown",
      "metadata": {
        "id": "URi3wv6idr03",
        "colab_type": "text"
      },
      "source": [
        "## Data Structuring"
      ]
    },
    {
      "cell_type": "code",
      "metadata": {
        "colab_type": "code",
        "id": "vij-eMsVbZ7D",
        "colab": {}
      },
      "source": [
        "dir_path = '/content/drive/My Drive/POLIMI/Thesis/Data/Datasets/Food/'\n",
        "model_path = '/content/drive/My Drive/POLIMI/Thesis/Data/Models/'"
      ],
      "execution_count": 0,
      "outputs": []
    },
    {
      "cell_type": "code",
      "metadata": {
        "id": "U9Kyu2VS52Is",
        "colab_type": "code",
        "outputId": "35c13d30-e3ef-420e-eac2-aab1d29d2700",
        "colab": {
          "base_uri": "https://localhost:8080/",
          "height": 34
        }
      },
      "source": [
        "train_name = 'test.jsonl'\n",
        "file_path = dir_path + train_name\n",
        "file_path"
      ],
      "execution_count": 0,
      "outputs": [
        {
          "output_type": "execute_result",
          "data": {
            "text/plain": [
              "'/content/drive/My Drive/POLIMI/Thesis/Data/Datasets/Food/test.jsonl'"
            ]
          },
          "metadata": {
            "tags": []
          },
          "execution_count": 159
        }
      ]
    },
    {
      "cell_type": "code",
      "metadata": {
        "colab_type": "code",
        "outputId": "34487cd3-b2e1-4a86-cfbf-071d2cadb2fa",
        "id": "cOwdoBtBbZ7N",
        "colab": {
          "base_uri": "https://localhost:8080/",
          "height": 34
        }
      },
      "source": [
        "vocab = Vocab()\n",
        "vocab.add_text(tokenize_online(file_path))\n",
        "vocab.trim(VOCAB_SIZE)"
      ],
      "execution_count": 0,
      "outputs": [
        {
          "output_type": "stream",
          "text": [
            "100%|██████████| 95439/95439 [00:00<00:00, 124851.59it/s]\n"
          ],
          "name": "stderr"
        }
      ]
    },
    {
      "cell_type": "code",
      "metadata": {
        "colab_type": "code",
        "id": "xR2c3FwRbZ7O",
        "colab": {}
      },
      "source": [
        "batcher = Batcher()"
      ],
      "execution_count": 0,
      "outputs": []
    },
    {
      "cell_type": "code",
      "metadata": {
        "id": "AhJ5FYdPdobp",
        "colab_type": "code",
        "outputId": "8e09b7c3-c669-4450-8f77-75b629cdfad0",
        "colab": {
          "base_uri": "https://localhost:8080/",
          "height": 34
        }
      },
      "source": [
        "compute_size(file_path)"
      ],
      "execution_count": 0,
      "outputs": [
        {
          "output_type": "execute_result",
          "data": {
            "text/plain": [
              "95439"
            ]
          },
          "metadata": {
            "tags": []
          },
          "execution_count": 162
        }
      ]
    },
    {
      "cell_type": "markdown",
      "metadata": {
        "id": "ZKBtJhp_pdGU",
        "colab_type": "text"
      },
      "source": [
        "## Training"
      ]
    },
    {
      "cell_type": "code",
      "metadata": {
        "id": "kQt-BPnUqi6h",
        "colab_type": "code",
        "outputId": "2329fac2-cc51-4742-ea97-71f91c25084d",
        "colab": {
          "base_uri": "https://localhost:8080/",
          "height": 34
        }
      },
      "source": [
        "model = HeadedDecoder(EMB_DIM, HID_DIM, Q_DIM, HEADS, N_LAY, VOCAB_SIZE).to(device)\n",
        "count_params(model)"
      ],
      "execution_count": 0,
      "outputs": [
        {
          "output_type": "execute_result",
          "data": {
            "text/plain": [
              "1149728"
            ]
          },
          "metadata": {
            "tags": []
          },
          "execution_count": 163
        }
      ]
    },
    {
      "cell_type": "code",
      "metadata": {
        "id": "ftScep1DVkDc",
        "colab_type": "code",
        "colab": {}
      },
      "source": [
        "RESTART = True"
      ],
      "execution_count": 0,
      "outputs": []
    },
    {
      "cell_type": "code",
      "metadata": {
        "id": "oFaAfDj5MjO3",
        "colab_type": "code",
        "colab": {}
      },
      "source": [
        "if RESTART:\n",
        "    e = 0\n",
        "    losses = []\n",
        "else:\n",
        "    VERSION = 2\n",
        "    e = 16\n",
        "\n",
        "    checkpoint = t.load(model_path + 'TRANS' +  str(VERSION) + '_checkpoint_' + str(e), map_location=t.device(device))\n",
        "    \n",
        "    model.load_state_dict(checkpoint['model_state_dict'])\n",
        "    model.opt.load_state_dict(checkpoint['optimizer_state_dict'])\n",
        "\n",
        "    e = checkpoint['epoch']\n",
        "\n",
        "    losses = checkpoint['losses']\n",
        "    model.train()"
      ],
      "execution_count": 0,
      "outputs": []
    },
    {
      "cell_type": "code",
      "metadata": {
        "id": "p6DvjcNrMyq2",
        "colab_type": "code",
        "colab": {}
      },
      "source": [
        "VERSION = 2"
      ],
      "execution_count": 0,
      "outputs": []
    },
    {
      "cell_type": "code",
      "metadata": {
        "id": "F-zTVIvBUXOi",
        "colab_type": "code",
        "colab": {}
      },
      "source": [
        "EPOCHS = 16\n",
        "TIMES = 1\n",
        "START = 0\n",
        "MID = False"
      ],
      "execution_count": 0,
      "outputs": []
    },
    {
      "cell_type": "code",
      "metadata": {
        "id": "ytvfDr8EUabr",
        "colab_type": "code",
        "outputId": "f08c6ba1-db2d-43d7-925c-21438b71d5ea",
        "colab": {
          "base_uri": "https://localhost:8080/",
          "height": 306
        }
      },
      "source": [
        "for j in range(START, START + TIMES):\n",
        "\n",
        "    # -------------------------- PARAMETERS SETTING ----------------------------\n",
        "    lr = LR\n",
        "    epcs =  EPOCHS \n",
        "    batch_size = BATCH_SIZE * (2**j)\n",
        "    if MID is True: \n",
        "        model.opt = OPT(model.parameters(), lr, betas=[0.9, 0.999])\n",
        "    print('Batch Size:', batch_size, '|', 'Learning Rate:', lr)\n",
        "    # --------------------------------------------------------------------------\n",
        "\n",
        "    loss, e = train(file_path, model, epcs, batch_size)\n",
        "    losses += loss\n",
        "\n",
        "    record_checkpoint(e, model, losses, VERSION)"
      ],
      "execution_count": 0,
      "outputs": [
        {
          "output_type": "stream",
          "text": [
            "Batch Size: 64 | Learning Rate: 0.0001\n",
            "Epoch:   0 | .......... | Loss: 2.241120 |\n",
            "Epoch:   1 | .......... | Loss: 1.834055 |\n",
            "Epoch:   2 | .......... | Loss: 1.760567 |\n",
            "Epoch:   3 | .......... | Loss: 1.719383 |\n",
            "Epoch:   4 | .......... | Loss: 1.690709 |\n",
            "Epoch:   5 | .......... | Loss: 1.668445 |\n",
            "Epoch:   6 | .......... | Loss: 1.650018 |\n",
            "Epoch:   7 | .......... | Loss: 1.634321 |\n",
            "Epoch:   8 | .......... | Loss: 1.620717 |\n",
            "Epoch:   9 | .......... | Loss: 1.608665 |\n",
            "Epoch:  10 | .......... | Loss: 1.597857 |\n",
            "Epoch:  11 | .......... | Loss: 1.587986 |\n",
            "Epoch:  12 | .......... | Loss: 1.578884 |\n",
            "Epoch:  13 | .......... | Loss: 1.570377 |\n",
            "Epoch:  14 | .......... | Loss: 1.562415 |\n",
            "Epoch:  15 | .......... | Loss: 1.554859 |\n"
          ],
          "name": "stdout"
        }
      ]
    },
    {
      "cell_type": "markdown",
      "metadata": {
        "id": "hSjNWaApU4AN",
        "colab_type": "text"
      },
      "source": [
        "## Evaluation"
      ]
    },
    {
      "cell_type": "code",
      "metadata": {
        "id": "tFGfqABUgrm_",
        "colab_type": "code",
        "colab": {}
      },
      "source": [
        "TAKE = True"
      ],
      "execution_count": 0,
      "outputs": []
    },
    {
      "cell_type": "code",
      "metadata": {
        "id": "RZGkWfdmgn6P",
        "colab_type": "code",
        "colab": {}
      },
      "source": [
        "if TAKE:\n",
        "    EPOCH_COMPARE = 16\n",
        "    VERSION_COMPARE = 33\n",
        "\n",
        "    checkpoint_compare = t.load(\n",
        "        model_path + str(VERSION_COMPARE) + '_checkpoint_' + str(EPOCH_COMPARE), \n",
        "        map_location=t.device(device))\n",
        "    \n",
        "    nll_losses_compare = checkpoint_compare['nll_losses']\n",
        "    # kld_losses_compare = checkpoint_compare['kld_losses']"
      ],
      "execution_count": 0,
      "outputs": []
    },
    {
      "cell_type": "code",
      "metadata": {
        "id": "FqDdppe_-pe9",
        "colab_type": "code",
        "outputId": "1ecd2536-1d55-409d-dea4-7604f191d161",
        "colab": {
          "base_uri": "https://localhost:8080/",
          "height": 370
        }
      },
      "source": [
        "plt.figure(figsize=(15, 5))\n",
        "plt.plot(losses, 'bX-' ,label='Transformer')\n",
        "plt.plot(nll_losses_compare, 'ro-' ,label='Variational AE')\n",
        "plt.title('Training')\n",
        "plt.xlabel('Epochs')\n",
        "plt.ylabel('NLL')\n",
        "plt.legend()\n",
        "plt.show()"
      ],
      "execution_count": 0,
      "outputs": [
        {
          "output_type": "display_data",
          "data": {
            "image/png": "[encoded data removed]",
            "text/plain": [
              "<Figure size 1080x360 with 1 Axes>"
            ]
          },
          "metadata": {
            "tags": []
          }
        }
      ]
    },
    {
      "cell_type": "code",
      "metadata": {
        "id": "j4C0mrALQqdW",
        "colab_type": "code",
        "outputId": "a6b0928a-3ac6-4521-ae73-6cc4057d92ad",
        "colab": {
          "base_uri": "https://localhost:8080/",
          "height": 34
        }
      },
      "source": [
        "dec_input, attn = greedy_decoder(model, SOS)\n",
        "'SOS '+' '.join(vocab.index2word[inp.item()] for inp in dec_input)"
      ],
      "execution_count": 0,
      "outputs": [
        {
          "output_type": "execute_result",
          "data": {
            "text/plain": [
              "'SOS great product EOS EOS EOS EOS EOS EOS EOS EOS EOS . EOS EOS EOS'"
            ]
          },
          "metadata": {
            "tags": []
          },
          "execution_count": 172
        }
      ]
    },
    {
      "cell_type": "code",
      "metadata": {
        "id": "j5mVLub1ZSGZ",
        "colab_type": "code",
        "outputId": "6877c4de-8a6c-4f07-f692-db0abc143bbf",
        "colab": {
          "base_uri": "https://localhost:8080/",
          "height": 34
        }
      },
      "source": [
        "dec_input, attn = topk_decoder(model, k=10, start_symbol=SOS)\n",
        "'SOS '+' '.join(vocab.index2word[inp.item()] for inp in dec_input)"
      ],
      "execution_count": 0,
      "outputs": [
        {
          "output_type": "execute_result",
          "data": {
            "text/plain": [
              "'SOS good UNK as PAD timely PAD UNK , PAD PAD PAD PAD UNK EOS PAD'"
            ]
          },
          "metadata": {
            "tags": []
          },
          "execution_count": 179
        }
      ]
    },
    {
      "cell_type": "code",
      "metadata": {
        "id": "CDRcPefMeRmm",
        "colab_type": "code",
        "outputId": "60f9aafe-4acc-46b3-95bf-91cdd45ded8f",
        "colab": {
          "base_uri": "https://localhost:8080/",
          "height": 34
        }
      },
      "source": [
        "dec_input, attn = temperature_decoder(model, temp=4, start_symbol=SOS)\n",
        "'SOS '+' '.join(vocab.index2word[inp.item()] for inp in dec_input)"
      ],
      "execution_count": 0,
      "outputs": [
        {
          "output_type": "execute_result",
          "data": {
            "text/plain": [
              "'SOS it looking PAD fast PAD PAD PAD PAD PAD PAD PAD PAD PAD PAD PAD'"
            ]
          },
          "metadata": {
            "tags": []
          },
          "execution_count": 174
        }
      ]
    },
    {
      "cell_type": "markdown",
      "metadata": {
        "id": "Dd7Uz02jyo-J",
        "colab_type": "text"
      },
      "source": [
        "## Adversarial Dataset Generation"
      ]
    },
    {
      "cell_type": "code",
      "metadata": {
        "id": "5H8v-rjD2IJm",
        "colab_type": "code",
        "colab": {}
      },
      "source": [
        "ADV_SIZE = 1024\n",
        "SAFETY = 50\n",
        "TEMP = 4\n",
        "K = 10"
      ],
      "execution_count": 0,
      "outputs": []
    },
    {
      "cell_type": "code",
      "metadata": {
        "id": "Bh9L1Aq4vFIC",
        "colab_type": "code",
        "outputId": "c1b672a7-55ec-4444-d4c6-aa4d4593b73f",
        "colab": {
          "base_uri": "https://localhost:8080/",
          "height": 34
        }
      },
      "source": [
        "adv_dataset = set()\n",
        "for i in tqdm(range(ADV_SIZE + SAFETY)):\n",
        "    out, _ = topk_decoder(model, k=K, start_symbol=SOS)\n",
        "    sentence = ['SOS'] + [vocab.index2word[inp.item()] for inp in out]\n",
        "    adv_dataset.add(' '.join(raw2adversarial(sentence))[1:])\n",
        "\n",
        "adv_dataset = sorted(list(adv_dataset))[:ADV_SIZE]"
      ],
      "execution_count": 0,
      "outputs": [
        {
          "output_type": "stream",
          "text": [
            "100%|██████████| 1074/1074 [02:50<00:00,  6.15it/s]\n"
          ],
          "name": "stderr"
        }
      ]
    },
    {
      "cell_type": "code",
      "metadata": {
        "id": "htkMxcYi4AdQ",
        "colab_type": "code",
        "outputId": "aca1ec3d-414a-4101-93a5-acf7d72b1097",
        "colab": {
          "base_uri": "https://localhost:8080/",
          "height": 34
        }
      },
      "source": [
        "GENERATE_IT = True\n",
        "if GENERATE_IT:\n",
        "    adv_path = dir_path + 'adversarial_k' + str(K) + '.jsonl'\n",
        "    with open(adv_path, 'w') as f:\n",
        "        i = 0\n",
        "        for r in tqdm(adv_dataset):\n",
        "            json.dump({'id': i, 'review': r}, f)\n",
        "            f.write('\\n')\n",
        "            i += 1"
      ],
      "execution_count": 0,
      "outputs": [
        {
          "output_type": "stream",
          "text": [
            "100%|██████████| 1024/1024 [00:00<00:00, 58762.72it/s]\n"
          ],
          "name": "stderr"
        }
      ]
    },
    {
      "cell_type": "code",
      "metadata": {
        "id": "oBI7qdVD2Q7c",
        "colab_type": "code",
        "outputId": "c820b51f-b5db-4a59-d295-907261060417",
        "colab": {
          "base_uri": "https://localhost:8080/",
          "height": 51
        }
      },
      "source": [
        "second_adv_dataset = set()\n",
        "for i in tqdm(range(ADV_SIZE + SAFETY)):\n",
        "    out, _ = temperature_decoder(model, temp=TEMP, start_symbol=SOS)\n",
        "    sentence = ['SOS'] + [vocab.index2word[inp.item()] for inp in out]\n",
        "    second_adv_dataset.add(' '.join(raw2adversarial(sentence))[1:])\n",
        "\n",
        "second_adv_dataset = sorted(list(second_adv_dataset))[:ADV_SIZE]"
      ],
      "execution_count": 0,
      "outputs": [
        {
          "output_type": "stream",
          "text": [
            "100%|██████████| 1074/1074 [02:53<00:00,  6.26it/s]\n"
          ],
          "name": "stderr"
        },
        {
          "output_type": "execute_result",
          "data": {
            "text/plain": [
              "1074"
            ]
          },
          "metadata": {
            "tags": []
          },
          "execution_count": 193
        }
      ]
    },
    {
      "cell_type": "code",
      "metadata": {
        "id": "tJA_qIU01u3p",
        "colab_type": "code",
        "outputId": "f7a8d97c-453d-43e6-d365-a9f41fa5bc76",
        "colab": {
          "base_uri": "https://localhost:8080/",
          "height": 34
        }
      },
      "source": [
        "GENERATE_IT = True\n",
        "if GENERATE_IT:\n",
        "    adv_path = dir_path + 'adversarial_temp' + str(TEMP) + '.jsonl'\n",
        "    with open(adv_path, 'w') as f:\n",
        "        i = 0\n",
        "        for r in tqdm(second_adv_dataset):\n",
        "            json.dump({'id': i, 'review': r}, f)\n",
        "            f.write('\\n')\n",
        "            i += 1"
      ],
      "execution_count": 0,
      "outputs": [
        {
          "output_type": "stream",
          "text": [
            "100%|██████████| 1024/1024 [00:00<00:00, 59647.35it/s]\n"
          ],
          "name": "stderr"
        }
      ]
    },
    {
      "cell_type": "code",
      "metadata": {
        "id": "C2yL0zW646gA",
        "colab_type": "code",
        "colab": {}
      },
      "source": [
        ""
      ],
      "execution_count": 0,
      "outputs": []
    }
  ]
}