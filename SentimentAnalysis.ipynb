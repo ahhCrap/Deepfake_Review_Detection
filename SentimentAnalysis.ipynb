{
  "nbformat": 4,
  "nbformat_minor": 0,
  "metadata": {
    "colab": {
      "name": "SentimentAnalysis.ipynb",
      "provenance": [],
      "toc_visible": true,
      "authorship_tag": "ABX9TyOd187KsWfaKSiebNuqS2vJ",
      "include_colab_link": true
    },
    "kernelspec": {
      "name": "python3",
      "display_name": "Python 3"
    },
    "accelerator": "GPU"
  },
  "cells": [
    {
      "cell_type": "markdown",
      "metadata": {
        "id": "view-in-github",
        "colab_type": "text"
      },
      "source": [
        "<a href=\"https://colab.research.google.com/github/ahhCrap/Deepfake_Review_Detection/blob/master/SentimentAnalysis.ipynb\" target=\"_parent\"><img src=\"https://colab.research.google.com/assets/colab-badge.svg\" alt=\"Open In Colab\"/></a>"
      ]
    },
    {
      "cell_type": "markdown",
      "metadata": {
        "id": "b5gP6Rg2uDK2",
        "colab_type": "text"
      },
      "source": [
        "## Imports"
      ]
    },
    {
      "cell_type": "code",
      "metadata": {
        "id": "cj-Th7tRgYoq",
        "colab_type": "code",
        "colab": {}
      },
      "source": [
        "import nltk \n",
        "import random"
      ],
      "execution_count": 0,
      "outputs": []
    },
    {
      "cell_type": "code",
      "metadata": {
        "id": "svYEY80ngOz7",
        "colab_type": "code",
        "colab": {}
      },
      "source": [
        "import numpy as np\n",
        "import pandas as pd\n",
        "import matplotlib.pyplot as plt"
      ],
      "execution_count": 0,
      "outputs": []
    },
    {
      "cell_type": "code",
      "metadata": {
        "id": "tWyl-kLogXFG",
        "colab_type": "code",
        "colab": {}
      },
      "source": [
        "from tqdm import tqdm"
      ],
      "execution_count": 0,
      "outputs": []
    },
    {
      "cell_type": "code",
      "metadata": {
        "id": "qGt2KlAahPFX",
        "colab_type": "code",
        "colab": {}
      },
      "source": [
        "import torch\n",
        "import torch.nn as nn\n",
        "\n",
        "from torch import optim\n",
        "from torchtext import data, datasets"
      ],
      "execution_count": 0,
      "outputs": []
    },
    {
      "cell_type": "markdown",
      "metadata": {
        "id": "JG0DJ5GOC3Vq",
        "colab_type": "text"
      },
      "source": [
        "## Configuration"
      ]
    },
    {
      "cell_type": "code",
      "metadata": {
        "id": "zd2wUfiOC79i",
        "colab_type": "code",
        "outputId": "5045df43-9c6e-46e5-e473-46120fcaf1d9",
        "colab": {
          "base_uri": "https://localhost:8080/",
          "height": 34
        }
      },
      "source": [
        "device = torch.device(\"cuda:0\" if (torch.cuda.is_available()) else \"cpu\")\n",
        "device"
      ],
      "execution_count": 0,
      "outputs": [
        {
          "output_type": "execute_result",
          "data": {
            "text/plain": [
              "device(type='cuda', index=0)"
            ]
          },
          "metadata": {
            "tags": []
          },
          "execution_count": 5
        }
      ]
    },
    {
      "cell_type": "code",
      "metadata": {
        "id": "rmFoBdFfm8m2",
        "colab_type": "code",
        "outputId": "38517f0d-7c88-4464-8d54-9e16f027ae4c",
        "colab": {
          "base_uri": "https://localhost:8080/",
          "height": 122
        }
      },
      "source": [
        "from google.colab import drive\n",
        "drive.mount('/content/drive')"
      ],
      "execution_count": 0,
      "outputs": [
        {
          "output_type": "stream",
          "text": [
            "Go to this URL in a browser: https://accounts.google.com/o/oauth2/auth?client_id=947318989803-6bn6qk8qdgf4n4g3pfee6491hc0brc4i.apps.googleusercontent.com&redirect_uri=urn%3aietf%3awg%3aoauth%3a2.0%3aoob&response_type=code&scope=email%20https%3a%2f%2fwww.googleapis.com%2fauth%2fdocs.test%20https%3a%2f%2fwww.googleapis.com%2fauth%2fdrive%20https%3a%2f%2fwww.googleapis.com%2fauth%2fdrive.photos.readonly%20https%3a%2f%2fwww.googleapis.com%2fauth%2fpeopleapi.readonly\n",
            "\n",
            "Enter your authorization code:\n",
            "··········\n",
            "Mounted at /content/drive\n"
          ],
          "name": "stdout"
        }
      ]
    },
    {
      "cell_type": "markdown",
      "metadata": {
        "id": "GcVFAEZpxHvt",
        "colab_type": "text"
      },
      "source": [
        "## Utils"
      ]
    },
    {
      "cell_type": "code",
      "metadata": {
        "id": "TWNxEVTae54L",
        "colab_type": "code",
        "colab": {}
      },
      "source": [
        "def binary_accuracy(preds, y):\n",
        "  rounded_preds = torch.round(torch.sigmoid(preds))\n",
        "  correct = (rounded_preds==y).float() #convert into float for division \n",
        "  acc = correct.sum() / len(correct)\n",
        "  return acc"
      ],
      "execution_count": 0,
      "outputs": []
    },
    {
      "cell_type": "markdown",
      "metadata": {
        "id": "lhRKNu4h6q0u",
        "colab_type": "text"
      },
      "source": [
        "# Sentiment Analysis"
      ]
    },
    {
      "cell_type": "markdown",
      "metadata": {
        "id": "1xvqgbUuhA_e",
        "colab_type": "text"
      },
      "source": [
        "## Datset Generation"
      ]
    },
    {
      "cell_type": "code",
      "metadata": {
        "id": "UHYBLuBWh6lP",
        "colab_type": "code",
        "colab": {}
      },
      "source": [
        "SEED = 1234\n",
        "torch.manual_seed(SEED)\n",
        "torch.backends.cudnn.deterministic = True"
      ],
      "execution_count": 0,
      "outputs": []
    },
    {
      "cell_type": "code",
      "metadata": {
        "id": "Ycbe2qyshBKV",
        "colab_type": "code",
        "colab": {}
      },
      "source": [
        "TEXT = data.Field(tokenize='spacy', include_lengths = True)\n",
        "LABEL = data.LabelField(dtype = torch.float)"
      ],
      "execution_count": 0,
      "outputs": []
    },
    {
      "cell_type": "code",
      "metadata": {
        "id": "9f1pCMcVhBSz",
        "colab_type": "code",
        "outputId": "aca95ee7-9c64-42fe-de98-930a5958fa20",
        "colab": {
          "base_uri": "https://localhost:8080/",
          "height": 51
        }
      },
      "source": [
        "train_data, test_data = datasets.IMDB.splits(TEXT, LABEL)"
      ],
      "execution_count": 0,
      "outputs": [
        {
          "output_type": "stream",
          "text": [
            "\raclImdb_v1.tar.gz:   0%|          | 0.00/84.1M [00:00<?, ?B/s]"
          ],
          "name": "stderr"
        },
        {
          "output_type": "stream",
          "text": [
            "downloading aclImdb_v1.tar.gz\n"
          ],
          "name": "stdout"
        },
        {
          "output_type": "stream",
          "text": [
            "aclImdb_v1.tar.gz: 100%|██████████| 84.1M/84.1M [00:02<00:00, 41.1MB/s]\n"
          ],
          "name": "stderr"
        }
      ]
    },
    {
      "cell_type": "code",
      "metadata": {
        "id": "C1vSOBAVh8w3",
        "colab_type": "code",
        "colab": {}
      },
      "source": [
        "train_data, valid_data = train_data.split(random_state = random.seed(SEED))"
      ],
      "execution_count": 0,
      "outputs": []
    },
    {
      "cell_type": "code",
      "metadata": {
        "id": "MTNW4iqOiLEa",
        "colab_type": "code",
        "outputId": "42c42f22-ab42-402a-ccd3-2bed940f7fd9",
        "colab": {
          "base_uri": "https://localhost:8080/",
          "height": 51
        }
      },
      "source": [
        "MAX_VOCAB_SIZE = 16384  # 2^14\n",
        "\n",
        "TEXT.build_vocab(train_data, \n",
        "                 max_size = MAX_VOCAB_SIZE, \n",
        "                 vectors = \"glove.6B.100d\", \n",
        "                 unk_init = torch.Tensor.normal_)\n",
        "\n",
        "LABEL.build_vocab(train_data)"
      ],
      "execution_count": 0,
      "outputs": [
        {
          "output_type": "stream",
          "text": [
            ".vector_cache/glove.6B.zip: 862MB [06:26, 2.23MB/s]                           \n",
            "100%|█████████▉| 398893/400000 [00:15<00:00, 27230.05it/s]"
          ],
          "name": "stderr"
        }
      ]
    },
    {
      "cell_type": "code",
      "metadata": {
        "id": "fW7kBZpsikVI",
        "colab_type": "code",
        "colab": {}
      },
      "source": [
        "BATCH_SIZE = 64\n",
        "\n",
        "train_iterator, valid_iterator, test_iterator = data.BucketIterator.splits(\n",
        "    (train_data, valid_data, test_data), \n",
        "    batch_size=BATCH_SIZE,\n",
        "    sort_within_batch=True,\n",
        "    device=device)"
      ],
      "execution_count": 0,
      "outputs": []
    },
    {
      "cell_type": "markdown",
      "metadata": {
        "id": "IomqW20s6T3T",
        "colab_type": "text"
      },
      "source": [
        "## Architecture"
      ]
    },
    {
      "cell_type": "code",
      "metadata": {
        "colab_type": "code",
        "id": "AhIehVUEkhPW",
        "colab": {}
      },
      "source": [
        "class RNN(nn.Module):\n",
        "  def __init__(self, input_dim, embedding_dim, hidden_dim, output_dim,\n",
        "               n_layers, bidirectional, dropout, pad_idx):\n",
        "    super(RNN, self).__init__()\n",
        "    self.embedding = nn.Embedding(input_dim, embedding_dim, padding_idx=pad_idx)\n",
        "    self.rnn = nn.LSTM(embedding_dim, \n",
        "                       hidden_dim, \n",
        "                       num_layers=n_layers, \n",
        "                       bidirectional=bidirectional, \n",
        "                       dropout=dropout)\n",
        "    self.linear = nn.Linear(2*hidden_dim, output_dim)\n",
        "    self.dropout = nn.Dropout(dropout)\n",
        "      \n",
        "  def forward(self, x, text_lengths):\n",
        "    embedded = self.dropout(self.embedding(x))\n",
        "    \n",
        "    packed_embedded = nn.utils.rnn.pack_padded_sequence(embedded, text_lengths)    \n",
        "    packed_output, (hidden, cell) = self.rnn(packed_embedded)\n",
        "    \n",
        "    output, output_lengths = nn.utils.rnn.pad_packed_sequence(packed_output)\n",
        "    hidden = self.dropout(torch.cat((hidden[-2,:,:], hidden[-1,:,:]), dim = 1))\n",
        "\n",
        "    return self.linear(hidden)\n",
        "    \n",
        "  def train(self, iterator):\n",
        "    \n",
        "    for batch in iterator:\n",
        "      text, text_lengths = batch.text\n",
        "      self.opt.zero_grad()\n",
        "      \n",
        "      prediction = self.forward(text, text_lengths).squeeze(1)\n",
        "      self.loss(prediction, batch.label).backward()\n",
        "      self.opt.step()\n",
        "      \n",
        "  def compile(self):\n",
        "    self.opt = optim.Adam(self.parameters())\n",
        "    self.loss = nn.BCEWithLogitsLoss()\n",
        "  \n",
        "  def evaluate(self, iterator):\n",
        "    epoch_loss = 0\n",
        "    epoch_acc = 0\n",
        "        \n",
        "    with torch.no_grad():\n",
        "    \n",
        "        for batch in iterator:\n",
        "            text, text_lengths = batch.text\n",
        "            predictions = self.forward(text, text_lengths).squeeze(1)\n",
        "            \n",
        "            loss = self.loss(predictions, batch.label)\n",
        "            \n",
        "            acc = binary_accuracy(predictions, batch.label)\n",
        "\n",
        "            epoch_loss += loss.item()\n",
        "            epoch_acc += acc.item()\n",
        "        \n",
        "    return epoch_loss/len(iterator), epoch_acc/len(iterator)"
      ],
      "execution_count": 0,
      "outputs": []
    },
    {
      "cell_type": "markdown",
      "metadata": {
        "id": "o62v9opq6ce0",
        "colab_type": "text"
      },
      "source": [
        "# MAIN"
      ]
    },
    {
      "cell_type": "markdown",
      "metadata": {
        "id": "qdsxaeF-6WLl",
        "colab_type": "text"
      },
      "source": [
        "## Training"
      ]
    },
    {
      "cell_type": "code",
      "metadata": {
        "id": "0vaAqW0BizU6",
        "colab_type": "code",
        "colab": {}
      },
      "source": [
        "INPUT_DIM = len(TEXT.vocab)\n",
        "EMBEDDING_DIM = 100\n",
        "HIDDEN_DIM = 256\n",
        "OUTPUT_DIM = 1\n",
        "N_LAYERS = 2\n",
        "BIDIRECTIONAL = True\n",
        "DROPOUT = 0.5\n",
        "PAD_IDX = TEXT.vocab.stoi[TEXT.pad_token]\n",
        "\n",
        "model = RNN(INPUT_DIM, \n",
        "            EMBEDDING_DIM, \n",
        "            HIDDEN_DIM, \n",
        "            OUTPUT_DIM, \n",
        "            N_LAYERS, \n",
        "            BIDIRECTIONAL, \n",
        "            DROPOUT, \n",
        "            PAD_IDX)\n",
        "model.compile()"
      ],
      "execution_count": 0,
      "outputs": []
    },
    {
      "cell_type": "code",
      "metadata": {
        "id": "mr0cRJJrizYS",
        "colab_type": "code",
        "outputId": "16c137d4-afb8-43f9-ea86-9928086e1a47",
        "colab": {
          "base_uri": "https://localhost:8080/",
          "height": 34
        }
      },
      "source": [
        "pretrained_embeddings = TEXT.vocab.vectors\n",
        "pretrained_embeddings.shape"
      ],
      "execution_count": 0,
      "outputs": [
        {
          "output_type": "execute_result",
          "data": {
            "text/plain": [
              "torch.Size([16386, 100])"
            ]
          },
          "metadata": {
            "tags": []
          },
          "execution_count": 16
        }
      ]
    },
    {
      "cell_type": "code",
      "metadata": {
        "id": "tDMLOGv3kI9K",
        "colab_type": "code",
        "colab": {}
      },
      "source": [
        "UNK_IDX = TEXT.vocab.stoi[TEXT.unk_token]\n",
        "\n",
        "model.embedding.weight.data[UNK_IDX] = torch.zeros(EMBEDDING_DIM)\n",
        "model.embedding.weight.data[PAD_IDX] = torch.zeros(EMBEDDING_DIM)"
      ],
      "execution_count": 0,
      "outputs": []
    },
    {
      "cell_type": "code",
      "metadata": {
        "id": "4kDBdeH8O_Xr",
        "colab_type": "code",
        "colab": {}
      },
      "source": [
        "model = model.to(device)\n",
        "model.loss = model.loss.to(device)"
      ],
      "execution_count": 0,
      "outputs": []
    },
    {
      "cell_type": "code",
      "metadata": {
        "id": "OmDqTNj37mpp",
        "colab_type": "code",
        "colab": {}
      },
      "source": [
        "EPOCHS = 25"
      ],
      "execution_count": 0,
      "outputs": []
    },
    {
      "cell_type": "code",
      "metadata": {
        "id": "Ec1467x8O_aI",
        "colab_type": "code",
        "outputId": "55181aea-8436-4548-e234-ec12ed2337a5",
        "colab": {
          "base_uri": "https://localhost:8080/",
          "height": 476
        }
      },
      "source": [
        "for epoch in tqdm(range(EPOCHS)):\n",
        "  model.train(train_iterator)"
      ],
      "execution_count": 0,
      "outputs": [
        {
          "output_type": "stream",
          "text": [
            "\n",
            "100%|█████████▉| 398893/400000 [00:30<00:00, 27230.05it/s]\n",
            "  4%|▍         | 1/25 [00:33<13:23, 33.49s/it]\u001b[A\n",
            "  8%|▊         | 2/25 [01:07<12:56, 33.74s/it]\u001b[A\n",
            " 12%|█▏        | 3/25 [01:43<12:37, 34.45s/it]\u001b[A\n",
            " 16%|█▌        | 4/25 [02:19<12:12, 34.90s/it]\u001b[A\n",
            " 20%|██        | 5/25 [02:55<11:43, 35.16s/it]\u001b[A\n",
            " 24%|██▍       | 6/25 [03:31<11:12, 35.40s/it]\u001b[A\n",
            " 28%|██▊       | 7/25 [04:07<10:39, 35.54s/it]\u001b[A\n",
            " 32%|███▏      | 8/25 [04:43<10:06, 35.70s/it]\u001b[A\n",
            " 36%|███▌      | 9/25 [05:19<09:32, 35.76s/it]\u001b[A\n",
            " 40%|████      | 10/25 [05:55<08:57, 35.83s/it]\u001b[A\n",
            " 44%|████▍     | 11/25 [06:31<08:21, 35.83s/it]\u001b[A\n",
            " 48%|████▊     | 12/25 [07:07<07:45, 35.82s/it]\u001b[A\n",
            " 52%|█████▏    | 13/25 [07:43<07:10, 35.86s/it]\u001b[A\n",
            " 56%|█████▌    | 14/25 [08:18<06:34, 35.86s/it]\u001b[A\n",
            " 60%|██████    | 15/25 [08:54<05:58, 35.88s/it]\u001b[A\n",
            " 64%|██████▍   | 16/25 [09:30<05:22, 35.87s/it]\u001b[A\n",
            " 68%|██████▊   | 17/25 [10:06<04:47, 35.88s/it]\u001b[A\n",
            " 72%|███████▏  | 18/25 [10:42<04:11, 35.88s/it]\u001b[A\n",
            " 76%|███████▌  | 19/25 [11:18<03:35, 35.91s/it]\u001b[A\n",
            " 80%|████████  | 20/25 [11:54<02:59, 35.89s/it]\u001b[A\n",
            " 84%|████████▍ | 21/25 [12:30<02:23, 35.88s/it]\u001b[A\n",
            " 88%|████████▊ | 22/25 [13:05<01:47, 35.88s/it]\u001b[A\n",
            " 92%|█████████▏| 23/25 [13:41<01:11, 35.85s/it]\u001b[A\n",
            " 96%|█████████▌| 24/25 [14:17<00:35, 35.85s/it]\u001b[A\n",
            "100%|██████████| 25/25 [14:53<00:00, 35.90s/it]\u001b[A\n",
            "\u001b[A"
          ],
          "name": "stderr"
        }
      ]
    },
    {
      "cell_type": "markdown",
      "metadata": {
        "id": "lhUyT_Ia6Ziz",
        "colab_type": "text"
      },
      "source": [
        "## Evaluating"
      ]
    },
    {
      "cell_type": "code",
      "metadata": {
        "id": "pxdXvFTCO_dL",
        "colab_type": "code",
        "outputId": "aba6494e-4b85-49dd-dd24-aeaa0f2f4434",
        "colab": {
          "base_uri": "https://localhost:8080/",
          "height": 34
        }
      },
      "source": [
        "model.evaluate(test_iterator)"
      ],
      "execution_count": 0,
      "outputs": [
        {
          "output_type": "execute_result",
          "data": {
            "text/plain": [
              "(0.39924435729108504, 0.8653532609610302)"
            ]
          },
          "metadata": {
            "tags": []
          },
          "execution_count": 21
        }
      ]
    },
    {
      "cell_type": "code",
      "metadata": {
        "id": "jbAdQ0L78cPE",
        "colab_type": "code",
        "colab": {}
      },
      "source": [
        "import spacy\n",
        "nlp = spacy.load('en')\n",
        "\n",
        "def predict_sentiment(model, sentence):\n",
        "    tokenized = [tok.text for tok in nlp.tokenizer(sentence)]\n",
        "    indexed = [TEXT.vocab.stoi[t] for t in tokenized]\n",
        "    length = [len(indexed)]\n",
        "    tensor = torch.LongTensor(indexed).to(device)\n",
        "    tensor = tensor.unsqueeze(1)\n",
        "    length_tensor = torch.LongTensor(length)\n",
        "    prediction = torch.sigmoid(model(tensor, length_tensor))\n",
        "    return prediction.item()"
      ],
      "execution_count": 0,
      "outputs": []
    },
    {
      "cell_type": "code",
      "metadata": {
        "id": "aSv6ZiqGS6Aw",
        "colab_type": "code",
        "outputId": "239ea56c-531f-4da6-f939-989e52a7e5ab",
        "colab": {
          "base_uri": "https://localhost:8080/",
          "height": 34
        }
      },
      "source": [
        "predict_sentiment(model, \"This film is so fucking shiete\")"
      ],
      "execution_count": 0,
      "outputs": [
        {
          "output_type": "execute_result",
          "data": {
            "text/plain": [
              "0.22272369265556335"
            ]
          },
          "metadata": {
            "tags": []
          },
          "execution_count": 33
        }
      ]
    },
    {
      "cell_type": "markdown",
      "metadata": {
        "id": "LTbQtJ7d6xzZ",
        "colab_type": "text"
      },
      "source": [
        "## Save and Load"
      ]
    },
    {
      "cell_type": "code",
      "metadata": {
        "id": "4SP-EHuN66Bz",
        "colab_type": "code",
        "outputId": "b1839dd3-0f05-4e90-fa86-3e07c0bd2d93",
        "colab": {
          "base_uri": "https://localhost:8080/",
          "height": 34
        }
      },
      "source": [
        "model_dir = '/content/drive/My Drive/POLIMI/Thesis/Data/Models/'\n",
        "model_name = 'SA_RNN_' + str(EPOCHS)\n",
        "model_path = model_dir + model_name\n",
        "model_path"
      ],
      "execution_count": 0,
      "outputs": [
        {
          "output_type": "execute_result",
          "data": {
            "text/plain": [
              "'/content/drive/My Drive/POLIMI/Thesis/Data/Models/SA_RNN_25'"
            ]
          },
          "metadata": {
            "tags": []
          },
          "execution_count": 24
        }
      ]
    },
    {
      "cell_type": "code",
      "metadata": {
        "id": "GdWdIjfnkJO5",
        "colab_type": "code",
        "outputId": "2ba930e8-d48b-4e92-f214-8926d24d0a34",
        "colab": {
          "base_uri": "https://localhost:8080/",
          "height": 71
        }
      },
      "source": [
        "torch.save(model, model_path)"
      ],
      "execution_count": 0,
      "outputs": [
        {
          "output_type": "stream",
          "text": [
            "/usr/local/lib/python3.6/dist-packages/torch/serialization.py:360: UserWarning: Couldn't retrieve source code for container of type RNN. It won't be checked for correctness upon loading.\n",
            "  \"type \" + obj.__name__ + \". It won't be checked \"\n"
          ],
          "name": "stderr"
        }
      ]
    },
    {
      "cell_type": "code",
      "metadata": {
        "id": "ojRgjeyqkJW-",
        "colab_type": "code",
        "colab": {}
      },
      "source": [
        "loaded_model = torch.load(model_path)"
      ],
      "execution_count": 0,
      "outputs": []
    },
    {
      "cell_type": "code",
      "metadata": {
        "id": "DqoKZ02kkJgK",
        "colab_type": "code",
        "outputId": "60c40bc7-ef80-458f-a7a8-4dd9ddafd48d",
        "colab": {
          "base_uri": "https://localhost:8080/",
          "height": 34
        }
      },
      "source": [
        "loaded_model.evaluate(test_iterator)"
      ],
      "execution_count": 0,
      "outputs": [
        {
          "output_type": "execute_result",
          "data": {
            "text/plain": [
              "(0.3989354993414391, 0.8651774296980075)"
            ]
          },
          "metadata": {
            "tags": []
          },
          "execution_count": 27
        }
      ]
    },
    {
      "cell_type": "code",
      "metadata": {
        "id": "5XZVE34EA6rQ",
        "colab_type": "code",
        "outputId": "fa33cdc1-703e-434d-f93b-6058630fbb0b",
        "colab": {
          "base_uri": "https://localhost:8080/",
          "height": 34
        }
      },
      "source": [
        "predict_sentiment(loaded_model, \"This film is so fucking shiete\")"
      ],
      "execution_count": 0,
      "outputs": [
        {
          "output_type": "execute_result",
          "data": {
            "text/plain": [
              "0.33202943205833435"
            ]
          },
          "metadata": {
            "tags": []
          },
          "execution_count": 28
        }
      ]
    },
    {
      "cell_type": "code",
      "metadata": {
        "id": "09M7oTHWHT6N",
        "colab_type": "code",
        "outputId": "050c9871-5a2b-4828-b3c1-3c03f6564528",
        "colab": {
          "base_uri": "https://localhost:8080/",
          "height": 34
        }
      },
      "source": [
        "model_dir = '/content/drive/My Drive/POLIMI/Thesis/Data/Models/'\n",
        "stoi_name = 'S2I'\n",
        "stoi_path = model_dir + stoi_name\n",
        "stoi_path"
      ],
      "execution_count": 0,
      "outputs": [
        {
          "output_type": "execute_result",
          "data": {
            "text/plain": [
              "'/content/drive/My Drive/POLIMI/Thesis/Data/Models/S2I'"
            ]
          },
          "metadata": {
            "tags": []
          },
          "execution_count": 29
        }
      ]
    },
    {
      "cell_type": "code",
      "metadata": {
        "id": "tFnaoLFTkJEE",
        "colab_type": "code",
        "colab": {}
      },
      "source": [
        "torch.save(TEXT.vocab.stoi, stoi_path)"
      ],
      "execution_count": 0,
      "outputs": []
    },
    {
      "cell_type": "code",
      "metadata": {
        "id": "7SQPAHBpJSil",
        "colab_type": "code",
        "colab": {}
      },
      "source": [
        ""
      ],
      "execution_count": 0,
      "outputs": []
    }
  ]
}