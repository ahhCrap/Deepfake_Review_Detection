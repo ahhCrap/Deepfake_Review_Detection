{
  "nbformat": 4,
  "nbformat_minor": 0,
  "metadata": {
    "colab": {
      "name": "attnVAE.ipynb",
      "provenance": [],
      "collapsed_sections": [
        "URi3wv6idr03",
        "I5H8pxGzjTaz",
        "rcOwzUcUKEUW",
        "qtwmdNSkO2QB"
      ],
      "toc_visible": true,
      "authorship_tag": "ABX9TyNlPLgrHy+f9RiMBrY4V0LB",
      "include_colab_link": true
    },
    "kernelspec": {
      "name": "python3",
      "display_name": "Python 3"
    },
    "accelerator": "GPU"
  },
  "cells": [
    {
      "cell_type": "markdown",
      "metadata": {
        "id": "view-in-github",
        "colab_type": "text"
      },
      "source": [
        "<a href=\"https://colab.research.google.com/github/ahhCrap/Deepfake_Review_Detection/blob/master/attnVAE.ipynb\" target=\"_parent\"><img src=\"https://colab.research.google.com/assets/colab-badge.svg\" alt=\"Open In Colab\"/></a>"
      ]
    },
    {
      "cell_type": "markdown",
      "metadata": {
        "id": "ogZO832XuFav",
        "colab_type": "text"
      },
      "source": [
        "# Variational Auto Encoder"
      ]
    },
    {
      "cell_type": "markdown",
      "metadata": {
        "id": "vBpsztNquTBM",
        "colab_type": "text"
      },
      "source": [
        "function ClickConnect(){\n",
        "console.log(\"Working\"); \n",
        "document.querySelector(\"colab-toolbar-button#connect\").click() \n",
        "}\n",
        "setInterval(ClickConnect,60000)"
      ]
    },
    {
      "cell_type": "markdown",
      "metadata": {
        "id": "b5gP6Rg2uDK2",
        "colab_type": "text"
      },
      "source": [
        "## Imports"
      ]
    },
    {
      "cell_type": "code",
      "metadata": {
        "id": "RjzkQyFIr9u6",
        "colab_type": "code",
        "colab": {}
      },
      "source": [
        "import torch as t\n",
        "import torch.nn as nn\n",
        "import torch.optim as opt\n",
        "import torch.nn.functional as F\n",
        "\n",
        "from torch.nn.modules.loss import NLLLoss\n",
        "from torch.nn.utils.rnn import pad_sequence"
      ],
      "execution_count": 0,
      "outputs": []
    },
    {
      "cell_type": "code",
      "metadata": {
        "id": "hBWWE3ict4mD",
        "colab_type": "code",
        "colab": {}
      },
      "source": [
        "from scipy.stats import moment, skew\n",
        "\n",
        "import numpy as np\n",
        "import pandas as pd\n",
        "import scipy.special as sps\n",
        "import matplotlib.pyplot as plt"
      ],
      "execution_count": 0,
      "outputs": []
    },
    {
      "cell_type": "code",
      "metadata": {
        "id": "7bEx6Eg9t83H",
        "colab_type": "code",
        "colab": {}
      },
      "source": [
        "import math\n",
        "import json\n",
        "import spacy\n",
        "import pickle\n",
        "\n",
        "from tqdm import tqdm\n",
        "from collections import defaultdict"
      ],
      "execution_count": 0,
      "outputs": []
    },
    {
      "cell_type": "code",
      "metadata": {
        "id": "9vbcnJcidZ0f",
        "colab_type": "code",
        "colab": {}
      },
      "source": [
        "from sklearn.decomposition import PCA\n",
        "from sklearn.metrics import balanced_accuracy_score, \\\n",
        "                            average_precision_score, \\\n",
        "                            recall_score, \\\n",
        "                            f1_score"
      ],
      "execution_count": 0,
      "outputs": []
    },
    {
      "cell_type": "code",
      "metadata": {
        "id": "O4SCXtxYtVsq",
        "colab_type": "code",
        "outputId": "e5f4e0e0-f4c6-45c2-9fbe-eb37af081584",
        "colab": {
          "base_uri": "https://localhost:8080/",
          "height": 68
        }
      },
      "source": [
        "import nltk\n",
        "import nltk.translate.bleu_score as bleu\n",
        "from nltk.tokenize import word_tokenize\n",
        "nltk.download('punkt')"
      ],
      "execution_count": 0,
      "outputs": [
        {
          "output_type": "stream",
          "text": [
            "[nltk_data] Downloading package punkt to /root/nltk_data...\n",
            "[nltk_data]   Package punkt is already up-to-date!\n"
          ],
          "name": "stdout"
        },
        {
          "output_type": "execute_result",
          "data": {
            "text/plain": [
              "True"
            ]
          },
          "metadata": {
            "tags": []
          },
          "execution_count": 83
        }
      ]
    },
    {
      "cell_type": "markdown",
      "metadata": {
        "id": "JG0DJ5GOC3Vq",
        "colab_type": "text"
      },
      "source": [
        "## Configuration"
      ]
    },
    {
      "cell_type": "code",
      "metadata": {
        "id": "zd2wUfiOC79i",
        "colab_type": "code",
        "outputId": "33aab708-2dde-418e-a6aa-8e2f9d50c912",
        "colab": {
          "base_uri": "https://localhost:8080/",
          "height": 34
        }
      },
      "source": [
        "device = t.device(\"cuda:0\" if (t.cuda.is_available()) else \"cpu\")\n",
        "device"
      ],
      "execution_count": 0,
      "outputs": [
        {
          "output_type": "execute_result",
          "data": {
            "text/plain": [
              "device(type='cuda', index=0)"
            ]
          },
          "metadata": {
            "tags": []
          },
          "execution_count": 84
        }
      ]
    },
    {
      "cell_type": "code",
      "metadata": {
        "id": "rmFoBdFfm8m2",
        "colab_type": "code",
        "outputId": "d2dd9909-5123-475f-8cfd-5efc78d2fde2",
        "colab": {
          "base_uri": "https://localhost:8080/",
          "height": 54
        }
      },
      "source": [
        "from google.colab import drive\n",
        "drive.mount('/content/drive')"
      ],
      "execution_count": 0,
      "outputs": [
        {
          "output_type": "stream",
          "text": [
            "Drive already mounted at /content/drive; to attempt to forcibly remount, call drive.mount(\"/content/drive\", force_remount=True).\n"
          ],
          "name": "stdout"
        }
      ]
    },
    {
      "cell_type": "code",
      "metadata": {
        "id": "-gzweVms15Jx",
        "colab_type": "code",
        "colab": {}
      },
      "source": [
        "VOCAB_SIZE = 1024\n",
        "BATCH_SIZE = 256\n",
        "\n",
        "Q_DIM = K_DIM = V_DIM = 32\n",
        "CODE_DIM = 64\n",
        "HID_DIM = 512\n",
        "EMB_DIM = 64\n",
        "\n",
        "MAX_LEN = 14\n",
        "MAX_SEQ = MAX_LEN + 2 # Since we're going to have SOS as start and EOS as end\n",
        "\n",
        "OPT = opt.Adam \n",
        "HEADS = 3\n",
        "LR = 1e-4\n",
        "\n",
        "INCREASE = 4\n",
        "DECREASE = 4"
      ],
      "execution_count": 0,
      "outputs": []
    },
    {
      "cell_type": "markdown",
      "metadata": {
        "id": "GcVFAEZpxHvt",
        "colab_type": "text"
      },
      "source": [
        "## Utils"
      ]
    },
    {
      "cell_type": "markdown",
      "metadata": {
        "id": "GmXMeJDx8LTN",
        "colab_type": "text"
      },
      "source": [
        "### Save"
      ]
    },
    {
      "cell_type": "code",
      "metadata": {
        "id": "8AyqXJB-8OXU",
        "colab_type": "code",
        "colab": {}
      },
      "source": [
        "def load(filename):\n",
        "    infile = open(filename, 'rb')\n",
        "    file = pickle.load(infile)\n",
        "    infile.close()\n",
        "    return file"
      ],
      "execution_count": 0,
      "outputs": []
    },
    {
      "cell_type": "code",
      "metadata": {
        "id": "cjh-FduN8Ob5",
        "colab_type": "code",
        "colab": {}
      },
      "source": [
        "def save(file, filename):\n",
        "    outfile = open(filename, 'wb')\n",
        "    pickle.dump(file,outfile)\n",
        "    outfile.close()"
      ],
      "execution_count": 0,
      "outputs": []
    },
    {
      "cell_type": "code",
      "metadata": {
        "id": "iJzdn2nVnUSW",
        "colab_type": "code",
        "colab": {}
      },
      "source": [
        "def record_checkpoint(e, vae, nll_losses, kld_losses, VERSION):\n",
        "    t.save({\n",
        "        'epoch': e,\n",
        "        'model_state_dict': vae.state_dict(),\n",
        "        'optimizer_state_dict': vae.opt.state_dict(),\n",
        "        'nll_losses': nll_losses,\n",
        "        'kld_losses': kld_losses\n",
        "        }, model_path + str(VERSION) + '_checkpoint_' + str(e))"
      ],
      "execution_count": 0,
      "outputs": []
    },
    {
      "cell_type": "markdown",
      "metadata": {
        "id": "1Ex36dswGpu4",
        "colab_type": "text"
      },
      "source": [
        "### Text"
      ]
    },
    {
      "cell_type": "code",
      "metadata": {
        "id": "bpM-FMAMAj_t",
        "colab_type": "code",
        "colab": {}
      },
      "source": [
        "# Lowering, tokenizing 'sentences'\n",
        "def tokenize(sentences):\n",
        "    return [word_tokenize(sent.lower()) for sent in sentences]"
      ],
      "execution_count": 0,
      "outputs": []
    },
    {
      "cell_type": "code",
      "metadata": {
        "id": "6VQ368iiksXG",
        "colab_type": "code",
        "colab": {}
      },
      "source": [
        "def tokenize_online(file_path):\n",
        "    tokenized_sentences = []\n",
        "    with open(file_path, 'r') as f:\n",
        "        for line in f:\n",
        "            tokenized_sentences += [word_tokenize(line.lower())]\n",
        "    return tokenized_sentences"
      ],
      "execution_count": 0,
      "outputs": []
    },
    {
      "cell_type": "code",
      "metadata": {
        "id": "AYaqEtpNIZfE",
        "colab_type": "code",
        "colab": {}
      },
      "source": [
        "def ids_from_sent(sent):\n",
        "    return [vocab.word2index[tok] for tok in sent]"
      ],
      "execution_count": 0,
      "outputs": []
    },
    {
      "cell_type": "code",
      "metadata": {
        "id": "BVHPChUyIZim",
        "colab_type": "code",
        "colab": {}
      },
      "source": [
        "def tens_from_text(text):\n",
        "    return [t.tensor([SOS] + ids_from_sent(s) + [EOS], device=device) for s in text]"
      ],
      "execution_count": 0,
      "outputs": []
    },
    {
      "cell_type": "code",
      "metadata": {
        "id": "5QU3PmWTapn2",
        "colab_type": "code",
        "colab": {}
      },
      "source": [
        "tok2read = {'PAD': ' ', 'UNK': 'unk', 'SOS': '>>', 'EOS': '<<'}"
      ],
      "execution_count": 0,
      "outputs": []
    },
    {
      "cell_type": "code",
      "metadata": {
        "id": "Z5q-5TV1Q2Le",
        "colab_type": "code",
        "colab": {}
      },
      "source": [
        "def raw2readable(sentence):\n",
        "    for i, w in enumerate(sentence):\n",
        "        if w in tok2read:\n",
        "            sentence[i] = tok2read[w]\n",
        "    return sentence"
      ],
      "execution_count": 0,
      "outputs": []
    },
    {
      "cell_type": "code",
      "metadata": {
        "id": "5ukOOiGKd_7A",
        "colab_type": "code",
        "colab": {}
      },
      "source": [
        "tok2adv = {'PAD': '', 'UNK': 'unk', 'SOS': '', 'EOS': ''}"
      ],
      "execution_count": 0,
      "outputs": []
    },
    {
      "cell_type": "code",
      "metadata": {
        "id": "Ofs4a0DAdgBq",
        "colab_type": "code",
        "colab": {}
      },
      "source": [
        "def raw2adversarial(sentence):\n",
        "    for i, w in enumerate(sentence):\n",
        "        if w in tok2adv:\n",
        "            sentence[i] = tok2adv[w]\n",
        "    return sentence"
      ],
      "execution_count": 0,
      "outputs": []
    },
    {
      "cell_type": "code",
      "metadata": {
        "colab_type": "code",
        "id": "kA5efbYEeg6S",
        "colab": {}
      },
      "source": [
        "def compute_size(dataset):\n",
        "    dataset_size = 0\n",
        "    with open(dataset, 'r') as f:\n",
        "        for line in f:\n",
        "            dataset_size += 1\n",
        "    return dataset_size"
      ],
      "execution_count": 0,
      "outputs": []
    },
    {
      "cell_type": "code",
      "metadata": {
        "id": "36RmL5YjC8lq",
        "colab_type": "code",
        "colab": {}
      },
      "source": [
        "def prep_sentences(sentences):\n",
        "    assert isinstance(sentences[0], list), \"'sentences' is not list of list\"\n",
        "    return [['SOS']+sent+['EOS']+['PAD']*(MAX_SEQ-len(sent)-2) for sent in sentences]"
      ],
      "execution_count": 0,
      "outputs": []
    },
    {
      "cell_type": "markdown",
      "metadata": {
        "id": "2YXd0-7J18lJ",
        "colab_type": "text"
      },
      "source": [
        "### Math"
      ]
    },
    {
      "cell_type": "code",
      "metadata": {
        "id": "FEgqttiuCWNg",
        "colab_type": "code",
        "colab": {}
      },
      "source": [
        "def gelu(x):\n",
        "    return 0.5 * x * (1 + t.tanh(math.sqrt(2 / math.pi) * (x + 0.044715 * t.pow(x, 3))))"
      ],
      "execution_count": 0,
      "outputs": []
    },
    {
      "cell_type": "code",
      "metadata": {
        "id": "z7qo7a2EW_vr",
        "colab_type": "code",
        "colab": {}
      },
      "source": [
        "def cal_angle(position, hid_idx, emb_dim):\n",
        "    return position / np.power(10000, 2 * (hid_idx // 2) / emb_dim)\n",
        "\n",
        "def get_posi_angle_vec(position, emb_dim):\n",
        "    return [cal_angle(position, hid_j, emb_dim) for hid_j in range(emb_dim)]\n",
        "\n",
        "def sinusoid_encoding_table(n_position, emb_dim=EMB_DIM):\n",
        "    sinusoid_table = np.array(\n",
        "        [get_posi_angle_vec(pos_i, emb_dim) for pos_i in range(n_position)])\n",
        "    sinusoid_table[:, 0::2] = np.sin(sinusoid_table[:, 0::2])  # dim 2i\n",
        "    sinusoid_table[:, 1::2] = np.cos(sinusoid_table[:, 1::2])  # dim 2i+1\n",
        "\n",
        "    return t.tensor(sinusoid_table, dtype=t.float, device=device)"
      ],
      "execution_count": 0,
      "outputs": []
    },
    {
      "cell_type": "code",
      "metadata": {
        "id": "SyzcadiAzr2E",
        "colab_type": "code",
        "colab": {}
      },
      "source": [
        "def pad_mask(seq_q, seq_k):\n",
        "    batch_size, len_q = seq_q.size()\n",
        "    batch_size, len_k = seq_k.size()\n",
        "    \n",
        "    # eq(zero) is PAD token\n",
        "    pad_attn_mask = seq_k.data.eq(0).unsqueeze(1)  # batch_size x 1 x len_k(=len_q), one is masking\n",
        "    return pad_attn_mask.expand(batch_size, len_q, len_k, device=device)  # batch_size x len_q x len_k"
      ],
      "execution_count": 0,
      "outputs": []
    },
    {
      "cell_type": "code",
      "metadata": {
        "id": "LMBJ2zFetMpj",
        "colab_type": "code",
        "colab": {}
      },
      "source": [
        "def seq_mask(batch_size, seq_len):\n",
        "    attn_shape = [batch_size, seq_len, seq_len]\n",
        "    subsequent_mask = t.triu(\n",
        "        t.ones(attn_shape, dtype=t.bool, device=device), diagonal=1)\n",
        "    return subsequent_mask # subsequent_mask: [batch_size, seq, seq]"
      ],
      "execution_count": 0,
      "outputs": []
    },
    {
      "cell_type": "code",
      "metadata": {
        "id": "mG_HRamSfdP-",
        "colab_type": "code",
        "colab": {}
      },
      "source": [
        "def pad_like(tensor, t_like):\n",
        "    old_shape = tensor.shape\n",
        "    new_shape = t_like.shape\n",
        "    assert len(old_shape) == len(new_shape)\n",
        "    \n",
        "    diffs = []\n",
        "    for i in range(len(old_shape)):\n",
        "        diffs += [new_shape[i] - old_shape[i]]\n",
        "    pads = []\n",
        "    for d in diffs:\n",
        "        half = d//2\n",
        "        rest = d - half\n",
        "        pads.extend([half, rest])\n",
        "    \n",
        "    return F.pad(tensor, pads[::-1], mode='constant', value=PAD)"
      ],
      "execution_count": 0,
      "outputs": []
    },
    {
      "cell_type": "code",
      "metadata": {
        "id": "CNtJIfr2Rih-",
        "colab_type": "code",
        "colab": {}
      },
      "source": [
        "def count_params(model):\n",
        "    return sum(p.numel() for p in model.parameters() if p.requires_grad)"
      ],
      "execution_count": 0,
      "outputs": []
    },
    {
      "cell_type": "code",
      "metadata": {
        "id": "QXGpmqTP0zUL",
        "colab_type": "code",
        "colab": {}
      },
      "source": [
        "def truncated_permutation(n, max_n):\n",
        "    assert n < max_n\n",
        "\n",
        "    perm = set()\n",
        "    while len(perm) < n:\n",
        "        random_samples = np.random.randint(low=0, high=max_n-1, size=(n-len(perm)))\n",
        "        perm.update(random_samples.tolist())\n",
        "    return list(perm)"
      ],
      "execution_count": 0,
      "outputs": []
    },
    {
      "cell_type": "markdown",
      "metadata": {
        "id": "h1mk-MMONtPk",
        "colab_type": "text"
      },
      "source": [
        "### Neural Nets"
      ]
    },
    {
      "cell_type": "code",
      "metadata": {
        "id": "TgdBhHyANCLc",
        "colab_type": "code",
        "colab": {}
      },
      "source": [
        "class RNN(nn.Module):\n",
        "  def __init__(self, input_dim, embedding_dim, hidden_dim, output_dim,\n",
        "               n_layers, bidirectional, dropout, pad_idx):\n",
        "    super(RNN, self).__init__()\n",
        "    self.embedding = nn.Embedding(input_dim, embedding_dim, padding_idx=pad_idx)\n",
        "    self.rnn = nn.LSTM(embedding_dim, \n",
        "                       hidden_dim, \n",
        "                       num_layers=n_layers, \n",
        "                       bidirectional=bidirectional, \n",
        "                       dropout=dropout)\n",
        "    self.linear = nn.Linear(2*hidden_dim, output_dim)\n",
        "    self.dropout = nn.Dropout(dropout)\n",
        "      \n",
        "  def forward(self, x, text_lengths):\n",
        "    embedded = self.dropout(self.embedding(x))\n",
        "    \n",
        "    packed_embedded = nn.utils.rnn.pack_padded_sequence(embedded, text_lengths)    \n",
        "    packed_output, (hidden, cell) = self.rnn(packed_embedded)\n",
        "    \n",
        "    output, output_lengths = nn.utils.rnn.pad_packed_sequence(packed_output)\n",
        "    hidden = self.dropout(t.cat((hidden[-2,:,:], hidden[-1,:,:]), dim = 1))\n",
        "\n",
        "    return self.linear(hidden)\n",
        "    \n",
        "  def train(self, iterator):\n",
        "    \n",
        "    for batch in iterator:\n",
        "      text, text_lengths = batch.text\n",
        "      self.opt.zero_grad()\n",
        "      \n",
        "      prediction = self.forward(text, text_lengths).squeeze(1)\n",
        "      self.loss(prediction, batch.label).backward()\n",
        "      self.opt.step()\n",
        "      \n",
        "  def compile(self):\n",
        "    self.opt = optim.Adam(self.parameters())\n",
        "    self.loss = nn.BCEWithLogitsLoss()\n",
        "  \n",
        "  def evaluate(self, iterator):\n",
        "    epoch_loss = 0\n",
        "    epoch_acc = 0\n",
        "        \n",
        "    with t.no_grad():\n",
        "    \n",
        "        for batch in iterator:\n",
        "            text, text_lengths = batch.text\n",
        "            predictions = self.forward(text, text_lengths).squeeze(1)\n",
        "            \n",
        "            loss = self.loss(predictions, batch.label)\n",
        "            \n",
        "            acc = binary_accuracy(predictions, batch.label)\n",
        "\n",
        "            epoch_loss += loss.item()\n",
        "            epoch_acc += acc.item()\n",
        "        \n",
        "    return epoch_loss/len(iterator), epoch_acc/len(iterator)"
      ],
      "execution_count": 0,
      "outputs": []
    },
    {
      "cell_type": "code",
      "metadata": {
        "id": "Ap1MViAoBaAm",
        "colab_type": "code",
        "colab": {}
      },
      "source": [
        "def predict_sentiment(model, sentence): \n",
        "    tokenized = [tok.text for tok in nlp.tokenizer(sentence)]\n",
        "    indexed = [s2i[t] for t in tokenized]\n",
        "    length = [len(indexed)]\n",
        "    tensor = t.LongTensor(indexed).to(device)\n",
        "    tensor = tensor.unsqueeze(1)\n",
        "    length_tensor = t.LongTensor(length)\n",
        "    prediction = t.sigmoid(model(tensor, length_tensor))\n",
        "    return prediction.item()"
      ],
      "execution_count": 0,
      "outputs": []
    },
    {
      "cell_type": "markdown",
      "metadata": {
        "id": "-im3A_gVIaNr",
        "colab_type": "text"
      },
      "source": [
        "## Dataset"
      ]
    },
    {
      "cell_type": "markdown",
      "metadata": {
        "id": "4tAxmuRlJUB-",
        "colab_type": "text"
      },
      "source": [
        "### Vocabulary"
      ]
    },
    {
      "cell_type": "code",
      "metadata": {
        "id": "SFfpoLbyIZc0",
        "colab_type": "code",
        "colab": {}
      },
      "source": [
        "PAD = 0\n",
        "UNK = 1\n",
        "SOS = 2\n",
        "EOS = 3\n",
        "\n",
        "class Vocab:\n",
        "    def __init__(self):\n",
        "        self.word2count = {}\n",
        "        self.word2index = {'PAD': PAD, 'UNK': UNK, \"SOS\": SOS, \"EOS\": EOS}\n",
        "        self.index2word = {PAD: 'PAD', UNK: 'UNK', SOS: \"SOS\", EOS: \"EOS\"}\n",
        "        self.n_words = 4 \n",
        "        \n",
        "    def add_text(self, text):\n",
        "        for sent in tqdm(text): # assuming the text is a list of sentences\n",
        "            for tok in sent:\n",
        "                self.add_word(tok)\n",
        "\n",
        "    def add_word(self, word):\n",
        "        try:\n",
        "            self.word2count[word] += 1\n",
        "        except KeyError:\n",
        "            self.word2index[word] = self.n_words\n",
        "            self.word2count[word] = 1\n",
        "            self.index2word[self.n_words] = word\n",
        "            self.n_words += 1\n",
        "\n",
        "    def trim(self, n_tokens):\n",
        "        n_tokens -= 4 # Since we have 4 special characters\n",
        "        \n",
        "        words = list(self.word2count.keys())\n",
        "        counts = list(self.word2count.values())\n",
        "        counts, words = zip(*sorted(zip(counts, words))) # order the words by their usage\n",
        "        \n",
        "        # ============= Re-create 'word2index' and 'word2count' ================\n",
        "        temp_word2index = {'PAD': PAD, 'UNK': UNK, \"SOS\": SOS, \"EOS\": EOS}\n",
        "        temp_word2count = {PAD: 'PAD', UNK: 'UNK', SOS: \"SOS\", EOS: \"EOS\"}\n",
        "        temp_n_words = 4         \n",
        "        \n",
        "        for w in list(words)[-n_tokens:]:\n",
        "            temp_word2index[w] = temp_n_words\n",
        "            temp_word2count[w] = self.word2count[w]\n",
        "            temp_n_words += 1\n",
        "            \n",
        "        self.word2index = defaultdict(lambda: UNK, temp_word2index)\n",
        "        self.word2count = defaultdict(lambda: 0, temp_word2count)\n",
        "        self.n_words = temp_n_words\n",
        "            \n",
        "        # ====================== Re-create 'index2word' ========================\n",
        "        self.index2word = {}    \n",
        "        for w, i in self.word2index.items():\n",
        "            self.index2word[i] = w"
      ],
      "execution_count": 0,
      "outputs": []
    },
    {
      "cell_type": "markdown",
      "metadata": {
        "id": "-e1Pr7skJXiz",
        "colab_type": "text"
      },
      "source": [
        "### Batcher"
      ]
    },
    {
      "cell_type": "code",
      "metadata": {
        "id": "2eH0a6SJAkBs",
        "colab_type": "code",
        "colab": {}
      },
      "source": [
        "# creates the batches and pads sequences\n",
        "class Batcher:\n",
        "    def __init__(self, pad=PAD):\n",
        "        self.pad = pad\n",
        "\n",
        "    def get_batches(self, tensors, batch_size):\n",
        "        n = len(tensors)\n",
        "        drop = n % batch_size\n",
        "\n",
        "        dropped = tensors[-drop:] if drop != 0 else []\n",
        "\n",
        "        batches = []\n",
        "        for i in range(n // batch_size - 1):\n",
        "           batches.append(tensors[i * batch_size:(i + 1) * batch_size]) \n",
        "        \n",
        "        return batches, dropped\n",
        "    \n",
        "    def pad_batches(self, batches, batch_first=True):\n",
        "        swap = (1, 0) if batch_first else (0, 1)\n",
        "        return [pad_sequence(batch, padding_value=self.pad).permute(swap).to(device) for batch in batches]\n",
        "\n",
        "    def insta_batch(self, sents, vocab):\n",
        "        assert isinstance(sents[0], list), \"'sents' is not list of list\"\n",
        "        temp_sents = sents + [['dummy'] * MAX_LEN]\n",
        "        tens = tens_from_text(temp_sents)\n",
        "        return pad_sequence(tens, padding_value=self.pad)[:, :-1].permute(1, 0).to(device)"
      ],
      "execution_count": 0,
      "outputs": []
    },
    {
      "cell_type": "markdown",
      "metadata": {
        "id": "pDe-ep8D2BSW",
        "colab_type": "text"
      },
      "source": [
        "## Architecture"
      ]
    },
    {
      "cell_type": "markdown",
      "metadata": {
        "id": "p9WO19NJuIAJ",
        "colab_type": "text"
      },
      "source": [
        "### Attention"
      ]
    },
    {
      "cell_type": "code",
      "metadata": {
        "id": "FAa7zs4t2M4X",
        "colab_type": "code",
        "colab": {}
      },
      "source": [
        "MASK = float('-inf')"
      ],
      "execution_count": 0,
      "outputs": []
    },
    {
      "cell_type": "code",
      "metadata": {
        "id": "O3rQsZE7tKBn",
        "colab_type": "code",
        "colab": {}
      },
      "source": [
        "class ScaledAttn(nn.Module):\n",
        "    def __init__(self):\n",
        "        super(ScaledAttn, self).__init__()\n",
        "\n",
        "    def forward(self, Q, K, V, attn_mask):\n",
        "        batch_size, n_heads, seq_len, dim = Q.shape\n",
        "\n",
        "        scores = t.matmul(Q, K.transpose(-1, -2)) / np.sqrt(dim) # scores: [batch_size x n_heads x len_q(=len_k) x len_k(=len_q)]\n",
        "        scores.masked_fill_(attn_mask, MASK) # Fills elements of self tensor with value where mask is one.\n",
        "        attn = nn.Softmax(dim=-1)(scores)\n",
        "        context = t.matmul(attn, V)\n",
        "        return context, attn"
      ],
      "execution_count": 0,
      "outputs": []
    },
    {
      "cell_type": "code",
      "metadata": {
        "id": "M7nCxUaom8s8",
        "colab_type": "code",
        "colab": {}
      },
      "source": [
        "# Modified for self-attention only\n",
        "class MHA(nn.Module):\n",
        "    def __init__(self, emb_dim=EMB_DIM, dim=Q_DIM, n_heads=HEADS):\n",
        "        super(MHA, self).__init__()\n",
        "        \n",
        "        self.dim = dim # dimension of querys, keys and values\n",
        "        self.emb_dim = emb_dim\n",
        "        self.n_heads = n_heads\n",
        "        \n",
        "        self.W_Q = nn.Linear(emb_dim, n_heads * dim) \n",
        "        self.W_K = nn.Linear(emb_dim, n_heads * dim) \n",
        "        self.W_V = nn.Linear(emb_dim, n_heads * dim) \n",
        "        \n",
        "        self.projection = nn.Linear(n_heads * dim, emb_dim)\n",
        "        self.lay_norm = nn.LayerNorm(emb_dim)\n",
        "\n",
        "    def forward(self, Q, K, V, attn_mask):\n",
        "        # q: [batch_size x seq_len x dim], k: [batch_size x seq_len x dim], v: [batch_size x seq_len x dim]\n",
        "        residual = Q\n",
        "        batch_size, seq_len, emb_dim = Q.shape\n",
        "\n",
        "        # (B, S, E) -proj-> (B, S, H x D) -split-> (B, S, H, D) -trans-> (B, H, S, D)\n",
        "        q_s = self.W_Q(Q).view(batch_size, seq_len, self.n_heads, self.dim).transpose(1, 2)  # q_s: [batch_size x n_heads x seq_len x dim]\n",
        "        k_s = self.W_K(K).view(batch_size, seq_len, self.n_heads, self.dim).transpose(1, 2)  # k_s: [batch_size x n_heads x seq_len x dim]\n",
        "        v_s = self.W_V(V).view(batch_size, seq_len, self.n_heads, self.dim).transpose(1, 2)  # v_s: [batch_size x n_heads x seq_len x dim]\n",
        "\n",
        "        attn_mask = attn_mask.unsqueeze(1).repeat(1, self.n_heads, 1, 1) # attn_mask : [batch_size x n_heads x seq_len x seq_len]\n",
        "\n",
        "        # context: [batch_size x n_heads x seq_len x dim], attn: [batch_size x n_heads x seq_len x seq_len]\n",
        "        context, attn = ScaledAttn()(q_s, k_s, v_s, attn_mask)\n",
        "        context = context.transpose(1, 2).contiguous().view(batch_size, seq_len, self.n_heads * self.dim) # context: [batch_size x seq_len x n_heads * dim]\n",
        "        output = self.projection(context)\n",
        "        return self.lay_norm(output + residual), attn # output: [batch_size x seq_len x emb_dim]"
      ],
      "execution_count": 0,
      "outputs": []
    },
    {
      "cell_type": "markdown",
      "metadata": {
        "id": "-mEO7NJyuObq",
        "colab_type": "text"
      },
      "source": [
        "### Encoder"
      ]
    },
    {
      "cell_type": "code",
      "metadata": {
        "id": "pm-o8uXUapQD",
        "colab_type": "code",
        "colab": {}
      },
      "source": [
        "class Reshaper1d(nn.Module):\n",
        "    def __init__(self, seq_len, plus):\n",
        "        super(Reshaper1d, self).__init__()\n",
        "        self.conv1d = nn.Conv1d(seq_len, seq_len + plus, kernel_size=1)\n",
        "    \n",
        "    def forward(self, inputs):\n",
        "        return self.conv1d(inputs)"
      ],
      "execution_count": 0,
      "outputs": []
    },
    {
      "cell_type": "code",
      "metadata": {
        "id": "bYtqzCJ1ucPz",
        "colab_type": "code",
        "colab": {}
      },
      "source": [
        "class DownSampFF(nn.Module):\n",
        "    def __init__(self, emb_dim=EMB_DIM, hid_dim=HID_DIM, dec=DECREASE):\n",
        "        super(DownSampFF, self).__init__()\n",
        "        self.conv1 = nn.Conv1d(emb_dim, hid_dim, kernel_size=1)\n",
        "        self.conv2 = nn.Conv1d(hid_dim, emb_dim, kernel_size=1)\n",
        "        self.lay_norm = nn.LayerNorm(emb_dim)\n",
        "\n",
        "    def forward(self, inputs):\n",
        "        output = self.conv1(inputs.transpose(1, 2))\n",
        "        output = t.relu(output)\n",
        "        output = self.conv2(output).transpose(1, 2)\n",
        "        output = self.lay_norm(output)\n",
        "        return t.relu(output)"
      ],
      "execution_count": 0,
      "outputs": []
    },
    {
      "cell_type": "code",
      "metadata": {
        "id": "XDwNYyMG3ieR",
        "colab_type": "code",
        "colab": {}
      },
      "source": [
        "class EnCore(nn.Module):\n",
        "    def __init__(self, emb_dim=EMB_DIM, hid_dim=HID_DIM, dec=DECREASE):\n",
        "        super(EnCore, self).__init__()\n",
        "        self.n_lay = MAX_SEQ // dec - 1\n",
        "\n",
        "        self.positioner = nn.Embedding.from_pretrained(\n",
        "            sinusoid_encoding_table(MAX_SEQ + 1, emb_dim), freeze=True)\n",
        "\n",
        "        self.attns = nn.ModuleList([MHA(emb_dim, hid_dim)] * (self.n_lay + 1))\n",
        "        self.downs = nn.ModuleList([DownSampFF(emb_dim, hid_dim, dec)] * self.n_lay)\n",
        "        self.res1ds = nn.ModuleList([Reshaper1d(MAX_SEQ-dec*i, -dec) for i in range(self.n_lay)]) \n",
        "\n",
        "    def forward(self, x):\n",
        "        intra_attns = []\n",
        "        for i in range(self.n_lay): # x: [batch_size, seq_len, emb_dim]\n",
        "            batch_size, seq_len, emb_dim = x.shape\n",
        "            x += self.positioner(t.tensor(\n",
        "                [[seq_len]+[*range(1, seq_len)]] * batch_size, \n",
        "                dtype=t.long, device=device))\n",
        "\n",
        "            mask = seq_mask(batch_size, seq_len) \n",
        "            x, attn = self.attns[i](x, x, x, mask)\n",
        "            x = self.downs[i](x) + x      \n",
        "            x = self.res1ds[i](x)           \n",
        "              \n",
        "            intra_attns += [attn]\n",
        "        \n",
        "        batch_size, seq_len, emb_dim = x.shape\n",
        "        mask = seq_mask(batch_size, seq_len) \n",
        "        x, attn = self.attns[-1](x, x, x, mask)\n",
        "\n",
        "        return x, intra_attns + [attn]"
      ],
      "execution_count": 0,
      "outputs": []
    },
    {
      "cell_type": "code",
      "metadata": {
        "id": "H3isR5LGN273",
        "colab_type": "code",
        "colab": {}
      },
      "source": [
        "class Encoder(nn.Module):\n",
        "     def __init__(self, emb_dim=EMB_DIM, hid_dim=HID_DIM, code_dim=CODE_DIM, dec=DECREASE, vocab_size=VOCAB_SIZE):\n",
        "        super(Encoder, self).__init__()\n",
        "        self.emb_dim = emb_dim\n",
        "        self.dec = dec\n",
        "\n",
        "        self.embedder = nn.Embedding(vocab_size, emb_dim)\n",
        "        self.core = EnCore(emb_dim, hid_dim, dec)\n",
        "\n",
        "        self.dense_mu = nn.Linear(dec * emb_dim, code_dim)\n",
        "        self.dense_var = nn.Linear(dec * emb_dim, code_dim)\n",
        "\n",
        "        self.norm_mu = nn.LayerNorm(code_dim)\n",
        "        self.norm_var = nn.LayerNorm(code_dim)\n",
        "\n",
        "\n",
        "     def forward(self, x):\n",
        "        batch_size, seq_len = x.shape\n",
        "\n",
        "        embed = self.embedder(x)\n",
        "                \n",
        "        context, intra_attns = self.core(embed)\n",
        "        context = context.reshape(batch_size, self.dec * self.emb_dim)\n",
        "        \n",
        "        mu = self.dense_mu(context)\n",
        "        logvar = self.dense_var(context)\n",
        "\n",
        "        return self.norm_mu(mu), self.norm_var(logvar), intra_attns"
      ],
      "execution_count": 0,
      "outputs": []
    },
    {
      "cell_type": "markdown",
      "metadata": {
        "id": "vyHcgHiZuQsc",
        "colab_type": "text"
      },
      "source": [
        "### Decoder"
      ]
    },
    {
      "cell_type": "code",
      "metadata": {
        "id": "QjpEJxigCGsH",
        "colab_type": "code",
        "colab": {}
      },
      "source": [
        "class UpSampFF(nn.Module):\n",
        "    def __init__(self, emb_dim=EMB_DIM, hid_dim=HID_DIM, inc=INCREASE):\n",
        "        super(UpSampFF, self).__init__()\n",
        "        self.conv1 = nn.ConvTranspose1d(emb_dim, hid_dim, kernel_size=1)\n",
        "        self.conv2 = nn.ConvTranspose1d(hid_dim, emb_dim, kernel_size=1)\n",
        "        self.lay_norm = nn.LayerNorm(emb_dim)\n",
        "\n",
        "    def forward(self, inputs): # inputs: [batch_size, seq_len, emb_dim]\n",
        "        output = self.conv1(inputs.transpose(1, 2))\n",
        "        output = t.relu(output)\n",
        "        output = self.conv2(output).transpose(1, 2)\n",
        "        output = self.lay_norm(output)\n",
        "        return t.relu(output)"
      ],
      "execution_count": 0,
      "outputs": []
    },
    {
      "cell_type": "code",
      "metadata": {
        "id": "wuJFX-QqAvRC",
        "colab_type": "code",
        "colab": {}
      },
      "source": [
        "class DeCore(nn.Module):\n",
        "    def __init__(self, emb_dim=EMB_DIM, hid_dim=HID_DIM, inc=INCREASE):\n",
        "        super(DeCore, self).__init__()\n",
        "        self.n_lay = MAX_SEQ // inc - 1\n",
        "\n",
        "        self.positioner = nn.Embedding.from_pretrained(\n",
        "            sinusoid_encoding_table(MAX_SEQ + 1, emb_dim), freeze=True)\n",
        "\n",
        "        self.attns = nn.ModuleList([MHA(emb_dim, hid_dim)] * (self.n_lay + 1))\n",
        "        self.ups = nn.ModuleList([UpSampFF(emb_dim, hid_dim, inc)] * self.n_lay)\n",
        "        self.res1ds = nn.ModuleList([Reshaper1d(inc+inc*i, inc) for i in range(self.n_lay)]) \n",
        "\n",
        "\n",
        "    def forward(self, x):\n",
        "        intra_attns = []\n",
        "        for i in range(self.n_lay): # x: [batch_size, seq_len, emb_dim]\n",
        "            batch_size, seq_len, emb_dim = x.shape\n",
        "            x += self.positioner(t.tensor(\n",
        "                [[seq_len]+[*range(1, seq_len)]] * batch_size, \n",
        "                dtype=t.long, device=device))\n",
        "\n",
        "            mask = seq_mask(batch_size, seq_len) \n",
        "            x, attn = self.attns[i](x, x, x, mask)\n",
        "            x = self.ups[i](x) + x  \n",
        "            x = self.res1ds[i](x)                 \n",
        "\n",
        "            intra_attns += [attn]\n",
        "        \n",
        "        batch_size, seq_len, emb_dim = x.shape\n",
        "        mask = seq_mask(batch_size, seq_len) \n",
        "        x, attn = self.attns[-1](x, x, x, mask)\n",
        "        \n",
        "        return x, intra_attns+[attn]\n",
        "    "
      ],
      "execution_count": 0,
      "outputs": []
    },
    {
      "cell_type": "code",
      "metadata": {
        "colab_type": "code",
        "id": "DU6aMzGjBYRd",
        "colab": {}
      },
      "source": [
        "class Decoder(nn.Module):\n",
        "     def __init__(self, emb_dim=EMB_DIM, hid_dim=HID_DIM, code_dim=CODE_DIM, inc=INCREASE, vocab_size=VOCAB_SIZE):\n",
        "        super(Decoder, self).__init__()\n",
        "        self.emb_dim = emb_dim \n",
        "        self.inc = inc \n",
        "\n",
        "        self.dense = nn.Linear(code_dim, inc * emb_dim)\n",
        "        self.core = DeCore(emb_dim, hid_dim, inc)\n",
        "        self.dembedder = nn.Linear(emb_dim, vocab_size, bias=False)\n",
        "\n",
        "     def forward(self, x):\n",
        "        batch_size, hid_dim = x.shape\n",
        "        embed = self.dense(x).view(batch_size, self.inc, self.emb_dim)\n",
        "                \n",
        "        embed, intra_attns = self.core(embed)\n",
        "        \n",
        "        logits = self.dembedder(embed)\n",
        "        probs = F.log_softmax(logits, dim=-1)\n",
        "\n",
        "        return probs, intra_attns"
      ],
      "execution_count": 0,
      "outputs": []
    },
    {
      "cell_type": "markdown",
      "metadata": {
        "id": "kywGAU80GtWP",
        "colab_type": "text"
      },
      "source": [
        "### VAE"
      ]
    },
    {
      "cell_type": "code",
      "metadata": {
        "id": "GgFGFw1QGrYk",
        "colab_type": "code",
        "colab": {}
      },
      "source": [
        "class VAE(nn.Module):\n",
        "    def __init__(self, emb_dim=EMB_DIM, hid_dim=HID_DIM, code_dim=CODE_DIM, opt=OPT):\n",
        "        super(VAE, self).__init__()\n",
        "        \n",
        "        self.encoder = Encoder(emb_dim, hid_dim, code_dim)\n",
        "        self.decoder = Decoder(emb_dim, hid_dim, code_dim)\n",
        "\n",
        "        # self.encoder.embedder.weight = self.decoder.dembedder.weight\n",
        "        self.opt = opt(self.parameters(), LR, betas=[0.9, 0.999])\n",
        "    \n",
        "    def distribute(self, mu, logvar):\n",
        "        std = t.exp(0.5 * logvar)\n",
        "        eps = t.randn_like(std)\n",
        "        return mu + eps * std\n",
        "\n",
        "    def forward(self, x):\n",
        "        mu, logvar, dec_self_attns = self.encoder(x)\n",
        "        codes = self.distribute(mu, logvar)       \n",
        "        probs, enc_self_attns = self.decoder(codes)\n",
        "        \n",
        "        return (mu, logvar), probs, (dec_self_attns, enc_self_attns)"
      ],
      "execution_count": 0,
      "outputs": []
    },
    {
      "cell_type": "markdown",
      "metadata": {
        "id": "KiTNHxSl_dUz",
        "colab_type": "text"
      },
      "source": [
        "## Optimization"
      ]
    },
    {
      "cell_type": "code",
      "metadata": {
        "id": "Q9Sqfr2jHqNV",
        "colab_type": "code",
        "colab": {}
      },
      "source": [
        "def train_iter(tar_batch, vae, alpha):\n",
        "    vae.train()\n",
        "    vae.opt.zero_grad()\n",
        "    batch_size, seq_len = tar_batch.shape\n",
        "\n",
        "    (mu, logvar), probs, _ = vae(tar_batch)\n",
        "    \n",
        "    # Reconstruction Error\n",
        "    nll_loss = NLLLoss(reduction='mean')(\n",
        "        probs.reshape(batch_size * seq_len, VOCAB_SIZE), \n",
        "        tar_batch.reshape(batch_size * seq_len))\n",
        "    \n",
        "    # Regularization Error\n",
        "    kld_loss = (-0.5 * t.mean(1 + logvar - mu.pow(2) - logvar.exp()))\n",
        "    \n",
        "    loss = nll_loss + kld_loss * alpha\n",
        "    loss.backward()\n",
        "    vae.opt.step()\n",
        "\n",
        "    return nll_loss.item(), kld_loss.item()"
      ],
      "execution_count": 0,
      "outputs": []
    },
    {
      "cell_type": "markdown",
      "metadata": {
        "id": "_MSpWu9kshOS",
        "colab_type": "text"
      },
      "source": [
        "### Epoch"
      ]
    },
    {
      "cell_type": "code",
      "metadata": {
        "id": "GTTzuLrzq0PU",
        "colab_type": "code",
        "colab": {}
      },
      "source": [
        "def online_epoch(file_path, vae, alpha, batcher, vocab, batch_size=BATCH_SIZE):\n",
        "    d_size = compute_size(file_path)\n",
        "    nll_batch_losses = []\n",
        "    kld_batch_losses = []\n",
        "    with open(file_path, 'r') as f:\n",
        "        i = 1\n",
        "        tar_batch = []\n",
        "        processed_batches = 0\n",
        "        for line in f:\n",
        "            tar_batch += [word_tokenize(json.loads(line)['review'].lower())]\n",
        "\n",
        "            if len(tar_batch) % batch_size == 0:\n",
        "                tar_batch = batcher.insta_batch(tar_batch, vocab)\n",
        "                nll_batch_loss, kld_batch_loss = train_iter(tar_batch, vae, alpha)\n",
        "        \n",
        "                nll_batch_losses += [nll_batch_loss]\n",
        "                kld_batch_losses += [kld_batch_loss]       \n",
        "\n",
        "                tar_batch = []\n",
        "                processed_batches += 1\n",
        "                \n",
        "            # ----------------------- UPDATING PROGRESS ------------------------\n",
        "            if processed_batches > i * ((d_size / batch_size) // 10):\n",
        "                print('.', sep='', end='') \n",
        "                i += 1\n",
        "            # ------------------------------------------------------------------    \n",
        "    print(' |', sep=' ', end=' ')\n",
        "    \n",
        "    return sum(nll_batch_losses) / processed_batches, sum(kld_batch_losses) / processed_batches"
      ],
      "execution_count": 0,
      "outputs": []
    },
    {
      "cell_type": "markdown",
      "metadata": {
        "id": "wA_xQO3psaQB",
        "colab_type": "text"
      },
      "source": [
        "### Training"
      ]
    },
    {
      "cell_type": "code",
      "metadata": {
        "id": "tycpRdbxxp2E",
        "colab_type": "code",
        "colab": {}
      },
      "source": [
        "def online_train(file_path, vae, epochs, batcher, vocab, batch_size=BATCH_SIZE):\n",
        "    nll_losses = []\n",
        "    kld_losses = []\n",
        "    for i in range(e, epochs+e):\n",
        "        print('Epoch:', '{:3d}'.format(i), '|', sep=' ', end=' ')\n",
        "        \n",
        "        alpha = ALPHA\n",
        "        nll_loss, kld_loss = online_epoch(file_path, vae, alpha, batcher, vocab, batch_size)\n",
        "        nll_losses += [nll_loss]\n",
        "        kld_losses += [kld_loss]\n",
        "            \n",
        "        print('NLL:', '{:7.6f}'.format(nll_loss), '|', \n",
        "              'KLD:', '{:7.6f}'.format(kld_loss), '|',\n",
        "              'alpha:', alpha)\n",
        "    \n",
        "    return nll_losses, kld_losses, epochs+e"
      ],
      "execution_count": 0,
      "outputs": []
    },
    {
      "cell_type": "markdown",
      "metadata": {
        "id": "8zqyiNVyWYz1",
        "colab_type": "text"
      },
      "source": [
        "## Evaluation"
      ]
    },
    {
      "cell_type": "code",
      "metadata": {
        "id": "3tt3QErjyrTe",
        "colab_type": "code",
        "colab": {}
      },
      "source": [
        "def gather_random_sentences(file_path, n=1024):\n",
        "    d_size = compute_size(file_path)    \n",
        "    random_samples = truncated_permutation(n, d_size-1)\n",
        "    \n",
        "    sentences = []\n",
        "    with open(file_path, 'r') as f:\n",
        "        i = 0\n",
        "        for line in f:\n",
        "            if i in random_samples:\n",
        "                sentences += [word_tokenize(json.loads(line)['review'].lower())]\n",
        "                if len(sentences) == n:\n",
        "                    break\n",
        "            i += 1\n",
        "    return sentences"
      ],
      "execution_count": 0,
      "outputs": []
    },
    {
      "cell_type": "markdown",
      "metadata": {
        "id": "SybyK3SwyRol",
        "colab_type": "text"
      },
      "source": [
        "### Performance Evaluation"
      ]
    },
    {
      "cell_type": "code",
      "metadata": {
        "id": "sA6O89XTZnwz",
        "colab_type": "code",
        "colab": {}
      },
      "source": [
        "def performance_evaluation(file_path, vae, batch_size=64):\n",
        "    vae.eval()\n",
        "\n",
        "    with open(file_path, 'r') as f:\n",
        "        nll_batch_losses = []\n",
        "        kld_batch_losses = []\n",
        "        pp_batch_losses = []\n",
        "\n",
        "        tar_batch = []\n",
        "        for line in f:\n",
        "            tar_batch += [word_tokenize(json.loads(line)['review'].lower())]\n",
        "\n",
        "            if len(tar_batch) % batch_size == 0:\n",
        "                tar_batch = batcher.insta_batch(tar_batch, vocab)\n",
        "               \n",
        "                # ------------------------ ITERATION ---------------------------\n",
        "                batch_size, seq_len = tar_batch.shape \n",
        "\n",
        "                (mu, logvar), probs, _ = vae(tar_batch)\n",
        "        \n",
        "                # Reconstruction Error\n",
        "                nll_loss = NLLLoss(reduction='mean')(\n",
        "                    probs.reshape(batch_size * seq_len, VOCAB_SIZE), \n",
        "                    tar_batch.reshape(batch_size * seq_len))\n",
        "                \n",
        "                pp_loss = t.exp(nll_loss)\n",
        "                \n",
        "                # Regularization Error\n",
        "                kld_loss = (-0.5 * t.mean(1 + logvar - mu.pow(2) - logvar.exp()))\n",
        "                # --------------------------------------------------------------  \n",
        "                nll_batch_losses += [nll_loss.item()]\n",
        "                pp_batch_losses += [pp_loss.item()]\n",
        "                kld_batch_losses += [kld_loss.item()]\n",
        "\n",
        "                tar_batch = []\n",
        "\n",
        "    return sum(nll_batch_losses)/len(nll_batch_losses), \\\n",
        "           sum(pp_batch_losses)/len(pp_batch_losses), \\\n",
        "           sum(kld_batch_losses)/len(kld_batch_losses), "
      ],
      "execution_count": 0,
      "outputs": []
    },
    {
      "cell_type": "code",
      "metadata": {
        "id": "Fu8alhzq9SvY",
        "colab_type": "code",
        "colab": {}
      },
      "source": [
        "def blue_evaluation(file_path, vae, batch_size, n_gram=4):\n",
        "    vae.eval()\n",
        "\n",
        "    sentences = gather_random_sentences(file_path, batch_size)\n",
        "    batch = batcher.insta_batch(sentences, vocab)\n",
        "    batch_size, seq_len = batch.shape\n",
        "\n",
        "    _, probs, _ = vae(batch)\n",
        "\n",
        "    word_ids = probs.max(dim=-1, keepdim=False)[1] \n",
        "    predictions = sentences_from_tensors(word_ids, vocab, at=-1)\n",
        "\n",
        "    sentences = prep_sentences(sentences)\n",
        "    return bleu_scoring(sentences, predictions, n_gram)"
      ],
      "execution_count": 0,
      "outputs": []
    },
    {
      "cell_type": "code",
      "metadata": {
        "id": "JiRo20vbdF1W",
        "colab_type": "code",
        "colab": {}
      },
      "source": [
        "def bleu_evaluation(file_path, vae, batch_size=64, n_gram=4):\n",
        "    vae.eval()\n",
        "\n",
        "    with open(file_path, 'r') as f:\n",
        "        bleus = []\n",
        "\n",
        "        tar_batch = []\n",
        "        sentences = []\n",
        "        for line in f:\n",
        "            sent = word_tokenize(json.loads(line)['review'].lower())\n",
        "            tar_batch += [sent]\n",
        "            sentences += [sent]\n",
        "\n",
        "            if len(tar_batch) % batch_size == 0:\n",
        "                tar_batch = batcher.insta_batch(tar_batch, vocab)\n",
        "\n",
        "                batch_size, seq_len = tar_batch.shape\n",
        "\n",
        "                _, probs, _ = vae(tar_batch)\n",
        "\n",
        "                word_ids = probs.max(dim=-1, keepdim=False)[1] \n",
        "                predictions = sentences_from_tensors(word_ids, vocab, at=-1)\n",
        "\n",
        "                sentences = prep_sentences(sentences)\n",
        "                bleus += [bleu_scoring(sentences, predictions, n_gram)]\n",
        "\n",
        "                tar_batch = []\n",
        "                sentences = []\n",
        "\n",
        "        return sum(bleus)/len(bleus)"
      ],
      "execution_count": 0,
      "outputs": []
    },
    {
      "cell_type": "code",
      "metadata": {
        "id": "FtzOzkjbxX1P",
        "colab_type": "code",
        "colab": {}
      },
      "source": [
        "def bleu_scoring(targets, predictions, n_gram=4):\n",
        "    smoothing = bleu.SmoothingFunction().method7\n",
        "    wights = [1 / n_gram] * n_gram\n",
        "    references = [[target] for target in targets]\n",
        "    \n",
        "    return bleu.corpus_bleu(references, predictions,\n",
        "                            weights=wights,\n",
        "                            smoothing_function=smoothing)"
      ],
      "execution_count": 0,
      "outputs": []
    },
    {
      "cell_type": "markdown",
      "metadata": {
        "id": "rAf1XRE4hnJB",
        "colab_type": "text"
      },
      "source": [
        "### Sentence Evaluation"
      ]
    },
    {
      "cell_type": "code",
      "metadata": {
        "id": "SQdw1AMEdQyW",
        "colab_type": "code",
        "colab": {}
      },
      "source": [
        "def random_evaluation(vae, batch_size, scaler=1):\n",
        "    vae.eval()\n",
        "    noise_batch = t.rand(batch_size, CODE_DIM, device=device) * scaler\n",
        "    probs, attns = vae.decoder(noise_batch)\n",
        "    \n",
        "    word_ids = probs.max(dim=-1, keepdim=False)[1] # [batch_size, seq_len]\n",
        "    return sentences_from_tensors(word_ids, vocab, at=batch_size)"
      ],
      "execution_count": 0,
      "outputs": []
    },
    {
      "cell_type": "code",
      "metadata": {
        "id": "l6ERYbuB2wEo",
        "colab_type": "code",
        "colab": {}
      },
      "source": [
        "def interpolation_evaluation(vae, file_path, n=10):\n",
        "    vae.eval()\n",
        "    sentence_0, sentence_1, interps = interpolate(vae, file_path, n)\n",
        "    \n",
        "    interps = t.cat(interps, dim=0)\n",
        "    probs, attns = vae.decoder(interps)\n",
        "    \n",
        "    word_ids = probs.max(dim=-1, keepdim=False)[1] # [batch_size, seq_len]\n",
        "    return sentence_0, sentence_1, sentences_from_tensors(word_ids, vocab, at=n)"
      ],
      "execution_count": 0,
      "outputs": []
    },
    {
      "cell_type": "code",
      "metadata": {
        "id": "tO2LvGRitx2G",
        "colab_type": "code",
        "colab": {}
      },
      "source": [
        "def interpolate(vae, file_path, n=10):\n",
        "    d_size = compute_size(file_path)\n",
        "    random_samples = np.random.randint(low=0, high=d_size-1, size=(2)).tolist()\n",
        "    \n",
        "    sentences = []\n",
        "    with open(file_path, 'r') as f:\n",
        "        i = 0\n",
        "        for line in f:\n",
        "            if i in random_samples:\n",
        "                sentences += [word_tokenize(json.loads(line)['review'].lower())]\n",
        "                if len(sentences) == 2:\n",
        "                    break\n",
        "            i += 1\n",
        "\n",
        "    sent_batch = batcher.insta_batch(sentences, vocab)\n",
        "    sentence_0 = sent_batch[0].unsqueeze(0)\n",
        "    sentence_1 = sent_batch[1].unsqueeze(0)\n",
        "\n",
        "    mu_0, logvar_0, _ = vae.encoder(sentence_0)\n",
        "    mu_1, logvar_1, _ = vae.encoder(sentence_1)\n",
        "\n",
        "    encoded_0 = vae.distribute(mu_0, logvar_0)\n",
        "    encoded_1 = vae.distribute(mu_1, logvar_1)\n",
        "\n",
        "    interpolation = [encoded_0*(1-i) + encoded_1*i for i in np.linspace(0, 1, num=n)]\n",
        "\n",
        "    return sentence_0, sentence_1, interpolation"
      ],
      "execution_count": 0,
      "outputs": []
    },
    {
      "cell_type": "code",
      "metadata": {
        "id": "IV6v004qdk3T",
        "colab_type": "code",
        "colab": {}
      },
      "source": [
        "def sentences_from_tensors(tensors, vocab, at=2):\n",
        "    sentences = []\n",
        "    for i in range(tensors.size(0)):\n",
        "        sentences += [[vocab.index2word[n.item()] for n in tensors[i, :]]]\n",
        "        if i > at and at != -1: break\n",
        "    return sentences"
      ],
      "execution_count": 0,
      "outputs": []
    },
    {
      "cell_type": "code",
      "metadata": {
        "id": "Dlq3wVxZqD4S",
        "colab_type": "code",
        "colab": {}
      },
      "source": [
        "def reconstruction_sample(model, sentence, vocab):\n",
        "    assert len(word_tokenize(sentence.lower())) <= MAX_LEN\n",
        "    model.eval()\n",
        "    batch = [word_tokenize(sentence.lower())]\n",
        "    batch = batcher.insta_batch(batch, vocab)\n",
        "\n",
        "    _, probs, _ = vae(batch)\n",
        "    word_ids = probs.max(dim=-1, keepdim=False)[1] # [batch_size, seq_len]\n",
        "\n",
        "    return sentences_from_tensors(word_ids, vocab, at=-1)"
      ],
      "execution_count": 0,
      "outputs": []
    },
    {
      "cell_type": "markdown",
      "metadata": {
        "id": "ZSsv8TU7hsUm",
        "colab_type": "text"
      },
      "source": [
        "### Latent Evaluation"
      ]
    },
    {
      "cell_type": "code",
      "metadata": {
        "id": "_ROr7vky2CDb",
        "colab_type": "code",
        "colab": {}
      },
      "source": [
        "def fix(model, requires_grad=False):\n",
        "    for p in model.parameters():\n",
        "        p.requires_grad = requires_grad"
      ],
      "execution_count": 0,
      "outputs": []
    },
    {
      "cell_type": "code",
      "metadata": {
        "id": "DdZnuN0Lhuui",
        "colab_type": "code",
        "colab": {}
      },
      "source": [
        "def latent_evaluation(file_path, model, n_batches=100, dims=2):\n",
        "    fix(model, requires_grad=False)\n",
        "\n",
        "    sent_batches = gather_batches(file_path, n_batches)\n",
        "    print(len(sent_batches))\n",
        "    batches = [batcher.insta_batch(batch, vocab) for batch in sent_batches]\n",
        "    \n",
        "    codes = []\n",
        "    for batch in batches:\n",
        "        mu_batch, logvar_batch, _ = model.encoder(batch)\n",
        "        codes += [model.distribute(mu_batch, logvar_batch)]\n",
        "\n",
        "    codes = t.cat(codes, dim=0).cpu().numpy()\n",
        "\n",
        "    pca = PCA(n_components=dims)\n",
        "    pca.fit(codes)\n",
        "    pca_codes = pca.transform(codes)\n",
        "\n",
        "    fix(model, requires_grad=True)\n",
        "    return pca_codes.T, sent_batches"
      ],
      "execution_count": 0,
      "outputs": []
    },
    {
      "cell_type": "code",
      "metadata": {
        "id": "hWbM5JKruppO",
        "colab_type": "code",
        "colab": {}
      },
      "source": [
        "def gather_batches(file_path, n_batches=50, batch_size=BATCH_SIZE):\n",
        "    d_size = compute_size(file_path)\n",
        "    thr = (n_batches * batch_size) / d_size\n",
        "\n",
        "    with open(file_path, 'r') as f:\n",
        "        batches = []\n",
        "        temp_batch = []\n",
        "        for line in f:\n",
        "            if np.random.rand(1).item() < thr:\n",
        "                temp_batch += [word_tokenize(json.loads(line)['review'].lower())]\n",
        "\n",
        "                if len(temp_batch) % batch_size == 0:\n",
        "                    batches += [temp_batch]\n",
        "                    temp_batch = []\n",
        "    return batches"
      ],
      "execution_count": 0,
      "outputs": []
    },
    {
      "cell_type": "markdown",
      "metadata": {
        "id": "AdHZdbYZvGXv",
        "colab_type": "text"
      },
      "source": [
        "### Attention Evaluation"
      ]
    },
    {
      "cell_type": "code",
      "metadata": {
        "id": "BVeFbwuIvKX6",
        "colab_type": "code",
        "colab": {}
      },
      "source": [
        "def showattn(attn, tensor_in, tensor_out, vocab):\n",
        "    fig = plt.figure(figsize=(5, 5))\n",
        "    ax = fig.add_subplot(1, 1, 1)\n",
        "    ax.matshow(attn)\n",
        "\n",
        "    sentence_in = [vocab.index2word[n.item()] for n in tensor_in]\n",
        "    sentence_out = [vocab.index2word[n.item()] for n in tensor_out]\n",
        "\n",
        "    if attn.shape[0] == MAX_SEQ:\n",
        "        print('Input sentence: ', sentence_in)\n",
        "        ax.set_xticks(range(len(sentence_out)))\n",
        "        ax.set_xticklabels(sentence_out, fontdict={'fontsize': 15}, rotation=90)\n",
        "        ax.set_yticks(range(len(sentence_out)))\n",
        "        ax.set_yticklabels(sentence_out, fontdict={'fontsize': 15})\n",
        "\n",
        "    plt.show()"
      ],
      "execution_count": 0,
      "outputs": []
    },
    {
      "cell_type": "markdown",
      "metadata": {
        "id": "l0KGCmfBVrXD",
        "colab_type": "text"
      },
      "source": [
        "# MAIN"
      ]
    },
    {
      "cell_type": "markdown",
      "metadata": {
        "id": "URi3wv6idr03",
        "colab_type": "text"
      },
      "source": [
        "## Data Structuring"
      ]
    },
    {
      "cell_type": "code",
      "metadata": {
        "id": "h6Pw-FwjgUCd",
        "colab_type": "code",
        "colab": {}
      },
      "source": [
        "dir_path = '/content/drive/My Drive/POLIMI/Thesis/Data/Datasets/Food/'\n",
        "model_path = '/content/drive/My Drive/POLIMI/Thesis/Data/Models/'"
      ],
      "execution_count": 0,
      "outputs": []
    },
    {
      "cell_type": "code",
      "metadata": {
        "id": "NpyYPdOxkZ97",
        "colab_type": "code",
        "outputId": "33f4e60c-cf5d-4761-a838-9eed74e004c9",
        "colab": {
          "base_uri": "https://localhost:8080/",
          "height": 34
        }
      },
      "source": [
        "PERC = 5\n",
        "VER = 1\n",
        "perc_name = 'reviews_'+str(MAX_LEN)+'_'+str(PERC)+'perc'+'V'+str(VER)+'.jsonl'\n",
        "perc_path = dir_path + perc_name\n",
        "perc_path"
      ],
      "execution_count": 0,
      "outputs": [
        {
          "output_type": "execute_result",
          "data": {
            "text/plain": [
              "'/content/drive/My Drive/POLIMI/Thesis/Data/Datasets/Food/reviews_14_5percV1.jsonl'"
            ]
          },
          "metadata": {
            "tags": []
          },
          "execution_count": 140
        }
      ]
    },
    {
      "cell_type": "code",
      "metadata": {
        "id": "U9Kyu2VS52Is",
        "colab_type": "code",
        "outputId": "be374bbd-fdbc-4826-9cb5-d9add9fff9fc",
        "colab": {
          "base_uri": "https://localhost:8080/",
          "height": 34
        }
      },
      "source": [
        "train_name = 'train.jsonl'\n",
        "train_path = dir_path + train_name\n",
        "train_path"
      ],
      "execution_count": 0,
      "outputs": [
        {
          "output_type": "execute_result",
          "data": {
            "text/plain": [
              "'/content/drive/My Drive/POLIMI/Thesis/Data/Datasets/Food/train.jsonl'"
            ]
          },
          "metadata": {
            "tags": []
          },
          "execution_count": 141
        }
      ]
    },
    {
      "cell_type": "code",
      "metadata": {
        "id": "3WBusxSmgUFe",
        "colab_type": "code",
        "outputId": "2d3c95ec-5de4-4b01-b230-f6757a50b643",
        "colab": {
          "base_uri": "https://localhost:8080/",
          "height": 34
        }
      },
      "source": [
        "vocab = Vocab()\n",
        "vocab.add_text(tokenize_online(train_path))\n",
        "vocab.trim(VOCAB_SIZE)"
      ],
      "execution_count": 0,
      "outputs": [
        {
          "output_type": "stream",
          "text": [
            "100%|██████████| 1717893/1717893 [00:12<00:00, 140733.82it/s]\n"
          ],
          "name": "stderr"
        }
      ]
    },
    {
      "cell_type": "code",
      "metadata": {
        "id": "n6TxA3go9TNO",
        "colab_type": "code",
        "colab": {}
      },
      "source": [
        "batcher = Batcher()"
      ],
      "execution_count": 0,
      "outputs": []
    },
    {
      "cell_type": "code",
      "metadata": {
        "id": "AhJ5FYdPdobp",
        "colab_type": "code",
        "outputId": "44fb0e6e-79f3-47aa-c807-5efbf56d348d",
        "colab": {
          "base_uri": "https://localhost:8080/",
          "height": 34
        }
      },
      "source": [
        "compute_size(train_path)"
      ],
      "execution_count": 0,
      "outputs": [
        {
          "output_type": "execute_result",
          "data": {
            "text/plain": [
              "1717893"
            ]
          },
          "metadata": {
            "tags": []
          },
          "execution_count": 144
        }
      ]
    },
    {
      "cell_type": "markdown",
      "metadata": {
        "colab_type": "text",
        "id": "L4ehzZd_eg6P"
      },
      "source": [
        "## Training"
      ]
    },
    {
      "cell_type": "markdown",
      "metadata": {
        "id": "2D4cK6Nfr_Vn",
        "colab_type": "text"
      },
      "source": [
        "GPT-2 small: 124M"
      ]
    },
    {
      "cell_type": "code",
      "metadata": {
        "id": "DmwNmb_KkbZ0",
        "colab_type": "code",
        "outputId": "a28f89ed-32ee-4d24-d2f4-7c176fc2ed0e",
        "colab": {
          "base_uri": "https://localhost:8080/",
          "height": 34
        }
      },
      "source": [
        "vae = VAE(EMB_DIM, HID_DIM, CODE_DIM, OPT).to(device)\n",
        "count_params(vae)"
      ],
      "execution_count": 0,
      "outputs": [
        {
          "output_type": "execute_result",
          "data": {
            "text/plain": [
              "1110076"
            ]
          },
          "metadata": {
            "tags": []
          },
          "execution_count": 145
        }
      ]
    },
    {
      "cell_type": "code",
      "metadata": {
        "id": "8ng7mWdunz-Y",
        "colab_type": "code",
        "colab": {}
      },
      "source": [
        "RESTART = False\n",
        "\n",
        "if RESTART:\n",
        "    e = 0\n",
        "\n",
        "    nll_losses = []\n",
        "    kld_losses = []\n",
        "else:\n",
        "    VERSION = 34\n",
        "    e = 8\n",
        "\n",
        "    checkpoint = t.load(model_path + str(VERSION) + '_checkpoint_' + str(e), map_location=t.device(device))\n",
        "    \n",
        "    vae.load_state_dict(checkpoint['model_state_dict'])\n",
        "    vae.opt.load_state_dict(checkpoint['optimizer_state_dict'])\n",
        "\n",
        "    e = checkpoint['epoch']\n",
        "\n",
        "    nll_losses = checkpoint['nll_losses']\n",
        "    kld_losses = checkpoint['kld_losses']\n",
        "    vae.train()"
      ],
      "execution_count": 0,
      "outputs": []
    },
    {
      "cell_type": "code",
      "metadata": {
        "id": "NH65mBKGyuz9",
        "colab_type": "code",
        "colab": {}
      },
      "source": [
        "VERSION = 34"
      ],
      "execution_count": 0,
      "outputs": []
    },
    {
      "cell_type": "code",
      "metadata": {
        "id": "Vu2YNnZgOUGp",
        "colab_type": "code",
        "colab": {}
      },
      "source": [
        "EPOCHS = 8\n",
        "TIMES = 0\n",
        "START = 0\n",
        "MID = True\n",
        "\n",
        "ALPHA = 1e-1"
      ],
      "execution_count": 0,
      "outputs": []
    },
    {
      "cell_type": "code",
      "metadata": {
        "id": "DZryZryVyNVO",
        "colab_type": "code",
        "colab": {}
      },
      "source": [
        "for j in range(START, START + TIMES):\n",
        "\n",
        "    # -------------------------- PARAMETERS SETTING ----------------------------\n",
        "    lr = LR #/ (2**j)\n",
        "    epcs =  EPOCHS # // (2**j)\n",
        "    batch_size = BATCH_SIZE * (2**j)\n",
        "    if not MID: \n",
        "        vae.opt = OPT(vae.parameters(), lr, betas=[0.9, 0.999])\n",
        "    print('Batch Size:', batch_size, '|', 'Learning Rate:', lr)\n",
        "    # --------------------------------------------------------------------------\n",
        "\n",
        "    nll_loss, kld_loss, e = online_train(train_path, vae, epcs,\n",
        "                                         batcher, vocab, batch_size)\n",
        "    nll_losses += nll_loss\n",
        "    kld_losses += kld_loss\n",
        "\n",
        "    record_checkpoint(e, vae, nll_losses, kld_losses, VERSION)"
      ],
      "execution_count": 0,
      "outputs": []
    },
    {
      "cell_type": "markdown",
      "metadata": {
        "id": "In2XNUHuvxby",
        "colab_type": "text"
      },
      "source": [
        "## Evaluation"
      ]
    },
    {
      "cell_type": "code",
      "metadata": {
        "id": "VbIgRA0_w3Ek",
        "colab_type": "code",
        "outputId": "18a56743-170e-4481-c291-6b701927a527",
        "colab": {
          "base_uri": "https://localhost:8080/",
          "height": 34
        }
      },
      "source": [
        "dev_name = 'dev.jsonl'\n",
        "dev_path = dir_path + dev_name\n",
        "dev_path"
      ],
      "execution_count": 0,
      "outputs": [
        {
          "output_type": "execute_result",
          "data": {
            "text/plain": [
              "'/content/drive/My Drive/POLIMI/Thesis/Data/Datasets/Food/dev.jsonl'"
            ]
          },
          "metadata": {
            "tags": []
          },
          "execution_count": 150
        }
      ]
    },
    {
      "cell_type": "code",
      "metadata": {
        "id": "cqcxNn_xQb76",
        "colab_type": "code",
        "outputId": "3fbec7c2-4d58-410a-8d53-f984d512075c",
        "colab": {
          "base_uri": "https://localhost:8080/",
          "height": 34
        }
      },
      "source": [
        "test_name = 'test.jsonl'\n",
        "test_path = dir_path + test_name\n",
        "test_path"
      ],
      "execution_count": 0,
      "outputs": [
        {
          "output_type": "execute_result",
          "data": {
            "text/plain": [
              "'/content/drive/My Drive/POLIMI/Thesis/Data/Datasets/Food/test.jsonl'"
            ]
          },
          "metadata": {
            "tags": []
          },
          "execution_count": 151
        }
      ]
    },
    {
      "cell_type": "code",
      "metadata": {
        "id": "xkqyHXvKJVD2",
        "colab_type": "code",
        "colab": {}
      },
      "source": [
        "READABLE = True"
      ],
      "execution_count": 0,
      "outputs": []
    },
    {
      "cell_type": "markdown",
      "metadata": {
        "id": "tI7bvqmdngdX",
        "colab_type": "text"
      },
      "source": [
        "### **Performance Evaluation**"
      ]
    },
    {
      "cell_type": "code",
      "metadata": {
        "id": "qYyK-W9vng8k",
        "colab_type": "code",
        "outputId": "b60c23dd-6cbb-4b98-ce8b-9436875b9607",
        "colab": {
          "base_uri": "https://localhost:8080/",
          "height": 34
        }
      },
      "source": [
        "nll, pp, kld = performance_evaluation(test_path, vae, batch_size=256)\n",
        "nll, pp, kld"
      ],
      "execution_count": 0,
      "outputs": [
        {
          "output_type": "execute_result",
          "data": {
            "text/plain": [
              "(0.09461716388262087, 1.0993020348651434, 1.1047848517535834)"
            ]
          },
          "metadata": {
            "tags": []
          },
          "execution_count": 153
        }
      ]
    },
    {
      "cell_type": "code",
      "metadata": {
        "id": "23cLv3MhFAWW",
        "colab_type": "code",
        "outputId": "ba389e3a-7ec6-4ff7-f69a-95f76af81e7c",
        "colab": {
          "base_uri": "https://localhost:8080/",
          "height": 34
        }
      },
      "source": [
        "blue_score = bleu_evaluation(test_path, vae, batch_size=256, n_gram=4)\n",
        "blue_score"
      ],
      "execution_count": 0,
      "outputs": [
        {
          "output_type": "execute_result",
          "data": {
            "text/plain": [
              "0.982413200205655"
            ]
          },
          "metadata": {
            "tags": []
          },
          "execution_count": 154
        }
      ]
    },
    {
      "cell_type": "markdown",
      "metadata": {
        "id": "ggyhuv_xoSOx",
        "colab_type": "text"
      },
      "source": [
        "**Training curve**"
      ]
    },
    {
      "cell_type": "code",
      "metadata": {
        "id": "8QL-1LSopl5r",
        "colab_type": "code",
        "colab": {}
      },
      "source": [
        "TAKE = True\n",
        "\n",
        "if TAKE:\n",
        "    EPOCH_COMPARE = 8\n",
        "    VERSION_COMPARE = 33\n",
        "\n",
        "    checkpoint_compare = t.load(\n",
        "        model_path + str(VERSION_COMPARE) + '_checkpoint_' + str(EPOCH_COMPARE), \n",
        "        map_location=t.device(device))\n",
        "    \n",
        "    nll_losses_compare = checkpoint_compare['nll_losses']\n",
        "    kld_losses_compare = checkpoint_compare['kld_losses']"
      ],
      "execution_count": 0,
      "outputs": []
    },
    {
      "cell_type": "code",
      "metadata": {
        "id": "mk9zFEL6Pu4E",
        "colab_type": "code",
        "outputId": "477fda3a-5b90-4def-a4c9-cf1e7827cd80",
        "colab": {
          "base_uri": "https://localhost:8080/",
          "height": 655
        }
      },
      "source": [
        "plt.figure(figsize=(15, 5))\n",
        "plt.plot(nll_losses, label='current')\n",
        "plt.plot(nll_losses_compare, label='compare')\n",
        "plt.title('Negative Log Likelihood')\n",
        "plt.legend()\n",
        "plt.show()\n",
        "\n",
        "plt.figure(figsize=(15, 5))\n",
        "plt.plot(kld_losses, label='current')\n",
        "plt.plot(kld_losses_compare, label='compare')\n",
        "plt.title('Kullback Liebler Divergence')\n",
        "plt.legend()\n",
        "plt.show()"
      ],
      "execution_count": 0,
      "outputs": [
        {
          "output_type": "display_data",
          "data": {
            "image/png": "[encoded data removed]",
            "text/plain": [
              "<Figure size 1080x360 with 1 Axes>"
            ]
          },
          "metadata": {
            "tags": []
          }
        },
        {
          "output_type": "display_data",
          "data": {
            "image/png": "[encoded data removed]",
            "text/plain": [
              "<Figure size 1080x360 with 1 Axes>"
            ]
          },
          "metadata": {
            "tags": []
          }
        }
      ]
    },
    {
      "cell_type": "markdown",
      "metadata": {
        "id": "lQZWiiwHuz85",
        "colab_type": "text"
      },
      "source": [
        "### **Language Modelling**"
      ]
    },
    {
      "cell_type": "code",
      "metadata": {
        "id": "lxmDXxF8_OQ8",
        "colab_type": "code",
        "outputId": "85e7d1b3-e9e9-47de-eaf9-2e20a74b937a",
        "colab": {
          "base_uri": "https://localhost:8080/",
          "height": 425
        }
      },
      "source": [
        "sentence_0, sentence_1, interps = interpolation_evaluation(vae, test_path, n=20)\n",
        "\n",
        "sent_0 = sentences_from_tensors(sentence_0, vocab, at=1)\n",
        "sent_1 = sentences_from_tensors(sentence_1, vocab, at=1)\n",
        "print(' '.join(sent_0[0]))\n",
        "print(' '.join(sent_1[0]))\n",
        "print('\\n')\n",
        "\n",
        "for sentence in interps:\n",
        "    if READABLE: sentence = raw2readable(sentence)  \n",
        "    print(' '.join(sentence))"
      ],
      "execution_count": 0,
      "outputs": [
        {
          "output_type": "stream",
          "text": [
            "SOS good EOS PAD PAD PAD PAD PAD PAD PAD PAD PAD PAD PAD PAD PAD\n",
            "SOS surprisingly sweet . clean berries . great on cereal . good packaging too . EOS\n",
            "\n",
            "\n",
            ">> good <<                          \n",
            ">> good <<                          \n",
            ">> good <<                          \n",
            ">> good <<                          \n",
            ">> good <<                          \n",
            ">> good <<                          \n",
            ">> good <<                          \n",
            ">> good << .                        \n",
            ">> good spice . <<                      \n",
            ">> good spice . <<   unk great   <<            \n",
            ">> good spice . << << unk great   <<            \n",
            ">> nice sweet . amazon << unk great . << unk << <<      \n",
            ">> ok sweet . amazon << unk great and container unk price << <<    \n",
            ">> ok sweet . vinegar << . great and choice unk quality ... << . <<\n",
            ">> ok sweet . vinegar has . great and choice unk quality ... << . <<\n",
            ">> ok sweet . clean has . great on choice unk good ... flavor . <<\n",
            ">> ok sweet . clean almonds . great on pieces . good ... flavor . <<\n",
            ">> refreshing sweet . clean almonds . great on pieces . good ... flavor . <<\n",
            ">> horrible sweet . clean almonds . great on variety . good ... flavor . <<\n",
            ">> horrible sweet . clean almonds . great on variety . good ... flavor . <<\n"
          ],
          "name": "stdout"
        }
      ]
    },
    {
      "cell_type": "markdown",
      "metadata": {
        "id": "0HEKuNo3u3H9",
        "colab_type": "text"
      },
      "source": [
        "\n",
        "**Random Evaluation**"
      ]
    },
    {
      "cell_type": "code",
      "metadata": {
        "id": "v-PCe_fVVHEn",
        "colab_type": "code",
        "outputId": "578566c6-edab-4257-b2ef-790bf252f282",
        "colab": {
          "base_uri": "https://localhost:8080/",
          "height": 527
        }
      },
      "source": [
        "for sentence in random_evaluation(vae, 30, scaler=3):\n",
        "    if READABLE: sentence = raw2readable(sentence)  \n",
        "    print(' '.join(sentence))"
      ],
      "execution_count": 0,
      "outputs": [
        {
          "output_type": "stream",
          "text": [
            ">> amazing .                          \n",
            ">> tastes unk mix price <<                    \n",
            ">> my the favorite ice buy with <<                \n",
            ">> tastes unk for low yummy in thanks delicious healthy breakfast good     <<  \n",
            ">> best unk favorite bargain ! , << product <<            \n",
            ">> our unk mix blend ! . <<                \n",
            ">> lovely unk unk choice << can <<                \n",
            ">> full unk stuff expiration buy without << product              \n",
            ">> our unk of side you with <<                \n",
            ">> only the unk blend ! had use                \n",
            ">> tastes unk for on ?                    \n",
            ">> terrific unk favorite flavored ... with                  \n",
            ">> my unk of little buy with quick delicious              \n",
            ">> my unk ever on buy with     <<            \n",
            ">> our of new meal ! <<                  \n",
            ">> tastes unk of quality ! can                  \n",
            ">> tastes unk ever and !                    \n",
            ">> best unk . good buy - (   <<            \n",
            ">> amazing unk with smooth ! that ! product <<            \n",
            ">> our unk breakfast good ! by fresh product << for <<     <<  \n",
            ">> our unk . quality << to <<                \n",
            ">> tastes coffee money price <<                    \n",
            ">> our unk ever sweet you without thanks ! yuck the product        \n",
            ">> tastes unk spice carb !                    \n",
            ">> our unk for too ! i soon   << a          \n",
            ">> amazing unk out choice you can thanks     <<          \n",
            ">> our . at `` yummy without chocolate unk ! me          \n",
            ">> tastes unk making sweet !                    \n",
            ">> tastes unk favorite price << . <<                \n",
            ">> always unk of strong buy with soon delicious again coffee unk     <<  \n"
          ],
          "name": "stdout"
        }
      ]
    },
    {
      "cell_type": "code",
      "metadata": {
        "id": "_6bdDsptRelx",
        "colab_type": "code",
        "colab": {}
      },
      "source": [
        "while True:\n",
        "    pass"
      ],
      "execution_count": 0,
      "outputs": []
    },
    {
      "cell_type": "markdown",
      "metadata": {
        "id": "ZknPrWpXofmG",
        "colab_type": "text"
      },
      "source": [
        "**Grammar correction**"
      ]
    },
    {
      "cell_type": "code",
      "metadata": {
        "id": "rmJPn48Kp_SP",
        "colab_type": "code",
        "colab": {}
      },
      "source": [
        "sentence = 'i love this bread so much that i had to buy an infinite amount'\n",
        "reconstruction = reconstruction_sample(vae, sentence, vocab)[0]\n",
        "' '.join(raw2readable(reconstruction))"
      ],
      "execution_count": 0,
      "outputs": []
    },
    {
      "cell_type": "markdown",
      "metadata": {
        "id": "Ehp9v8eCu9Xv",
        "colab_type": "text"
      },
      "source": [
        "**Attention Evaluation**"
      ]
    },
    {
      "cell_type": "code",
      "metadata": {
        "id": "mwgVNrlIfj4_",
        "colab_type": "code",
        "colab": {}
      },
      "source": [
        "sample = gather_batches(test_path, n_batches=1+1, batch_size=1)[0]\n",
        "sample = batcher.insta_batch(sample, vocab)"
      ],
      "execution_count": 0,
      "outputs": []
    },
    {
      "cell_type": "code",
      "metadata": {
        "id": "2WX6wWk0rROQ",
        "colab_type": "code",
        "colab": {}
      },
      "source": [
        "vae.eval()\n",
        "stats, probs, attns = vae(sample)\n",
        "output = probs.max(dim=-1, keepdim=False)[1]\n",
        "vae.train()\n",
        "\n",
        "# attns: [encoder/decoder, layer, batch, head, seq X seq]\n",
        "ENC_DEC = 0\n",
        "LAYER = 0\n",
        "HEAD = 0\n",
        "\n",
        "for head in range(0, HEADS):\n",
        "    attn = attns[ENC_DEC][LAYER][0][head].detach().cpu().numpy()\n",
        "    showattn(attn, sample[0], output[0], vocab=vocab)"
      ],
      "execution_count": 0,
      "outputs": []
    },
    {
      "cell_type": "markdown",
      "metadata": {
        "colab_type": "text",
        "id": "iRvza8GkAeqs"
      },
      "source": [
        "### **Latent Evaluation**"
      ]
    },
    {
      "cell_type": "code",
      "metadata": {
        "colab_type": "code",
        "id": "vcofXtNMAeqo",
        "colab": {}
      },
      "source": [
        "pca_codes, sent_batches = latent_evaluation(test_path, vae, n_batches=300, dims=5)"
      ],
      "execution_count": 0,
      "outputs": []
    },
    {
      "cell_type": "markdown",
      "metadata": {
        "id": "Fo-ltmCPA5t6",
        "colab_type": "text"
      },
      "source": [
        "*Lenghts visualization*"
      ]
    },
    {
      "cell_type": "code",
      "metadata": {
        "colab_type": "code",
        "id": "9fwwMTs0Aeqk",
        "colab": {}
      },
      "source": [
        "sent_lens = [len(sent) for batch in sent_batches for sent in batch]"
      ],
      "execution_count": 0,
      "outputs": []
    },
    {
      "cell_type": "code",
      "metadata": {
        "colab_type": "code",
        "id": "zErWXpE_Aeqf",
        "colab": {}
      },
      "source": [
        "dims = range(pca_codes.shape[0])\n",
        "for d1 in dims:\n",
        "    for d2 in dims:\n",
        "        if d1 < d2:\n",
        "            plt.figure(figsize=(7.5, 7.5))\n",
        "            scatter = plt.scatter(pca_codes[d1, :], pca_codes[d2, :], marker='.', c=sent_lens, s=10)\n",
        "            plt.xlabel('PC_'+str(d1))\n",
        "            plt.ylabel('PC_'+str(d2))\n",
        "            plt.legend(handles=scatter.legend_elements()[0], labels=set(sent_lens))\n",
        "            plt.show()"
      ],
      "execution_count": 0,
      "outputs": []
    },
    {
      "cell_type": "markdown",
      "metadata": {
        "id": "-9q3xc_aBDhX",
        "colab_type": "text"
      },
      "source": [
        "*Sentiment visualization*"
      ]
    },
    {
      "cell_type": "code",
      "metadata": {
        "id": "-ZAN3zOFBH1M",
        "colab_type": "code",
        "colab": {}
      },
      "source": [
        "SA_RNN = t.load(model_path + 'SA_RNN_' + str(25))"
      ],
      "execution_count": 0,
      "outputs": []
    },
    {
      "cell_type": "code",
      "metadata": {
        "id": "W1SfrwRcEEly",
        "colab_type": "code",
        "colab": {}
      },
      "source": [
        "nlp = spacy.load('en')\n",
        "s2i = t.load(model_path + 'S2I') "
      ],
      "execution_count": 0,
      "outputs": []
    },
    {
      "cell_type": "code",
      "metadata": {
        "id": "rslbAJipA4F9",
        "colab_type": "code",
        "colab": {}
      },
      "source": [
        "sentiments = [int(predict_sentiment(SA_RNN, ' '.join(sent))*10) for batch in sent_batches for sent in batch]"
      ],
      "execution_count": 0,
      "outputs": []
    },
    {
      "cell_type": "code",
      "metadata": {
        "id": "GFYNx-SnJ9mh",
        "colab_type": "code",
        "colab": {}
      },
      "source": [
        "dims = range(pca_codes.shape[0])\n",
        "for d1 in dims:\n",
        "    for d2 in dims:\n",
        "        if d1 < d2:\n",
        "            plt.figure(figsize=(7.5, 7.5))\n",
        "            scatter = plt.scatter(pca_codes[d1, :], pca_codes[d2, :], marker='.', c=sentiments, s=10, cmap='copper')\n",
        "            plt.xlabel('PC_'+str(d1))\n",
        "            plt.ylabel('PC_'+str(d2))\n",
        "            plt.legend(handles=scatter.legend_elements()[0], labels=set(sentiments))\n",
        "            plt.show()"
      ],
      "execution_count": 0,
      "outputs": []
    },
    {
      "cell_type": "markdown",
      "metadata": {
        "id": "hpUJTu02xW6M",
        "colab_type": "text"
      },
      "source": [
        "*Topic visualization* "
      ]
    },
    {
      "cell_type": "code",
      "metadata": {
        "id": "80rxaEI3xavE",
        "colab_type": "code",
        "colab": {}
      },
      "source": [
        "topic2id = {'coffee': 1, 'tea': 2, 'chocolate': 3, 'candy': 4, 'sugar': 5}\n",
        "# topic2id = {'coffee': 1}"
      ],
      "execution_count": 0,
      "outputs": []
    },
    {
      "cell_type": "code",
      "metadata": {
        "id": "gHzy9kdyxbGM",
        "colab_type": "code",
        "colab": {}
      },
      "source": [
        "NOP = 0\n",
        "topics = []\n",
        "for batch in sent_batches:\n",
        "    for sent in batch:\n",
        "        found = False\n",
        "        for key, value in topic2id.items():\n",
        "            if key in sent:\n",
        "                topics += [value]\n",
        "                found = True\n",
        "                break\n",
        "        if not found:\n",
        "            topics += [NOP]"
      ],
      "execution_count": 0,
      "outputs": []
    },
    {
      "cell_type": "code",
      "metadata": {
        "id": "n3sV677Qzeoy",
        "colab_type": "code",
        "colab": {}
      },
      "source": [
        "ids2nop = {}\n",
        "new_topics = []\n",
        "for id, top in enumerate(topics):\n",
        "    if top==NOP:\n",
        "        ids2nop[id] = True\n",
        "    else: \n",
        "        ids2nop[id] = False\n",
        "        new_topics += [top]"
      ],
      "execution_count": 0,
      "outputs": []
    },
    {
      "cell_type": "code",
      "metadata": {
        "id": "yBGY2FH75LND",
        "colab_type": "code",
        "colab": {}
      },
      "source": [
        "new_codes = np.stack([pca_codes[:, k] for k, v in ids2nop.items() if not v], axis=1)"
      ],
      "execution_count": 0,
      "outputs": []
    },
    {
      "cell_type": "code",
      "metadata": {
        "id": "N7FWH6uf9a7g",
        "colab_type": "code",
        "colab": {}
      },
      "source": [
        "from matplotlib.colors import ListedColormap\n",
        "my_map = ListedColormap(['green', 'red','blue', 'violet', 'pink'])\n",
        "# my_map = ListedColormap(['green'])"
      ],
      "execution_count": 0,
      "outputs": []
    },
    {
      "cell_type": "code",
      "metadata": {
        "id": "uuCETwIIzhej",
        "colab_type": "code",
        "colab": {}
      },
      "source": [
        "dims = range(new_codes.shape[0])\n",
        "for d1 in dims:\n",
        "    for d2 in dims:\n",
        "        if d1 < d2:\n",
        "            plt.figure(figsize=(7.5, 7.5))\n",
        "            scatter = plt.scatter(new_codes[d1, :], new_codes[d2, :], marker='.', c=new_topics, s=10, cmap=my_map)\n",
        "            plt.xlabel('PC_'+str(d1))\n",
        "            plt.ylabel('PC_'+str(d2))\n",
        "            plt.legend(handles=scatter.legend_elements()[0], labels=topic2id.keys())\n",
        "            plt.show()"
      ],
      "execution_count": 0,
      "outputs": []
    },
    {
      "cell_type": "markdown",
      "metadata": {
        "id": "R7705LlTjLYW",
        "colab_type": "text"
      },
      "source": [
        "## Novelty Detection"
      ]
    },
    {
      "cell_type": "code",
      "metadata": {
        "id": "kZCO-1210cXw",
        "colab_type": "code",
        "colab": {}
      },
      "source": [
        "while True:\n",
        "    pass"
      ],
      "execution_count": 0,
      "outputs": []
    },
    {
      "cell_type": "code",
      "metadata": {
        "id": "hB-ujlm5NVaV",
        "colab_type": "code",
        "outputId": "f56de2a6-65c3-474a-945e-089d2602732e",
        "colab": {
          "base_uri": "https://localhost:8080/",
          "height": 34
        }
      },
      "source": [
        "adv_name = 'adversarial_vae.jsonl'\n",
        "# adv_name = 'adversarial_temp4.jsonl'\n",
        "# adv_name = 'adversarial_k10.jsonl'\n",
        "\n",
        "adv_path = dir_path + adv_name\n",
        "adv_path"
      ],
      "execution_count": 0,
      "outputs": [
        {
          "output_type": "execute_result",
          "data": {
            "text/plain": [
              "'/content/drive/My Drive/POLIMI/Thesis/Data/Datasets/Food/adversarial_vae.jsonl'"
            ]
          },
          "metadata": {
            "tags": []
          },
          "execution_count": 208
        }
      ]
    },
    {
      "cell_type": "markdown",
      "metadata": {
        "id": "I5H8pxGzjTaz",
        "colab_type": "text"
      },
      "source": [
        "### Reconstruction Error"
      ]
    },
    {
      "cell_type": "code",
      "metadata": {
        "id": "xL4NBWBb9uN5",
        "colab_type": "code",
        "colab": {}
      },
      "source": [
        "def reconstruction_error(model, ds_path, maximum=-1, vocab=vocab):\n",
        "    model.eval()\n",
        "    ds_size = compute_size(ds_path)\n",
        "    \n",
        "    sentences = []\n",
        "    rec_errors = []\n",
        "    with open(ds_path, 'r') as f:\n",
        "        for line in f:\n",
        "            sentences += [word_tokenize(json.loads(line)['review'].lower())]\n",
        "            batch = batcher.insta_batch([sentences[-1]], vocab) \n",
        "            batch_size, seq_len = batch.shape\n",
        "       \n",
        "            _, probs, _ = model(batch)\n",
        "\n",
        "            # Reconstruction Error\n",
        "            nll_loss = NLLLoss(reduction='mean')(\n",
        "                probs.reshape(batch_size * seq_len, VOCAB_SIZE), \n",
        "                batch.reshape(batch_size * seq_len))\n",
        "\n",
        "            rec_errors += [nll_loss.item()]\n",
        "\n",
        "            if len(rec_errors) % (ds_size//10) == 0:\n",
        "                print('.', sep='', end='')\n",
        "\n",
        "            if len(rec_errors) == maximum:\n",
        "                return sentences, rec_errors\n",
        "    print('!')\n",
        "    return sentences, rec_errors"
      ],
      "execution_count": 0,
      "outputs": []
    },
    {
      "cell_type": "code",
      "metadata": {
        "id": "l0OIHMaDsXE-",
        "colab_type": "code",
        "outputId": "62f9255e-a20e-4a2e-cd40-4a8d2d08bec6",
        "colab": {
          "base_uri": "https://localhost:8080/",
          "height": 34
        }
      },
      "source": [
        "_, rec_errors = reconstruction_error(vae, dev_path)"
      ],
      "execution_count": 0,
      "outputs": [
        {
          "output_type": "stream",
          "text": [
            "..........!\n"
          ],
          "name": "stdout"
        }
      ]
    },
    {
      "cell_type": "code",
      "metadata": {
        "id": "Ig3mSNkIvz2h",
        "colab_type": "code",
        "colab": {}
      },
      "source": [
        "rec_errors_sort = sorted(rec_errors)"
      ],
      "execution_count": 0,
      "outputs": []
    },
    {
      "cell_type": "code",
      "metadata": {
        "id": "6aUf5onAutRz",
        "colab_type": "code",
        "outputId": "9f4ae86d-add2-4a48-ad04-fada74f42dbb",
        "colab": {
          "base_uri": "https://localhost:8080/",
          "height": 669
        }
      },
      "source": [
        "plt.figure(figsize=(15, 5))\n",
        "plt.plot(rec_errors_sort)\n",
        "plt.title('Sorted Errors')\n",
        "plt.xlabel('Reviews')\n",
        "plt.ylabel('Error')\n",
        "plt.show()\n",
        "\n",
        "plt.figure(figsize=(15, 5))\n",
        "plt.hist(rec_errors_sort, bins=100)\n",
        "plt.title('Error Histogram')\n",
        "plt.show()"
      ],
      "execution_count": 0,
      "outputs": [
        {
          "output_type": "display_data",
          "data": {
            "image/png": "[encoded data removed]",
            "text/plain": [
              "<Figure size 1080x360 with 1 Axes>"
            ]
          },
          "metadata": {
            "tags": []
          }
        },
        {
          "output_type": "display_data",
          "data": {
            "image/png": "[encoded data removed]",
            "text/plain": [
              "<Figure size 1080x360 with 1 Axes>"
            ]
          },
          "metadata": {
            "tags": []
          }
        }
      ]
    },
    {
      "cell_type": "code",
      "metadata": {
        "id": "IGlg7I9AvfX6",
        "colab_type": "code",
        "colab": {}
      },
      "source": [
        "N_MOMENTS = 4\n",
        "\n",
        "moments = []\n",
        "for m in range(1, N_MOMENTS + 1):\n",
        "    moments += [moment(rec_errors_sort, moment=m)]"
      ],
      "execution_count": 0,
      "outputs": []
    },
    {
      "cell_type": "code",
      "metadata": {
        "id": "pYJwiPNLvfou",
        "colab_type": "code",
        "outputId": "aa6a5927-1346-4d9f-90b8-1ca1974ae7d0",
        "colab": {
          "base_uri": "https://localhost:8080/",
          "height": 51
        }
      },
      "source": [
        "print('Normalized Moments:')\n",
        "moments"
      ],
      "execution_count": 0,
      "outputs": [
        {
          "output_type": "stream",
          "text": [
            "Normalized Moments:\n"
          ],
          "name": "stdout"
        },
        {
          "output_type": "execute_result",
          "data": {
            "text/plain": [
              "[0.0, 0.025757143048892765, 0.014891213818004356, 0.014471089819933365]"
            ]
          },
          "metadata": {
            "tags": []
          },
          "execution_count": 182
        }
      ]
    },
    {
      "cell_type": "markdown",
      "metadata": {
        "id": "hXoRdt-iyA0a",
        "colab_type": "text"
      },
      "source": [
        "**Cutting the right tail**"
      ]
    },
    {
      "cell_type": "code",
      "metadata": {
        "id": "EIYeBuGNzPDA",
        "colab_type": "code",
        "colab": {}
      },
      "source": [
        "keep_perc = 0.90"
      ],
      "execution_count": 0,
      "outputs": []
    },
    {
      "cell_type": "code",
      "metadata": {
        "id": "0BV5DdxHx96c",
        "colab_type": "code",
        "colab": {}
      },
      "source": [
        "rec_error_cut = rec_errors_sort[:int(len(rec_errors_sort)*keep_perc)]"
      ],
      "execution_count": 0,
      "outputs": []
    },
    {
      "cell_type": "code",
      "metadata": {
        "id": "K4uIoZw1zovi",
        "colab_type": "code",
        "outputId": "f1223523-043d-444a-aa9a-8d86b30d6cd5",
        "colab": {
          "base_uri": "https://localhost:8080/",
          "height": 669
        }
      },
      "source": [
        "plt.figure(figsize=(15, 5))\n",
        "plt.plot(rec_error_cut)\n",
        "plt.title('Errors Left')\n",
        "plt.xlabel('Reviews')\n",
        "plt.ylabel('Error')\n",
        "plt.show()\n",
        "\n",
        "plt.figure(figsize=(15, 5))\n",
        "plt.hist(rec_errors_sort, bins=100)\n",
        "plt.title('Left Errors Histogram')\n",
        "plt.show()"
      ],
      "execution_count": 0,
      "outputs": [
        {
          "output_type": "display_data",
          "data": {
            "image/png": "[encoded data removed]",
            "text/plain": [
              "<Figure size 1080x360 with 1 Axes>"
            ]
          },
          "metadata": {
            "tags": []
          }
        },
        {
          "output_type": "display_data",
          "data": {
            "image/png": "[encoded data removed]",
            "text/plain": [
              "<Figure size 1080x360 with 1 Axes>"
            ]
          },
          "metadata": {
            "tags": []
          }
        }
      ]
    },
    {
      "cell_type": "code",
      "metadata": {
        "id": "1k3n3R3BZTHh",
        "colab_type": "code",
        "outputId": "03e214e2-b454-4e40-c189-d6a2bd8c94d1",
        "colab": {
          "base_uri": "https://localhost:8080/",
          "height": 34
        }
      },
      "source": [
        "thr = max(rec_error_cut)\n",
        "thr"
      ],
      "execution_count": 0,
      "outputs": [
        {
          "output_type": "execute_result",
          "data": {
            "text/plain": [
              "0.25570249557495117"
            ]
          },
          "metadata": {
            "tags": []
          },
          "execution_count": 186
        }
      ]
    },
    {
      "cell_type": "markdown",
      "metadata": {
        "id": "9M0EOSaVSQiV",
        "colab_type": "text"
      },
      "source": [
        "**Generating the adversarial dataset**"
      ]
    },
    {
      "cell_type": "code",
      "metadata": {
        "id": "VVBUBzdEYxPE",
        "colab_type": "code",
        "colab": {}
      },
      "source": [
        "ADV_DS_SIZE = 4096\n",
        "ADV_SCALER = 4"
      ],
      "execution_count": 0,
      "outputs": []
    },
    {
      "cell_type": "code",
      "metadata": {
        "id": "fm8s4dWV8Noe",
        "colab_type": "code",
        "colab": {}
      },
      "source": [
        "GENERATE_IT = False"
      ],
      "execution_count": 0,
      "outputs": []
    },
    {
      "cell_type": "code",
      "metadata": {
        "id": "qikWmNemSWfW",
        "colab_type": "code",
        "colab": {}
      },
      "source": [
        "if GENERATE_IT = False:\n",
        "    adv_dataset = set()\n",
        "    for sentence in random_evaluation(vae, ADV_DS_SIZE, scaler=ADV_SCALER):\n",
        "        adv_dataset.add(' '.join(raw2adversarial(sentence))[1:])\n",
        "    adv_dataset = sorted(list(adv_dataset))\n",
        "    adv_ds_size = len(adv_dataset)"
      ],
      "execution_count": 0,
      "outputs": []
    },
    {
      "cell_type": "code",
      "metadata": {
        "id": "aXPGssOSXiZw",
        "colab_type": "code",
        "colab": {}
      },
      "source": [
        "if GENERATE_IT:\n",
        "    with open(adv_path, 'w') as f:\n",
        "        i = 0\n",
        "        for r in tqdm(adv_dataset):\n",
        "            json.dump({'id': i, 'review': r}, f)\n",
        "            f.write('\\n')\n",
        "            i += 1"
      ],
      "execution_count": 0,
      "outputs": []
    },
    {
      "cell_type": "code",
      "metadata": {
        "id": "ejWSz3WPna2R",
        "colab_type": "code",
        "colab": {}
      },
      "source": [
        "if GENERATE_IT:\n",
        "    import random\n",
        "\n",
        "    how_many = 10\n",
        "    start = int(random.random()*adv_ds_size)\n",
        "\n",
        "    adv_dataset[start:start+how_many]"
      ],
      "execution_count": 0,
      "outputs": []
    },
    {
      "cell_type": "markdown",
      "metadata": {
        "id": "WQJsjLWPY42l",
        "colab_type": "text"
      },
      "source": [
        "**Adversarial Defense** using reconstruction."
      ]
    },
    {
      "cell_type": "markdown",
      "metadata": {
        "id": "u6daN6HiBRLf",
        "colab_type": "text"
      },
      "source": [
        "Computing the error and predicting"
      ]
    },
    {
      "cell_type": "code",
      "metadata": {
        "id": "Cc-z12uOYaAA",
        "colab_type": "code",
        "outputId": "85b32945-868e-4938-ff09-c46d5588aad0",
        "colab": {
          "base_uri": "https://localhost:8080/",
          "height": 34
        }
      },
      "source": [
        "adv_sents, adv_errors = reconstruction_error(vae, adv_path, vocab)\n",
        "test_sents, test_errors = reconstruction_error(vae, test_path, maximum=len(adv_errors), vocab=vocab)\n",
        "pred_sents = adv_sents + test_sents\n",
        "errors = adv_errors + test_errors"
      ],
      "execution_count": 0,
      "outputs": [
        {
          "output_type": "stream",
          "text": [
            "..........!\n"
          ],
          "name": "stdout"
        }
      ]
    },
    {
      "cell_type": "code",
      "metadata": {
        "id": "8x3vW0Z4Bo-P",
        "colab_type": "code",
        "outputId": "f7d552bb-3ace-46d2-d8f2-d9e5955e765a",
        "colab": {
          "base_uri": "https://localhost:8080/",
          "height": 34
        }
      },
      "source": [
        "len(adv_errors), len(test_errors)"
      ],
      "execution_count": 0,
      "outputs": [
        {
          "output_type": "execute_result",
          "data": {
            "text/plain": [
              "(1292, 1292)"
            ]
          },
          "metadata": {
            "tags": []
          },
          "execution_count": 210
        }
      ]
    },
    {
      "cell_type": "code",
      "metadata": {
        "id": "rygp41h3YaYG",
        "colab_type": "code",
        "colab": {}
      },
      "source": [
        "preds = [1 if err > thr else 0 for err in errors]\n",
        "targs = [1] * len(adv_errors) + [0] * len(test_errors)"
      ],
      "execution_count": 0,
      "outputs": []
    },
    {
      "cell_type": "markdown",
      "metadata": {
        "id": "s2BAW6QroVD5",
        "colab_type": "text"
      },
      "source": [
        "Performance evaluation "
      ]
    },
    {
      "cell_type": "code",
      "metadata": {
        "id": "X_AWLp8oSXII",
        "colab_type": "code",
        "colab": {}
      },
      "source": [
        "accuracy = balanced_accuracy_score(targs, preds)\n",
        "precision = average_precision_score(targs, preds)\n",
        "recall = recall_score(targs, preds)\n",
        "f1 = f1_score(targs, preds)"
      ],
      "execution_count": 0,
      "outputs": []
    },
    {
      "cell_type": "code",
      "metadata": {
        "id": "fa_LIor8SXi0",
        "colab_type": "code",
        "outputId": "c4572f44-6e02-40e7-a47b-65100573bf2e",
        "colab": {
          "base_uri": "https://localhost:8080/",
          "height": 85
        }
      },
      "source": [
        "print('accuracy:', accuracy)\n",
        "print('precision:', precision)\n",
        "print('recall:', recall)\n",
        "print('f1:', f1)"
      ],
      "execution_count": 0,
      "outputs": [
        {
          "output_type": "stream",
          "text": [
            "accuracy: 0.5309597523219814\n",
            "precision: 0.5163280885533738\n",
            "recall: 0.5959752321981424\n",
            "f1: 0.559593023255814\n"
          ],
          "name": "stdout"
        }
      ]
    },
    {
      "cell_type": "markdown",
      "metadata": {
        "id": "YUgZLzN5F_hm",
        "colab_type": "text"
      },
      "source": [
        "Visualization"
      ]
    },
    {
      "cell_type": "code",
      "metadata": {
        "id": "6ay5xUPUGBzu",
        "colab_type": "code",
        "colab": {}
      },
      "source": [
        "fix(vae, requires_grad=False)\n",
        "\n",
        "bs = 64\n",
        "batch = []\n",
        "pred_batches = []\n",
        "for s in pred_sents:\n",
        "    batch += [s]\n",
        "    if len(batch) == bs:\n",
        "        pred_batches += [batcher.insta_batch(batch, vocab)]\n",
        "        batch = []\n",
        "\n",
        "pred_codes = []\n",
        "for batch in pred_batches:\n",
        "    mu_batch, logvar_batch, _ = vae.encoder(batch)\n",
        "    pred_codes += [vae.distribute(mu_batch, logvar_batch)]\n",
        "pred_codes = t.cat(pred_codes, dim=0).cpu().numpy()\n",
        "pred_codes.shape"
      ],
      "execution_count": 0,
      "outputs": []
    },
    {
      "cell_type": "code",
      "metadata": {
        "id": "5m5zE7boHXYR",
        "colab_type": "code",
        "colab": {}
      },
      "source": [
        "rec_components = 4\n",
        "rec_pca = PCA(n_components=rec_components)\n",
        "rec_pca.fit(pred_codes)"
      ],
      "execution_count": 0,
      "outputs": []
    },
    {
      "cell_type": "code",
      "metadata": {
        "colab_type": "code",
        "id": "bRsgDRUtHoUo",
        "colab": {}
      },
      "source": [
        "rec_map = ListedColormap(['blue','red'])"
      ],
      "execution_count": 0,
      "outputs": []
    },
    {
      "cell_type": "code",
      "metadata": {
        "colab_type": "code",
        "id": "Frbpu6tlHoUr",
        "colab": {}
      },
      "source": [
        "for d1 in range(rec_components):\n",
        "    for d2 in range(rec_components):\n",
        "        if d1 < d2:\n",
        "            pca_codes = rec_pca.transform(pred_codes).T\n",
        "\n",
        "            fig, (ax1, ax2) = plt.subplots(1, 2, figsize=(15, 7.5))\n",
        "            ax1.scatter(pca_codes[d1, :], \n",
        "                        pca_codes[d2, :], \n",
        "                        marker='.', c=targs, s=20, cmap=def_map)\n",
        "            ax1.set_title('Ground truth')\n",
        "            ax1.set(xlabel='PC_'+str(d1), ylabel='PC_'+str(d2))\n",
        "\n",
        "            ax2.scatter(pca_codes[d1, :], \n",
        "                        pca_codes[d2, :], \n",
        "                        marker='.', c=preds, s=20, cmap=def_map)\n",
        "            ax2.set_title('Predictions')\n",
        "            ax2.set(xlabel='PC_'+str(d1), ylabel='PC_'+str(d2))\n",
        "            plt.show()"
      ],
      "execution_count": 0,
      "outputs": []
    },
    {
      "cell_type": "markdown",
      "metadata": {
        "id": "rcOwzUcUKEUW",
        "colab_type": "text"
      },
      "source": [
        "### Gaussian Mixture Model"
      ]
    },
    {
      "cell_type": "markdown",
      "metadata": {
        "id": "B9TRFYFQ6ME3",
        "colab_type": "text"
      },
      "source": [
        "Dataset Generation"
      ]
    },
    {
      "cell_type": "code",
      "metadata": {
        "id": "-5K1MXhMCDN4",
        "colab_type": "code",
        "colab": {}
      },
      "source": [
        "fix(vae, requires_grad=False)"
      ],
      "execution_count": 0,
      "outputs": []
    },
    {
      "cell_type": "code",
      "metadata": {
        "id": "bQ66ibPFA6Wl",
        "colab_type": "code",
        "colab": {}
      },
      "source": [
        "sent_batches = gather_batches(train_path, n_batches=300)\n",
        "print(len(sent_batches))\n",
        "batches = [batcher.insta_batch(batch, vocab) for batch in sent_batches]\n",
        "\n",
        "X_train = []\n",
        "for batch in batches:\n",
        "    mu_batch, logvar_batch, _ = vae.encoder(batch)\n",
        "    X_train += [vae.distribute(mu_batch, logvar_batch)]\n",
        "\n",
        "X_train = t.cat(X_train, dim=0).cpu().numpy()\n",
        "X_train.shape"
      ],
      "execution_count": 0,
      "outputs": []
    },
    {
      "cell_type": "code",
      "metadata": {
        "colab_type": "code",
        "id": "ZmkMbvBC8XAo",
        "colab": {}
      },
      "source": [
        "components = 3\n",
        "pca = PCA(n_components=components)\n",
        "pca.fit(X_train)"
      ],
      "execution_count": 0,
      "outputs": []
    },
    {
      "cell_type": "code",
      "metadata": {
        "id": "wGLaGIA2Pb-o",
        "colab_type": "code",
        "colab": {}
      },
      "source": [
        "X_train = pca.transform(X_train)"
      ],
      "execution_count": 0,
      "outputs": []
    },
    {
      "cell_type": "code",
      "metadata": {
        "id": "vFRZhnaQGBK2",
        "colab_type": "code",
        "colab": {}
      },
      "source": [
        "sent_batches = gather_batches(dev_path, n_batches=300)\n",
        "print(len(sent_batches))\n",
        "batches = [batcher.insta_batch(batch, vocab) for batch in sent_batches]\n",
        "\n",
        "X_dev = []\n",
        "for batch in batches:\n",
        "    mu_batch, logvar_batch, _ = vae.encoder(batch)\n",
        "    X_dev += [vae.distribute(mu_batch, logvar_batch)]\n",
        "\n",
        "X_dev = t.cat(X_dev, dim=0).cpu().numpy()\n",
        "X_dev.shape"
      ],
      "execution_count": 0,
      "outputs": []
    },
    {
      "cell_type": "code",
      "metadata": {
        "id": "K5AvbmXDPhsF",
        "colab_type": "code",
        "colab": {}
      },
      "source": [
        "X_dev = pca.transform(X_dev)"
      ],
      "execution_count": 0,
      "outputs": []
    },
    {
      "cell_type": "code",
      "metadata": {
        "id": "TRxh_BpwBtWN",
        "colab_type": "code",
        "colab": {}
      },
      "source": [
        "sent_batches = gather_batches(test_path, n_batches=4)\n",
        "print(len(sent_batches))\n",
        "batches = [batcher.insta_batch(batch, vocab) for batch in sent_batches]\n",
        "\n",
        "X_test = []\n",
        "for batch in batches:\n",
        "    mu_batch, logvar_batch, _ = vae.encoder(batch)\n",
        "    X_test += [vae.distribute(mu_batch, logvar_batch)]\n",
        "\n",
        "X_test = t.cat(X_test, dim=0).cpu().numpy()\n",
        "X_test.shape"
      ],
      "execution_count": 0,
      "outputs": []
    },
    {
      "cell_type": "code",
      "metadata": {
        "id": "RIjpRL94PmAp",
        "colab_type": "code",
        "colab": {}
      },
      "source": [
        "X_test = pca.transform(X_test)"
      ],
      "execution_count": 0,
      "outputs": []
    },
    {
      "cell_type": "code",
      "metadata": {
        "id": "tIsECkRLCMgj",
        "colab_type": "code",
        "colab": {}
      },
      "source": [
        "sent_batches = gather_batches(adv_path, n_batches=4)\n",
        "print(len(sent_batches))\n",
        "batches = [batcher.insta_batch(batch, vocab) for batch in sent_batches]\n",
        "\n",
        "X_adv = []\n",
        "for batch in batches:\n",
        "    mu_batch, logvar_batch, _ = vae.encoder(batch)\n",
        "    X_adv += [vae.distribute(mu_batch, logvar_batch)]\n",
        "\n",
        "X_adv = t.cat(X_adv, dim=0).cpu().numpy()\n",
        "X_adv.shape"
      ],
      "execution_count": 0,
      "outputs": []
    },
    {
      "cell_type": "code",
      "metadata": {
        "id": "tLurvsg-PqWM",
        "colab_type": "code",
        "colab": {}
      },
      "source": [
        "X_adv = pca.transform(X_adv)"
      ],
      "execution_count": 0,
      "outputs": []
    },
    {
      "cell_type": "code",
      "metadata": {
        "id": "uVqyjpAG5JeT",
        "colab_type": "code",
        "colab": {}
      },
      "source": [
        "X_pred = np.vstack([X_test, X_adv])\n",
        "targs = [0] * X_test.shape[0] + [1] * X_adv.shape[0]"
      ],
      "execution_count": 0,
      "outputs": []
    },
    {
      "cell_type": "markdown",
      "metadata": {
        "id": "9JBNwuYE6XGy",
        "colab_type": "text"
      },
      "source": [
        "Gaussian Mixture Model"
      ]
    },
    {
      "cell_type": "code",
      "metadata": {
        "id": "ar4Kg8kUKJ6N",
        "colab_type": "code",
        "colab": {}
      },
      "source": [
        "from sklearn.mixture import GaussianMixture"
      ],
      "execution_count": 0,
      "outputs": []
    },
    {
      "cell_type": "code",
      "metadata": {
        "id": "8XCpmOY2KXhv",
        "colab_type": "code",
        "colab": {}
      },
      "source": [
        "gmm = GaussianMixture(n_components=10, covariance_type='full', \n",
        "                      tol=0.001, reg_covar=1e-06, max_iter=100, \n",
        "                      n_init=1, init_params='kmeans', random_state=69420, \n",
        "                      warm_start=True, verbose=2, verbose_interval=10)"
      ],
      "execution_count": 0,
      "outputs": []
    },
    {
      "cell_type": "code",
      "metadata": {
        "id": "KiP0UXIG5EAu",
        "colab_type": "code",
        "colab": {}
      },
      "source": [
        "gmm.fit(X_dev)"
      ],
      "execution_count": 0,
      "outputs": []
    },
    {
      "cell_type": "code",
      "metadata": {
        "id": "vEIXNAI54ViY",
        "colab_type": "code",
        "colab": {}
      },
      "source": [
        "probs = gmm.predict_proba(X_pred).max(axis=-1)"
      ],
      "execution_count": 0,
      "outputs": []
    },
    {
      "cell_type": "code",
      "metadata": {
        "id": "RRf1RmmX7V12",
        "colab_type": "code",
        "colab": {}
      },
      "source": [
        "thr = 0.65"
      ],
      "execution_count": 0,
      "outputs": []
    },
    {
      "cell_type": "code",
      "metadata": {
        "id": "MuGrQikM69Fh",
        "colab_type": "code",
        "colab": {}
      },
      "source": [
        "preds = [1 if p < thr else 0 for p in probs]"
      ],
      "execution_count": 0,
      "outputs": []
    },
    {
      "cell_type": "markdown",
      "metadata": {
        "id": "nGXSov5a579P",
        "colab_type": "text"
      },
      "source": [
        "Performances"
      ]
    },
    {
      "cell_type": "code",
      "metadata": {
        "colab_type": "code",
        "id": "vephnjC85-P4",
        "colab": {}
      },
      "source": [
        "accuracy = balanced_accuracy_score(targs, preds)\n",
        "precision = average_precision_score(targs, preds)\n",
        "recall = recall_score(targs, preds)\n",
        "f1 = f1_score(targs, preds)"
      ],
      "execution_count": 0,
      "outputs": []
    },
    {
      "cell_type": "code",
      "metadata": {
        "colab_type": "code",
        "id": "48LrknO25-P8",
        "colab": {}
      },
      "source": [
        "print('accuracy:', accuracy)\n",
        "print('precision:', precision)\n",
        "print('recall:', recall)\n",
        "print('f1:', f1)"
      ],
      "execution_count": 0,
      "outputs": []
    },
    {
      "cell_type": "markdown",
      "metadata": {
        "id": "kEF6jX6C8UNZ",
        "colab_type": "text"
      },
      "source": [
        "Visualization"
      ]
    },
    {
      "cell_type": "code",
      "metadata": {
        "id": "I7scvn4cP87N",
        "colab_type": "code",
        "colab": {}
      },
      "source": [
        "for d1 in range(components):\n",
        "    for d2 in range(components):\n",
        "        if d1 < d2:\n",
        "            fig, (ax1, ax2) = plt.subplots(1, 2, figsize=(15, 7.5))\n",
        "            ax1.scatter(X_pred[:, d1], \n",
        "                        X_pred[:, d2], \n",
        "                        marker='.', c=targs, s=20, cmap=ListedColormap(['blue','red']))\n",
        "            ax1.set_title('Ground truth')\n",
        "            ax1.set(xlabel='PC_'+str(d1), ylabel='PC_'+str(d2))\n",
        "\n",
        "            ax2.scatter(X_pred[:, d1], \n",
        "                        X_pred[:, d2], \n",
        "                        marker='.', c=preds, s=20, cmap=ListedColormap(['blue','red']))\n",
        "            ax2.set_title('Predictions')\n",
        "            ax2.set(xlabel='PC_'+str(d1), ylabel='PC_'+str(d2))\n",
        "            plt.show()"
      ],
      "execution_count": 0,
      "outputs": []
    },
    {
      "cell_type": "code",
      "metadata": {
        "colab_type": "code",
        "id": "hASWyS_K8XAt",
        "colab": {}
      },
      "source": [
        "for d1 in range(components):\n",
        "    for d2 in range(components):\n",
        "        if d1 < d2:\n",
        "            pca_codes = pca.transform(X_pred).T\n",
        "\n",
        "            fig, (ax1, ax2) = plt.subplots(1, 2, figsize=(15, 7.5))\n",
        "            ax1.scatter(pca_codes[d1, :], \n",
        "                        pca_codes[d2, :], \n",
        "                        marker='.', c=targs, s=20, cmap=ListedColormap(['blue','red']))\n",
        "            ax1.set_title('Ground truth')\n",
        "            ax1.set(xlabel='PC_'+str(d1), ylabel='PC_'+str(d2))\n",
        "\n",
        "            ax2.scatter(pca_codes[d1, :], \n",
        "                        pca_codes[d2, :], \n",
        "                        marker='.', c=preds, s=20, cmap=ListedColormap(['blue','red']))\n",
        "            ax2.set_title('Predictions')\n",
        "            ax2.set(xlabel='PC_'+str(d1), ylabel='PC_'+str(d2))\n",
        "            plt.show()"
      ],
      "execution_count": 0,
      "outputs": []
    },
    {
      "cell_type": "markdown",
      "metadata": {
        "id": "hNSsxHmwm5j7",
        "colab_type": "text"
      },
      "source": [
        "### DBSCAN"
      ]
    },
    {
      "cell_type": "code",
      "metadata": {
        "colab_type": "code",
        "id": "UML11DJjtFL9",
        "colab": {}
      },
      "source": [
        "fix(vae, requires_grad=False)"
      ],
      "execution_count": 0,
      "outputs": []
    },
    {
      "cell_type": "code",
      "metadata": {
        "colab_type": "code",
        "id": "t6W3xgfStFML",
        "colab": {}
      },
      "source": [
        "sent_batches = gather_batches(test_path, n_batches=5)\n",
        "sent_batches = sent_batches[:4]\n",
        "print(len(sent_batches))\n",
        "batches = [batcher.insta_batch(batch, vocab) for batch in sent_batches]\n",
        "\n",
        "X_test = []\n",
        "for batch in batches:\n",
        "    mu_batch, logvar_batch, _ = vae.encoder(batch)\n",
        "    X_test += [vae.distribute(mu_batch, logvar_batch)]\n",
        "\n",
        "X_test = t.cat(X_test, dim=0).cpu().numpy()\n",
        "X_test.shape"
      ],
      "execution_count": 0,
      "outputs": []
    },
    {
      "cell_type": "code",
      "metadata": {
        "colab_type": "code",
        "id": "L8QUIOtetFMQ",
        "colab": {}
      },
      "source": [
        "sent_batches = gather_batches(adv_path, n_batches=4)\n",
        "print(len(sent_batches))\n",
        "batches = [batcher.insta_batch(batch, vocab) for batch in sent_batches]\n",
        "\n",
        "X_adv = []\n",
        "for batch in batches:\n",
        "    mu_batch, logvar_batch, _ = vae.encoder(batch)\n",
        "    X_adv += [vae.distribute(mu_batch, logvar_batch)]\n",
        "\n",
        "X_adv = t.cat(X_adv, dim=0).cpu().numpy()\n",
        "X_adv.shape"
      ],
      "execution_count": 0,
      "outputs": []
    },
    {
      "cell_type": "code",
      "metadata": {
        "colab_type": "code",
        "id": "Ch3yjmQ9tFMU",
        "colab": {}
      },
      "source": [
        "X_pred = np.vstack([X_test, X_adv])\n",
        "targs = [0] * X_test.shape[0] + [1] * X_adv.shape[0]"
      ],
      "execution_count": 0,
      "outputs": []
    },
    {
      "cell_type": "markdown",
      "metadata": {
        "id": "4xk6mZwNtfOb",
        "colab_type": "text"
      },
      "source": [
        "DBSCAN Clustering"
      ]
    },
    {
      "cell_type": "code",
      "metadata": {
        "id": "11Y68w_OnC5M",
        "colab_type": "code",
        "colab": {}
      },
      "source": [
        "from sklearn.cluster import DBSCAN\n",
        "dbscan = DBSCAN(eps=8, min_samples=5, metric='euclidean', metric_params=None, algorithm='auto', leaf_size=30, p=None, n_jobs=None)"
      ],
      "execution_count": 0,
      "outputs": []
    },
    {
      "cell_type": "code",
      "metadata": {
        "id": "57Xc-QNOt45d",
        "colab_type": "code",
        "colab": {}
      },
      "source": [
        "preds = dbscan.fit_predict(X_test)\n",
        "set(preds)"
      ],
      "execution_count": 0,
      "outputs": []
    },
    {
      "cell_type": "code",
      "metadata": {
        "id": "VKhG23dg6SO3",
        "colab_type": "code",
        "colab": {}
      },
      "source": [
        "preds = dbscan.fit_predict(X_pred)\n",
        "set(preds)"
      ],
      "execution_count": 0,
      "outputs": []
    },
    {
      "cell_type": "code",
      "metadata": {
        "id": "ZHgHAkFj0R5D",
        "colab_type": "code",
        "colab": {}
      },
      "source": [
        "preds = [0 if p == -1 else 1 for p in preds]"
      ],
      "execution_count": 0,
      "outputs": []
    },
    {
      "cell_type": "markdown",
      "metadata": {
        "id": "0I7GGeCTuPlZ",
        "colab_type": "text"
      },
      "source": [
        "Performances"
      ]
    },
    {
      "cell_type": "code",
      "metadata": {
        "colab_type": "code",
        "id": "I3KWY4w00zu0",
        "colab": {}
      },
      "source": [
        "accuracy = balanced_accuracy_score(targs, preds)\n",
        "precision = average_precision_score(targs, preds)\n",
        "recall = recall_score(targs, preds)\n",
        "f1 = f1_score(targs, preds)"
      ],
      "execution_count": 0,
      "outputs": []
    },
    {
      "cell_type": "code",
      "metadata": {
        "colab_type": "code",
        "id": "Po8bWpl70zu4",
        "colab": {}
      },
      "source": [
        "print('accuracy:', accuracy)\n",
        "print('precision:', precision)\n",
        "print('recall:', recall)\n",
        "print('f1:', f1)"
      ],
      "execution_count": 0,
      "outputs": []
    },
    {
      "cell_type": "markdown",
      "metadata": {
        "colab_type": "text",
        "id": "A13CZd-Runa2"
      },
      "source": [
        "Visualization"
      ]
    },
    {
      "cell_type": "code",
      "metadata": {
        "colab_type": "code",
        "id": "SYyP6cnouw-f",
        "colab": {}
      },
      "source": [
        "components = 3\n",
        "pca = PCA(n_components=components)\n",
        "pca.fit(X_pred)"
      ],
      "execution_count": 0,
      "outputs": []
    },
    {
      "cell_type": "code",
      "metadata": {
        "colab_type": "code",
        "id": "_H-hyS_nuna7",
        "colab": {}
      },
      "source": [
        "for d1 in range(components):\n",
        "    for d2 in range(components):\n",
        "        if d1 < d2:\n",
        "            pca_codes = pca.transform(X_pred).T\n",
        "\n",
        "            fig, (ax1, ax2) = plt.subplots(1, 2, figsize=(15, 7.5))\n",
        "            ax1.scatter(pca_codes[d1, :], \n",
        "                        pca_codes[d2, :], \n",
        "                        marker='.', c=targs, s=20, cmap=ListedColormap(['blue','red']))\n",
        "            ax1.set_title('Ground truth: ' + adv_name)\n",
        "            ax1.set(xlabel='PC_'+str(d1), ylabel='PC_'+str(d2))\n",
        "\n",
        "            ax2.scatter(pca_codes[d1, :], \n",
        "                        pca_codes[d2, :], \n",
        "                        marker='.', c=preds, s=20, cmap=ListedColormap(['blue','red']))\n",
        "            ax2.set_title('Predictions: ' + adv_name)\n",
        "            ax2.set(xlabel='PC_'+str(d1), ylabel='PC_'+str(d2))\n",
        "            plt.show()"
      ],
      "execution_count": 0,
      "outputs": []
    },
    {
      "cell_type": "markdown",
      "metadata": {
        "id": "qtwmdNSkO2QB",
        "colab_type": "text"
      },
      "source": [
        "### One-class SVM"
      ]
    },
    {
      "cell_type": "markdown",
      "metadata": {
        "id": "Io7iVIJD7fHB",
        "colab_type": "text"
      },
      "source": [
        "X_train generation."
      ]
    },
    {
      "cell_type": "code",
      "metadata": {
        "id": "XxZDhZ3CDspe",
        "colab_type": "code",
        "colab": {}
      },
      "source": [
        "fix(vae, requires_grad=False)\n",
        "\n",
        "train_batches = gather_batches(adv_path, 300)\n",
        "\n",
        "train_batches = [batcher.insta_batch(batch, vocab) for batch in train_batches]\n",
        "\n",
        "train_codes = []\n",
        "for batch in train_batches:\n",
        "    mu_batch, logvar_batch, _ = vae.encoder(batch)\n",
        "    train_codes += [vae.distribute(mu_batch, logvar_batch)]\n",
        "train_codes = t.cat(train_codes, dim=0).cpu().numpy()"
      ],
      "execution_count": 0,
      "outputs": []
    },
    {
      "cell_type": "markdown",
      "metadata": {
        "id": "uWwzfxxY7kcj",
        "colab_type": "text"
      },
      "source": [
        "X_test generation."
      ]
    },
    {
      "cell_type": "code",
      "metadata": {
        "id": "4oztn8sGwZFj",
        "colab_type": "code",
        "colab": {}
      },
      "source": [
        "fix(vae, requires_grad=False)\n",
        "\n",
        "adv_batches = gather_batches(adv_path, 300)\n",
        "true_batches = gather_batches(test_path, 300)\n",
        "\n",
        "adv_batches = [batcher.insta_batch(batch, vocab) for batch in adv_batches]\n",
        "true_batches = [batcher.insta_batch(batch, vocab) for batch in true_batches]\n",
        "\n",
        "adv_codes = []\n",
        "for batch in adv_batches:\n",
        "    mu_batch, logvar_batch, _ = vae.encoder(batch)\n",
        "    adv_codes += [vae.distribute(mu_batch, logvar_batch)]\n",
        "adv_codes = t.cat(adv_codes, dim=0).cpu().numpy()\n",
        "\n",
        "true_codes = []\n",
        "for batch in true_batches:\n",
        "    mu_batch, logvar_batch, _ = vae.encoder(batch)\n",
        "    true_codes += [vae.distribute(mu_batch, logvar_batch)]\n",
        "true_codes = t.cat(true_codes, dim=0).cpu().numpy()[:adv_codes.shape[0], :]"
      ],
      "execution_count": 0,
      "outputs": []
    },
    {
      "cell_type": "code",
      "metadata": {
        "id": "XlKuxHYEBhgs",
        "colab_type": "code",
        "colab": {}
      },
      "source": [
        "adv_codes.shape, true_codes.shape"
      ],
      "execution_count": 0,
      "outputs": []
    },
    {
      "cell_type": "code",
      "metadata": {
        "id": "4XlS2YKZCOHN",
        "colab_type": "code",
        "colab": {}
      },
      "source": [
        "test_set = np.vstack([adv_codes, true_codes])\n",
        "test_labels = np.array([-1]*adv_codes.shape[0]+[1]*true_codes.shape[0])"
      ],
      "execution_count": 0,
      "outputs": []
    },
    {
      "cell_type": "code",
      "metadata": {
        "id": "8MY97l00bs1Q",
        "colab_type": "code",
        "colab": {}
      },
      "source": [
        "def_components = 4\n",
        "def_pca = PCA(n_components=def_components)\n",
        "def_pca.fit(train_codes)"
      ],
      "execution_count": 0,
      "outputs": []
    },
    {
      "cell_type": "markdown",
      "metadata": {
        "id": "R2sujPLBbn0C",
        "colab_type": "text"
      },
      "source": [
        "OC-SVM"
      ]
    },
    {
      "cell_type": "code",
      "metadata": {
        "id": "oqoj8CZmO42E",
        "colab_type": "code",
        "colab": {}
      },
      "source": [
        "from sklearn.svm import OneClassSVM\n",
        "svm = OneClassSVM(kernel='rbf', coef0=10, gamma='scale', tol=0.0001, max_iter=-1)"
      ],
      "execution_count": 0,
      "outputs": []
    },
    {
      "cell_type": "code",
      "metadata": {
        "id": "80vr01bNPN06",
        "colab_type": "code",
        "colab": {}
      },
      "source": [
        "svm.fit(train_codes)"
      ],
      "execution_count": 0,
      "outputs": []
    },
    {
      "cell_type": "code",
      "metadata": {
        "id": "q2jCIaG-PR4M",
        "colab_type": "code",
        "colab": {}
      },
      "source": [
        "predictions = svm.predict(test_set)"
      ],
      "execution_count": 0,
      "outputs": []
    },
    {
      "cell_type": "code",
      "metadata": {
        "id": "frw8IT-mL8cx",
        "colab_type": "code",
        "colab": {}
      },
      "source": [
        "accuracy = balanced_accuracy_score(test_labels, predictions)\n",
        "precision = average_precision_score(test_labels, predictions)\n",
        "recall = recall_score(test_labels, predictions)\n",
        "f1 = f1_score(test_labels, predictions)"
      ],
      "execution_count": 0,
      "outputs": []
    },
    {
      "cell_type": "code",
      "metadata": {
        "id": "HVbKOsw8MSm3",
        "colab_type": "code",
        "colab": {}
      },
      "source": [
        "print('accuracy:', accuracy)\n",
        "print('precision:', precision)\n",
        "print('recall:', recall)\n",
        "print('f1:', f1)"
      ],
      "execution_count": 0,
      "outputs": []
    },
    {
      "cell_type": "markdown",
      "metadata": {
        "id": "9hSbtbnSNolg",
        "colab_type": "text"
      },
      "source": [
        "Visualization"
      ]
    },
    {
      "cell_type": "code",
      "metadata": {
        "id": "WFb-tAT7HjF8",
        "colab_type": "code",
        "colab": {}
      },
      "source": [
        "import seaborn as sns; sns.set()"
      ],
      "execution_count": 0,
      "outputs": []
    },
    {
      "cell_type": "code",
      "metadata": {
        "id": "GQwjQQlYQosp",
        "colab_type": "code",
        "colab": {}
      },
      "source": [
        "def_map = ListedColormap(['blue','red'])"
      ],
      "execution_count": 0,
      "outputs": []
    },
    {
      "cell_type": "code",
      "metadata": {
        "id": "QkRg1jzOfi0r",
        "colab_type": "code",
        "colab": {}
      },
      "source": [
        "for d1 in range(def_components):\n",
        "    for d2 in range(def_components):\n",
        "        if d1 < d2:\n",
        "            pca_codes = def_pca.transform(test_set).T\n",
        "\n",
        "            fig, (ax1, ax2) = plt.subplots(1, 2, figsize=(15, 7.5))\n",
        "            ax1.scatter(pca_codes[d1, :], \n",
        "                        pca_codes[d2, :], \n",
        "                        marker='.', c=targs, s=20, cmap=def_map)\n",
        "            ax1.set_title('Ground truth')\n",
        "            ax1.set(xlabel='PC_'+str(d1), ylabel='PC_'+str(d2))\n",
        "\n",
        "            ax2.scatter(pca_codes[d1, :], \n",
        "                        pca_codes[d2, :], \n",
        "                        marker='.', c=preds, s=20, cmap=def_map)\n",
        "            ax2.set_title('Predictions')\n",
        "            ax2.set(xlabel='PC_'+str(d1), ylabel='PC_'+str(d2))\n",
        "            plt.show()"
      ],
      "execution_count": 0,
      "outputs": []
    },
    {
      "cell_type": "code",
      "metadata": {
        "id": "lGAMk6CTokM-",
        "colab_type": "code",
        "colab": {}
      },
      "source": [
        "for d1 in range(def_components):\n",
        "    for d2 in range(def_components):\n",
        "        if d1 < d2:\n",
        "            pca_codes = def_pca.transform(test_set).T\n",
        "\n",
        "            plt.figure(figsize=(7.5, 7.5))\n",
        "            plt.scatter(pca_codes[d1, :], \n",
        "                        pca_codes[d2, :], \n",
        "                        marker='.', c=test_labels, s=20, cmap=def_map)\n",
        "            plt.title('Ground truth')\n",
        "            plt.xlabel('PC_'+str(d1)) \n",
        "            plt.ylabel('PC_'+str(d2))\n",
        "            plt.show()"
      ],
      "execution_count": 0,
      "outputs": []
    },
    {
      "cell_type": "code",
      "metadata": {
        "id": "N6XGssSGNS1C",
        "colab_type": "code",
        "colab": {}
      },
      "source": [
        "adv_reviews = []\n",
        "with open(adv_path, 'r') as f:\n",
        "    for line in f:\n",
        "        adv_reviews += [json.loads(line)['review']]"
      ],
      "execution_count": 0,
      "outputs": []
    },
    {
      "cell_type": "code",
      "metadata": {
        "id": "L973lzbpNvy3",
        "colab_type": "code",
        "colab": {}
      },
      "source": [
        "import random\n",
        "\n",
        "how_many = 10\n",
        "start = int(random.random()*len(adv_reviews))\n",
        "\n",
        "adv_reviews[start:start+how_many]"
      ],
      "execution_count": 0,
      "outputs": []
    },
    {
      "cell_type": "markdown",
      "metadata": {
        "id": "c5x0FgIsiWCB",
        "colab_type": "text"
      },
      "source": [
        "# TODO:\n",
        "- PAY ATTENTION: SWITCH fix(model) WITH torch.no_grad()\n",
        "- Add residual connections on half and half of both decoder and encoder.\n",
        "- Try out bach norm instead of layer norm."
      ]
    },
    {
      "cell_type": "code",
      "metadata": {
        "id": "qDInyvw0httz",
        "colab_type": "code",
        "colab": {}
      },
      "source": [
        ""
      ],
      "execution_count": 0,
      "outputs": []
    }
  ]
}